{
  "cells": [
    {
      "cell_type": "markdown",
      "metadata": {
        "id": "7IzCuvHWQJOY"
      },
      "source": [
        "### Exploring Credit Risks\n",
        "\n",
        "This activity is another open exploration of a dataset using both cleaning methods and visualizations.  The data describes customers as good or bad credit risks based on a small set of features specified below.  Your task is to create a Jupyter notebook with an exploration of the data using both your `pandas` cleaning and analysis skills and your visualization skills using `matplotlib`, `seaborn`, and `plotly`.  Your final notebook should be formatted with appropriate headers and markdown cells with written explanations for the code that follows.\n",
        "\n",
        "Post your notebook file in Canvas, as well as a brief (3-4 sentence) description of what you found through your analysis. Respond to your peers with reflections on thier analysis.\n",
        "\n",
        "-----\n"
      ]
    },
    {
      "cell_type": "markdown",
      "metadata": {
        "id": "TxCmGcPsQJOa"
      },
      "source": [
        "##### Data Description\n",
        "\n",
        "```\n",
        "1. Status of existing checking account, in Deutsche Mark.\n",
        "2. Duration in months\n",
        "3. Credit history (credits taken, paid back duly, delays, critical accounts)\n",
        "4. Purpose of the credit (car, television,...)\n",
        "5. Credit amount\n",
        "6. Status of savings account/bonds, in Deutsche Mark.\n",
        "7. Present employment, in number of years.\n",
        "8. Installment rate in percentage of disposable income\n",
        "9. Personal status (married, single,...) and sex\n",
        "10. Other debtors / guarantors\n",
        "11. Present residence since X years\n",
        "12. Property (e.g. real estate)\n",
        "13. Age in years\n",
        "14. Other installment plans (banks, stores)\n",
        "15. Housing (rent, own,...)\n",
        "16. Number of existing credits at this bank\n",
        "17. Job\n",
        "18. Number of people being liable to provide maintenance for\n",
        "19. Telephone (yes,no)\n",
        "20. Foreign worker (yes,no)\n",
        "```"
      ]
    },
    {
      "cell_type": "code",
      "execution_count": 24,
      "metadata": {
        "id": "Skz7a-avQJOb"
      },
      "outputs": [],
      "source": [
        "import pandas as pd\n",
        "import plotly.express as px\n",
        "import seaborn as sns"
      ]
    },
    {
      "cell_type": "code",
      "execution_count": 3,
      "metadata": {
        "id": "sof6XwZnQJOc"
      },
      "outputs": [],
      "source": [
        "df = pd.read_csv('/content/dataset_31_credit-g.csv')\n"
      ]
    },
    {
      "cell_type": "code",
      "execution_count": null,
      "metadata": {
        "id": "DMQfIfIBQJOd",
        "outputId": "54b05b8b-0ca9-496e-e0b6-4cf922348559"
      },
      "outputs": [
        {
          "data": {
            "text/html": [
              "<div>\n",
              "<style scoped>\n",
              "    .dataframe tbody tr th:only-of-type {\n",
              "        vertical-align: middle;\n",
              "    }\n",
              "\n",
              "    .dataframe tbody tr th {\n",
              "        vertical-align: top;\n",
              "    }\n",
              "\n",
              "    .dataframe thead th {\n",
              "        text-align: right;\n",
              "    }\n",
              "</style>\n",
              "<table border=\"1\" class=\"dataframe\">\n",
              "  <thead>\n",
              "    <tr style=\"text-align: right;\">\n",
              "      <th></th>\n",
              "      <th>checking_status</th>\n",
              "      <th>duration</th>\n",
              "      <th>credit_history</th>\n",
              "      <th>purpose</th>\n",
              "      <th>credit_amount</th>\n",
              "      <th>savings_status</th>\n",
              "      <th>employment</th>\n",
              "      <th>installment_commitment</th>\n",
              "      <th>personal_status</th>\n",
              "      <th>other_parties</th>\n",
              "      <th>...</th>\n",
              "      <th>property_magnitude</th>\n",
              "      <th>age</th>\n",
              "      <th>other_payment_plans</th>\n",
              "      <th>housing</th>\n",
              "      <th>existing_credits</th>\n",
              "      <th>job</th>\n",
              "      <th>num_dependents</th>\n",
              "      <th>own_telephone</th>\n",
              "      <th>foreign_worker</th>\n",
              "      <th>class</th>\n",
              "    </tr>\n",
              "  </thead>\n",
              "  <tbody>\n",
              "    <tr>\n",
              "      <th>0</th>\n",
              "      <td>'&lt;0'</td>\n",
              "      <td>6</td>\n",
              "      <td>'critical/other existing credit'</td>\n",
              "      <td>radio/tv</td>\n",
              "      <td>1169</td>\n",
              "      <td>'no known savings'</td>\n",
              "      <td>'&gt;=7'</td>\n",
              "      <td>4</td>\n",
              "      <td>'male single'</td>\n",
              "      <td>none</td>\n",
              "      <td>...</td>\n",
              "      <td>'real estate'</td>\n",
              "      <td>67</td>\n",
              "      <td>none</td>\n",
              "      <td>own</td>\n",
              "      <td>2</td>\n",
              "      <td>skilled</td>\n",
              "      <td>1</td>\n",
              "      <td>yes</td>\n",
              "      <td>yes</td>\n",
              "      <td>good</td>\n",
              "    </tr>\n",
              "    <tr>\n",
              "      <th>1</th>\n",
              "      <td>'0&lt;=X&lt;200'</td>\n",
              "      <td>48</td>\n",
              "      <td>'existing paid'</td>\n",
              "      <td>radio/tv</td>\n",
              "      <td>5951</td>\n",
              "      <td>'&lt;100'</td>\n",
              "      <td>'1&lt;=X&lt;4'</td>\n",
              "      <td>2</td>\n",
              "      <td>'female div/dep/mar'</td>\n",
              "      <td>none</td>\n",
              "      <td>...</td>\n",
              "      <td>'real estate'</td>\n",
              "      <td>22</td>\n",
              "      <td>none</td>\n",
              "      <td>own</td>\n",
              "      <td>1</td>\n",
              "      <td>skilled</td>\n",
              "      <td>1</td>\n",
              "      <td>none</td>\n",
              "      <td>yes</td>\n",
              "      <td>bad</td>\n",
              "    </tr>\n",
              "    <tr>\n",
              "      <th>2</th>\n",
              "      <td>'no checking'</td>\n",
              "      <td>12</td>\n",
              "      <td>'critical/other existing credit'</td>\n",
              "      <td>education</td>\n",
              "      <td>2096</td>\n",
              "      <td>'&lt;100'</td>\n",
              "      <td>'4&lt;=X&lt;7'</td>\n",
              "      <td>2</td>\n",
              "      <td>'male single'</td>\n",
              "      <td>none</td>\n",
              "      <td>...</td>\n",
              "      <td>'real estate'</td>\n",
              "      <td>49</td>\n",
              "      <td>none</td>\n",
              "      <td>own</td>\n",
              "      <td>1</td>\n",
              "      <td>'unskilled resident'</td>\n",
              "      <td>2</td>\n",
              "      <td>none</td>\n",
              "      <td>yes</td>\n",
              "      <td>good</td>\n",
              "    </tr>\n",
              "  </tbody>\n",
              "</table>\n",
              "<p>3 rows × 21 columns</p>\n",
              "</div>"
            ],
            "text/plain": [
              "  checking_status  duration                    credit_history    purpose  \\\n",
              "0            '<0'         6  'critical/other existing credit'   radio/tv   \n",
              "1      '0<=X<200'        48                   'existing paid'   radio/tv   \n",
              "2   'no checking'        12  'critical/other existing credit'  education   \n",
              "\n",
              "   credit_amount      savings_status employment  installment_commitment  \\\n",
              "0           1169  'no known savings'      '>=7'                       4   \n",
              "1           5951              '<100'   '1<=X<4'                       2   \n",
              "2           2096              '<100'   '4<=X<7'                       2   \n",
              "\n",
              "        personal_status other_parties  ...  property_magnitude age  \\\n",
              "0         'male single'          none  ...       'real estate'  67   \n",
              "1  'female div/dep/mar'          none  ...       'real estate'  22   \n",
              "2         'male single'          none  ...       'real estate'  49   \n",
              "\n",
              "   other_payment_plans housing existing_credits                   job  \\\n",
              "0                 none     own                2               skilled   \n",
              "1                 none     own                1               skilled   \n",
              "2                 none     own                1  'unskilled resident'   \n",
              "\n",
              "  num_dependents  own_telephone foreign_worker class  \n",
              "0              1            yes            yes  good  \n",
              "1              1           none            yes   bad  \n",
              "2              2           none            yes  good  \n",
              "\n",
              "[3 rows x 21 columns]"
            ]
          },
          "execution_count": 6,
          "metadata": {},
          "output_type": "execute_result"
        }
      ],
      "source": [
        "df.head(3)"
      ]
    },
    {
      "cell_type": "code",
      "execution_count": 4,
      "metadata": {
        "colab": {
          "base_uri": "https://localhost:8080/"
        },
        "id": "GQTXZKlWQJOd",
        "outputId": "54edbb32-eba1-4645-89da-a2bce3381b8b"
      },
      "outputs": [
        {
          "output_type": "stream",
          "name": "stdout",
          "text": [
            "<class 'pandas.core.frame.DataFrame'>\n",
            "RangeIndex: 1000 entries, 0 to 999\n",
            "Data columns (total 21 columns):\n",
            " #   Column                  Non-Null Count  Dtype \n",
            "---  ------                  --------------  ----- \n",
            " 0   checking_status         1000 non-null   object\n",
            " 1   duration                1000 non-null   int64 \n",
            " 2   credit_history          1000 non-null   object\n",
            " 3   purpose                 1000 non-null   object\n",
            " 4   credit_amount           1000 non-null   int64 \n",
            " 5   savings_status          1000 non-null   object\n",
            " 6   employment              1000 non-null   object\n",
            " 7   installment_commitment  1000 non-null   int64 \n",
            " 8   personal_status         1000 non-null   object\n",
            " 9   other_parties           1000 non-null   object\n",
            " 10  residence_since         1000 non-null   int64 \n",
            " 11  property_magnitude      1000 non-null   object\n",
            " 12  age                     1000 non-null   int64 \n",
            " 13  other_payment_plans     1000 non-null   object\n",
            " 14  housing                 1000 non-null   object\n",
            " 15  existing_credits        1000 non-null   int64 \n",
            " 16  job                     1000 non-null   object\n",
            " 17  num_dependents          1000 non-null   int64 \n",
            " 18  own_telephone           1000 non-null   object\n",
            " 19  foreign_worker          1000 non-null   object\n",
            " 20  class                   1000 non-null   object\n",
            "dtypes: int64(7), object(14)\n",
            "memory usage: 164.2+ KB\n"
          ]
        }
      ],
      "source": [
        "df.info()"
      ]
    },
    {
      "cell_type": "code",
      "source": [
        "df.describe()"
      ],
      "metadata": {
        "colab": {
          "base_uri": "https://localhost:8080/",
          "height": 301
        },
        "id": "lPMI1xePRZWk",
        "outputId": "263366f0-32f9-441a-fbb2-e4502c2d04fd"
      },
      "execution_count": 8,
      "outputs": [
        {
          "output_type": "execute_result",
          "data": {
            "text/plain": [
              "          duration  credit_amount  installment_commitment  residence_since  \\\n",
              "count  1000.000000    1000.000000             1000.000000      1000.000000   \n",
              "mean     20.903000    3271.258000                2.973000         2.845000   \n",
              "std      12.058814    2822.736876                1.118715         1.103718   \n",
              "min       4.000000     250.000000                1.000000         1.000000   \n",
              "25%      12.000000    1365.500000                2.000000         2.000000   \n",
              "50%      18.000000    2319.500000                3.000000         3.000000   \n",
              "75%      24.000000    3972.250000                4.000000         4.000000   \n",
              "max      72.000000   18424.000000                4.000000         4.000000   \n",
              "\n",
              "               age  existing_credits  num_dependents  \n",
              "count  1000.000000       1000.000000     1000.000000  \n",
              "mean     35.546000          1.407000        1.155000  \n",
              "std      11.375469          0.577654        0.362086  \n",
              "min      19.000000          1.000000        1.000000  \n",
              "25%      27.000000          1.000000        1.000000  \n",
              "50%      33.000000          1.000000        1.000000  \n",
              "75%      42.000000          2.000000        1.000000  \n",
              "max      75.000000          4.000000        2.000000  "
            ],
            "text/html": [
              "\n",
              "  <div id=\"df-f23e46b0-808a-495a-a217-957d50dfef18\" class=\"colab-df-container\">\n",
              "    <div>\n",
              "<style scoped>\n",
              "    .dataframe tbody tr th:only-of-type {\n",
              "        vertical-align: middle;\n",
              "    }\n",
              "\n",
              "    .dataframe tbody tr th {\n",
              "        vertical-align: top;\n",
              "    }\n",
              "\n",
              "    .dataframe thead th {\n",
              "        text-align: right;\n",
              "    }\n",
              "</style>\n",
              "<table border=\"1\" class=\"dataframe\">\n",
              "  <thead>\n",
              "    <tr style=\"text-align: right;\">\n",
              "      <th></th>\n",
              "      <th>duration</th>\n",
              "      <th>credit_amount</th>\n",
              "      <th>installment_commitment</th>\n",
              "      <th>residence_since</th>\n",
              "      <th>age</th>\n",
              "      <th>existing_credits</th>\n",
              "      <th>num_dependents</th>\n",
              "    </tr>\n",
              "  </thead>\n",
              "  <tbody>\n",
              "    <tr>\n",
              "      <th>count</th>\n",
              "      <td>1000.000000</td>\n",
              "      <td>1000.000000</td>\n",
              "      <td>1000.000000</td>\n",
              "      <td>1000.000000</td>\n",
              "      <td>1000.000000</td>\n",
              "      <td>1000.000000</td>\n",
              "      <td>1000.000000</td>\n",
              "    </tr>\n",
              "    <tr>\n",
              "      <th>mean</th>\n",
              "      <td>20.903000</td>\n",
              "      <td>3271.258000</td>\n",
              "      <td>2.973000</td>\n",
              "      <td>2.845000</td>\n",
              "      <td>35.546000</td>\n",
              "      <td>1.407000</td>\n",
              "      <td>1.155000</td>\n",
              "    </tr>\n",
              "    <tr>\n",
              "      <th>std</th>\n",
              "      <td>12.058814</td>\n",
              "      <td>2822.736876</td>\n",
              "      <td>1.118715</td>\n",
              "      <td>1.103718</td>\n",
              "      <td>11.375469</td>\n",
              "      <td>0.577654</td>\n",
              "      <td>0.362086</td>\n",
              "    </tr>\n",
              "    <tr>\n",
              "      <th>min</th>\n",
              "      <td>4.000000</td>\n",
              "      <td>250.000000</td>\n",
              "      <td>1.000000</td>\n",
              "      <td>1.000000</td>\n",
              "      <td>19.000000</td>\n",
              "      <td>1.000000</td>\n",
              "      <td>1.000000</td>\n",
              "    </tr>\n",
              "    <tr>\n",
              "      <th>25%</th>\n",
              "      <td>12.000000</td>\n",
              "      <td>1365.500000</td>\n",
              "      <td>2.000000</td>\n",
              "      <td>2.000000</td>\n",
              "      <td>27.000000</td>\n",
              "      <td>1.000000</td>\n",
              "      <td>1.000000</td>\n",
              "    </tr>\n",
              "    <tr>\n",
              "      <th>50%</th>\n",
              "      <td>18.000000</td>\n",
              "      <td>2319.500000</td>\n",
              "      <td>3.000000</td>\n",
              "      <td>3.000000</td>\n",
              "      <td>33.000000</td>\n",
              "      <td>1.000000</td>\n",
              "      <td>1.000000</td>\n",
              "    </tr>\n",
              "    <tr>\n",
              "      <th>75%</th>\n",
              "      <td>24.000000</td>\n",
              "      <td>3972.250000</td>\n",
              "      <td>4.000000</td>\n",
              "      <td>4.000000</td>\n",
              "      <td>42.000000</td>\n",
              "      <td>2.000000</td>\n",
              "      <td>1.000000</td>\n",
              "    </tr>\n",
              "    <tr>\n",
              "      <th>max</th>\n",
              "      <td>72.000000</td>\n",
              "      <td>18424.000000</td>\n",
              "      <td>4.000000</td>\n",
              "      <td>4.000000</td>\n",
              "      <td>75.000000</td>\n",
              "      <td>4.000000</td>\n",
              "      <td>2.000000</td>\n",
              "    </tr>\n",
              "  </tbody>\n",
              "</table>\n",
              "</div>\n",
              "    <div class=\"colab-df-buttons\">\n",
              "\n",
              "  <div class=\"colab-df-container\">\n",
              "    <button class=\"colab-df-convert\" onclick=\"convertToInteractive('df-f23e46b0-808a-495a-a217-957d50dfef18')\"\n",
              "            title=\"Convert this dataframe to an interactive table.\"\n",
              "            style=\"display:none;\">\n",
              "\n",
              "  <svg xmlns=\"http://www.w3.org/2000/svg\" height=\"24px\" viewBox=\"0 -960 960 960\">\n",
              "    <path d=\"M120-120v-720h720v720H120Zm60-500h600v-160H180v160Zm220 220h160v-160H400v160Zm0 220h160v-160H400v160ZM180-400h160v-160H180v160Zm440 0h160v-160H620v160ZM180-180h160v-160H180v160Zm440 0h160v-160H620v160Z\"/>\n",
              "  </svg>\n",
              "    </button>\n",
              "\n",
              "  <style>\n",
              "    .colab-df-container {\n",
              "      display:flex;\n",
              "      gap: 12px;\n",
              "    }\n",
              "\n",
              "    .colab-df-convert {\n",
              "      background-color: #E8F0FE;\n",
              "      border: none;\n",
              "      border-radius: 50%;\n",
              "      cursor: pointer;\n",
              "      display: none;\n",
              "      fill: #1967D2;\n",
              "      height: 32px;\n",
              "      padding: 0 0 0 0;\n",
              "      width: 32px;\n",
              "    }\n",
              "\n",
              "    .colab-df-convert:hover {\n",
              "      background-color: #E2EBFA;\n",
              "      box-shadow: 0px 1px 2px rgba(60, 64, 67, 0.3), 0px 1px 3px 1px rgba(60, 64, 67, 0.15);\n",
              "      fill: #174EA6;\n",
              "    }\n",
              "\n",
              "    .colab-df-buttons div {\n",
              "      margin-bottom: 4px;\n",
              "    }\n",
              "\n",
              "    [theme=dark] .colab-df-convert {\n",
              "      background-color: #3B4455;\n",
              "      fill: #D2E3FC;\n",
              "    }\n",
              "\n",
              "    [theme=dark] .colab-df-convert:hover {\n",
              "      background-color: #434B5C;\n",
              "      box-shadow: 0px 1px 3px 1px rgba(0, 0, 0, 0.15);\n",
              "      filter: drop-shadow(0px 1px 2px rgba(0, 0, 0, 0.3));\n",
              "      fill: #FFFFFF;\n",
              "    }\n",
              "  </style>\n",
              "\n",
              "    <script>\n",
              "      const buttonEl =\n",
              "        document.querySelector('#df-f23e46b0-808a-495a-a217-957d50dfef18 button.colab-df-convert');\n",
              "      buttonEl.style.display =\n",
              "        google.colab.kernel.accessAllowed ? 'block' : 'none';\n",
              "\n",
              "      async function convertToInteractive(key) {\n",
              "        const element = document.querySelector('#df-f23e46b0-808a-495a-a217-957d50dfef18');\n",
              "        const dataTable =\n",
              "          await google.colab.kernel.invokeFunction('convertToInteractive',\n",
              "                                                    [key], {});\n",
              "        if (!dataTable) return;\n",
              "\n",
              "        const docLinkHtml = 'Like what you see? Visit the ' +\n",
              "          '<a target=\"_blank\" href=https://colab.research.google.com/notebooks/data_table.ipynb>data table notebook</a>'\n",
              "          + ' to learn more about interactive tables.';\n",
              "        element.innerHTML = '';\n",
              "        dataTable['output_type'] = 'display_data';\n",
              "        await google.colab.output.renderOutput(dataTable, element);\n",
              "        const docLink = document.createElement('div');\n",
              "        docLink.innerHTML = docLinkHtml;\n",
              "        element.appendChild(docLink);\n",
              "      }\n",
              "    </script>\n",
              "  </div>\n",
              "\n",
              "\n",
              "<div id=\"df-fec5c2b7-4481-4c5e-aa95-3f0283c01b60\">\n",
              "  <button class=\"colab-df-quickchart\" onclick=\"quickchart('df-fec5c2b7-4481-4c5e-aa95-3f0283c01b60')\"\n",
              "            title=\"Suggest charts\"\n",
              "            style=\"display:none;\">\n",
              "\n",
              "<svg xmlns=\"http://www.w3.org/2000/svg\" height=\"24px\"viewBox=\"0 0 24 24\"\n",
              "     width=\"24px\">\n",
              "    <g>\n",
              "        <path d=\"M19 3H5c-1.1 0-2 .9-2 2v14c0 1.1.9 2 2 2h14c1.1 0 2-.9 2-2V5c0-1.1-.9-2-2-2zM9 17H7v-7h2v7zm4 0h-2V7h2v10zm4 0h-2v-4h2v4z\"/>\n",
              "    </g>\n",
              "</svg>\n",
              "  </button>\n",
              "\n",
              "<style>\n",
              "  .colab-df-quickchart {\n",
              "      --bg-color: #E8F0FE;\n",
              "      --fill-color: #1967D2;\n",
              "      --hover-bg-color: #E2EBFA;\n",
              "      --hover-fill-color: #174EA6;\n",
              "      --disabled-fill-color: #AAA;\n",
              "      --disabled-bg-color: #DDD;\n",
              "  }\n",
              "\n",
              "  [theme=dark] .colab-df-quickchart {\n",
              "      --bg-color: #3B4455;\n",
              "      --fill-color: #D2E3FC;\n",
              "      --hover-bg-color: #434B5C;\n",
              "      --hover-fill-color: #FFFFFF;\n",
              "      --disabled-bg-color: #3B4455;\n",
              "      --disabled-fill-color: #666;\n",
              "  }\n",
              "\n",
              "  .colab-df-quickchart {\n",
              "    background-color: var(--bg-color);\n",
              "    border: none;\n",
              "    border-radius: 50%;\n",
              "    cursor: pointer;\n",
              "    display: none;\n",
              "    fill: var(--fill-color);\n",
              "    height: 32px;\n",
              "    padding: 0;\n",
              "    width: 32px;\n",
              "  }\n",
              "\n",
              "  .colab-df-quickchart:hover {\n",
              "    background-color: var(--hover-bg-color);\n",
              "    box-shadow: 0 1px 2px rgba(60, 64, 67, 0.3), 0 1px 3px 1px rgba(60, 64, 67, 0.15);\n",
              "    fill: var(--button-hover-fill-color);\n",
              "  }\n",
              "\n",
              "  .colab-df-quickchart-complete:disabled,\n",
              "  .colab-df-quickchart-complete:disabled:hover {\n",
              "    background-color: var(--disabled-bg-color);\n",
              "    fill: var(--disabled-fill-color);\n",
              "    box-shadow: none;\n",
              "  }\n",
              "\n",
              "  .colab-df-spinner {\n",
              "    border: 2px solid var(--fill-color);\n",
              "    border-color: transparent;\n",
              "    border-bottom-color: var(--fill-color);\n",
              "    animation:\n",
              "      spin 1s steps(1) infinite;\n",
              "  }\n",
              "\n",
              "  @keyframes spin {\n",
              "    0% {\n",
              "      border-color: transparent;\n",
              "      border-bottom-color: var(--fill-color);\n",
              "      border-left-color: var(--fill-color);\n",
              "    }\n",
              "    20% {\n",
              "      border-color: transparent;\n",
              "      border-left-color: var(--fill-color);\n",
              "      border-top-color: var(--fill-color);\n",
              "    }\n",
              "    30% {\n",
              "      border-color: transparent;\n",
              "      border-left-color: var(--fill-color);\n",
              "      border-top-color: var(--fill-color);\n",
              "      border-right-color: var(--fill-color);\n",
              "    }\n",
              "    40% {\n",
              "      border-color: transparent;\n",
              "      border-right-color: var(--fill-color);\n",
              "      border-top-color: var(--fill-color);\n",
              "    }\n",
              "    60% {\n",
              "      border-color: transparent;\n",
              "      border-right-color: var(--fill-color);\n",
              "    }\n",
              "    80% {\n",
              "      border-color: transparent;\n",
              "      border-right-color: var(--fill-color);\n",
              "      border-bottom-color: var(--fill-color);\n",
              "    }\n",
              "    90% {\n",
              "      border-color: transparent;\n",
              "      border-bottom-color: var(--fill-color);\n",
              "    }\n",
              "  }\n",
              "</style>\n",
              "\n",
              "  <script>\n",
              "    async function quickchart(key) {\n",
              "      const quickchartButtonEl =\n",
              "        document.querySelector('#' + key + ' button');\n",
              "      quickchartButtonEl.disabled = true;  // To prevent multiple clicks.\n",
              "      quickchartButtonEl.classList.add('colab-df-spinner');\n",
              "      try {\n",
              "        const charts = await google.colab.kernel.invokeFunction(\n",
              "            'suggestCharts', [key], {});\n",
              "      } catch (error) {\n",
              "        console.error('Error during call to suggestCharts:', error);\n",
              "      }\n",
              "      quickchartButtonEl.classList.remove('colab-df-spinner');\n",
              "      quickchartButtonEl.classList.add('colab-df-quickchart-complete');\n",
              "    }\n",
              "    (() => {\n",
              "      let quickchartButtonEl =\n",
              "        document.querySelector('#df-fec5c2b7-4481-4c5e-aa95-3f0283c01b60 button');\n",
              "      quickchartButtonEl.style.display =\n",
              "        google.colab.kernel.accessAllowed ? 'block' : 'none';\n",
              "    })();\n",
              "  </script>\n",
              "</div>\n",
              "\n",
              "    </div>\n",
              "  </div>\n"
            ],
            "application/vnd.google.colaboratory.intrinsic+json": {
              "type": "dataframe",
              "summary": "{\n  \"name\": \"df\",\n  \"rows\": 8,\n  \"fields\": [\n    {\n      \"column\": \"duration\",\n      \"properties\": {\n        \"dtype\": \"number\",\n        \"std\": 345.9492794534647,\n        \"min\": 4.0,\n        \"max\": 1000.0,\n        \"samples\": [\n          20.903,\n          18.0,\n          1000.0\n        ],\n        \"num_unique_values\": 8,\n        \"semantic_type\": \"\",\n        \"description\": \"\"\n      }\n    },\n    {\n      \"column\": \"credit_amount\",\n      \"properties\": {\n        \"dtype\": \"number\",\n        \"std\": 5886.3378690311465,\n        \"min\": 250.0,\n        \"max\": 18424.0,\n        \"samples\": [\n          3271.258,\n          2319.5,\n          1000.0\n        ],\n        \"num_unique_values\": 8,\n        \"semantic_type\": \"\",\n        \"description\": \"\"\n      }\n    },\n    {\n      \"column\": \"installment_commitment\",\n      \"properties\": {\n        \"dtype\": \"number\",\n        \"std\": 352.64151117276157,\n        \"min\": 1.0,\n        \"max\": 1000.0,\n        \"samples\": [\n          1000.0,\n          2.973,\n          3.0\n        ],\n        \"num_unique_values\": 7,\n        \"semantic_type\": \"\",\n        \"description\": \"\"\n      }\n    },\n    {\n      \"column\": \"residence_since\",\n      \"properties\": {\n        \"dtype\": \"number\",\n        \"std\": 352.64872509644107,\n        \"min\": 1.0,\n        \"max\": 1000.0,\n        \"samples\": [\n          1000.0,\n          2.845,\n          3.0\n        ],\n        \"num_unique_values\": 7,\n        \"semantic_type\": \"\",\n        \"description\": \"\"\n      }\n    },\n    {\n      \"column\": \"age\",\n      \"properties\": {\n        \"dtype\": \"number\",\n        \"std\": 341.8132734342618,\n        \"min\": 11.375468574317512,\n        \"max\": 1000.0,\n        \"samples\": [\n          35.546,\n          33.0,\n          1000.0\n        ],\n        \"num_unique_values\": 8,\n        \"semantic_type\": \"\",\n        \"description\": \"\"\n      }\n    },\n    {\n      \"column\": \"existing_credits\",\n      \"properties\": {\n        \"dtype\": \"number\",\n        \"std\": 353.0002158816418,\n        \"min\": 0.5776544682461002,\n        \"max\": 1000.0,\n        \"samples\": [\n          1000.0,\n          1.407,\n          4.0\n        ],\n        \"num_unique_values\": 6,\n        \"semantic_type\": \"\",\n        \"description\": \"\"\n      }\n    },\n    {\n      \"column\": \"num_dependents\",\n      \"properties\": {\n        \"dtype\": \"number\",\n        \"std\": 353.1740021102215,\n        \"min\": 0.36208577175319395,\n        \"max\": 1000.0,\n        \"samples\": [\n          1.155,\n          2.0,\n          0.36208577175319395\n        ],\n        \"num_unique_values\": 5,\n        \"semantic_type\": \"\",\n        \"description\": \"\"\n      }\n    }\n  ]\n}"
            }
          },
          "metadata": {},
          "execution_count": 8
        }
      ]
    },
    {
      "cell_type": "markdown",
      "source": [
        "- averaging 21 months of credit duration with a significant standard deviation, implying a wide range of customer creditworthiness.\n",
        "- averaging age of 35.5 years old with a moderate spread, so the customers are relative young to middle ages.\n",
        "- credit amount that lended to customer has an averaging of 3271. With a high spread, this implies that lending amount is different across different customer.\n"
      ],
      "metadata": {
        "id": "68eeFNOBU411"
      }
    },
    {
      "cell_type": "markdown",
      "source": [
        "let's check the column names"
      ],
      "metadata": {
        "id": "k276zxH5SVqb"
      }
    },
    {
      "cell_type": "code",
      "source": [
        "df.columns"
      ],
      "metadata": {
        "colab": {
          "base_uri": "https://localhost:8080/"
        },
        "id": "eXb17S6DRQMS",
        "outputId": "aa4b4373-94d5-4537-854f-028c3f7e76ab"
      },
      "execution_count": 7,
      "outputs": [
        {
          "output_type": "execute_result",
          "data": {
            "text/plain": [
              "Index(['checking_status', 'duration', 'credit_history', 'purpose',\n",
              "       'credit_amount', 'savings_status', 'employment',\n",
              "       'installment_commitment', 'personal_status', 'other_parties',\n",
              "       'residence_since', 'property_magnitude', 'age', 'other_payment_plans',\n",
              "       'housing', 'existing_credits', 'job', 'num_dependents', 'own_telephone',\n",
              "       'foreign_worker', 'class'],\n",
              "      dtype='object')"
            ]
          },
          "metadata": {},
          "execution_count": 7
        }
      ]
    },
    {
      "cell_type": "markdown",
      "source": [
        "let's check if there is missing values"
      ],
      "metadata": {
        "id": "lb0EWARwSfwF"
      }
    },
    {
      "cell_type": "code",
      "source": [
        "df.isnull().sum()"
      ],
      "metadata": {
        "colab": {
          "base_uri": "https://localhost:8080/"
        },
        "id": "Jze5GYOKSoNW",
        "outputId": "2eee06f8-6481-4ef5-8b60-4e488cbe8f80"
      },
      "execution_count": 14,
      "outputs": [
        {
          "output_type": "execute_result",
          "data": {
            "text/plain": [
              "checking_status           0\n",
              "duration                  0\n",
              "credit_history            0\n",
              "purpose                   0\n",
              "credit_amount             0\n",
              "savings_status            0\n",
              "employment                0\n",
              "installment_commitment    0\n",
              "personal_status           0\n",
              "other_parties             0\n",
              "residence_since           0\n",
              "property_magnitude        0\n",
              "age                       0\n",
              "other_payment_plans       0\n",
              "housing                   0\n",
              "existing_credits          0\n",
              "job                       0\n",
              "num_dependents            0\n",
              "own_telephone             0\n",
              "foreign_worker            0\n",
              "class                     0\n",
              "dtype: int64"
            ]
          },
          "metadata": {},
          "execution_count": 14
        }
      ]
    },
    {
      "cell_type": "markdown",
      "source": [
        "check if the df has duplicated values"
      ],
      "metadata": {
        "id": "VjS9zXYkS5wg"
      }
    },
    {
      "cell_type": "code",
      "source": [
        "df.duplicated()"
      ],
      "metadata": {
        "colab": {
          "base_uri": "https://localhost:8080/"
        },
        "id": "aFyvjGVNSv9P",
        "outputId": "ae9f7077-907c-4fda-ec77-c820fd3e28c9"
      },
      "execution_count": 16,
      "outputs": [
        {
          "output_type": "execute_result",
          "data": {
            "text/plain": [
              "0      False\n",
              "1      False\n",
              "2      False\n",
              "3      False\n",
              "4      False\n",
              "       ...  \n",
              "995    False\n",
              "996    False\n",
              "997    False\n",
              "998    False\n",
              "999    False\n",
              "Length: 1000, dtype: bool"
            ]
          },
          "metadata": {},
          "execution_count": 16
        }
      ]
    },
    {
      "cell_type": "code",
      "execution_count": 65,
      "metadata": {
        "colab": {
          "base_uri": "https://localhost:8080/",
          "height": 542
        },
        "id": "eDvnxjcGQJOe",
        "outputId": "31d921bb-2039-4b4a-bd7a-b08d05cea25b"
      },
      "outputs": [
        {
          "output_type": "display_data",
          "data": {
            "text/html": [
              "<html>\n",
              "<head><meta charset=\"utf-8\" /></head>\n",
              "<body>\n",
              "    <div>            <script src=\"https://cdnjs.cloudflare.com/ajax/libs/mathjax/2.7.5/MathJax.js?config=TeX-AMS-MML_SVG\"></script><script type=\"text/javascript\">if (window.MathJax && window.MathJax.Hub && window.MathJax.Hub.Config) {window.MathJax.Hub.Config({SVG: {font: \"STIX-Web\"}});}</script>                <script type=\"text/javascript\">window.PlotlyConfig = {MathJaxConfig: 'local'};</script>\n",
              "        <script charset=\"utf-8\" src=\"https://cdn.plot.ly/plotly-2.24.1.min.js\"></script>                <div id=\"18ee0633-ce43-43c5-979c-a721fd8daab2\" class=\"plotly-graph-div\" style=\"height:525px; width:100%;\"></div>            <script type=\"text/javascript\">                                    window.PLOTLYENV=window.PLOTLYENV || {};                                    if (document.getElementById(\"18ee0633-ce43-43c5-979c-a721fd8daab2\")) {                    Plotly.newPlot(                        \"18ee0633-ce43-43c5-979c-a721fd8daab2\",                        [{\"alignmentgroup\":\"True\",\"bingroup\":\"x\",\"hovertemplate\":\"class=good\\u003cbr\\u003epurpose=%{x}\\u003cbr\\u003ecount=%{y}\\u003cextra\\u003e\\u003c\\u002fextra\\u003e\",\"legendgroup\":\"good\",\"marker\":{\"color\":\"#636efa\",\"pattern\":{\"shape\":\"\"}},\"name\":\"good\",\"offsetgroup\":\"good\",\"orientation\":\"v\",\"showlegend\":true,\"x\":[\"radio\\u002ftv\",\"education\",\"furniture\\u002fequipment\",\"education\",\"furniture\\u002fequipment\",\"'used car'\",\"radio\\u002ftv\",\"radio\\u002ftv\",\"'new car'\",\"radio\\u002ftv\",\"business\",\"radio\\u002ftv\",\"'new car'\",\"radio\\u002ftv\",\"'new car'\",\"'used car'\",\"furniture\\u002fequipment\",\"furniture\\u002fequipment\",\"radio\\u002ftv\",\"radio\\u002ftv\",\"radio\\u002ftv\",\"business\",\"furniture\\u002fequipment\",\"'new car'\",\"business\",\"furniture\\u002fequipment\",\"education\",\"'domestic appliance'\",\"radio\\u002ftv\",\"radio\\u002ftv\",\"radio\\u002ftv\",\"repairs\",\"'used car'\",\"'new car'\",\"radio\\u002ftv\",\"'used car'\",\"'new car'\",\"radio\\u002ftv\",\"furniture\\u002fequipment\",\"'used car'\",\"radio\\u002ftv\",\"'used car'\",\"'new car'\",\"radio\\u002ftv\",\"'new car'\",\"business\",\"radio\\u002ftv\",\"radio\\u002ftv\",\"repairs\",\"radio\\u002ftv\",\"'new car'\",\"radio\\u002ftv\",\"'used car'\",\"radio\\u002ftv\",\"other\",\"business\",\"'used car'\",\"radio\\u002ftv\",\"'used car'\",\"furniture\\u002fequipment\",\"radio\\u002ftv\",\"business\",\"other\",\"radio\\u002ftv\",\"business\",\"furniture\\u002fequipment\",\"'new car'\",\"radio\\u002ftv\",\"'used car'\",\"furniture\\u002fequipment\",\"'new car'\",\"education\",\"business\",\"radio\\u002ftv\",\"'used car'\",\"'new car'\",\"radio\\u002ftv\",\"radio\\u002ftv\",\"furniture\\u002fequipment\",\"'used car'\",\"'new car'\",\"furniture\\u002fequipment\",\"business\",\"business\",\"education\",\"'new car'\",\"radio\\u002ftv\",\"radio\\u002ftv\",\"furniture\\u002fequipment\",\"'new car'\",\"'used car'\",\"furniture\\u002fequipment\",\"'new car'\",\"'new car'\",\"radio\\u002ftv\",\"'used car'\",\"'new car'\",\"furniture\\u002fequipment\",\"furniture\\u002fequipment\",\"radio\\u002ftv\",\"radio\\u002ftv\",\"'used car'\",\"radio\\u002ftv\",\"radio\\u002ftv\",\"'new car'\",\"radio\\u002ftv\",\"radio\\u002ftv\",\"furniture\\u002fequipment\",\"business\",\"'new car'\",\"'new car'\",\"furniture\\u002fequipment\",\"radio\\u002ftv\",\"radio\\u002ftv\",\"radio\\u002ftv\",\"radio\\u002ftv\",\"'used car'\",\"business\",\"repairs\",\"retraining\",\"'new car'\",\"radio\\u002ftv\",\"radio\\u002ftv\",\"'new car'\",\"'domestic appliance'\",\"'new car'\",\"'new car'\",\"furniture\\u002fequipment\",\"furniture\\u002fequipment\",\"furniture\\u002fequipment\",\"furniture\\u002fequipment\",\"radio\\u002ftv\",\"furniture\\u002fequipment\",\"radio\\u002ftv\",\"radio\\u002ftv\",\"'new car'\",\"furniture\\u002fequipment\",\"radio\\u002ftv\",\"'new car'\",\"furniture\\u002fequipment\",\"radio\\u002ftv\",\"radio\\u002ftv\",\"'used car'\",\"education\",\"'new car'\",\"business\",\"'new car'\",\"'used car'\",\"furniture\\u002fequipment\",\"'domestic appliance'\",\"business\",\"'used car'\",\"radio\\u002ftv\",\"radio\\u002ftv\",\"radio\\u002ftv\",\"retraining\",\"business\",\"radio\\u002ftv\",\"furniture\\u002fequipment\",\"'new car'\",\"radio\\u002ftv\",\"education\",\"radio\\u002ftv\",\"business\",\"'used car'\",\"repairs\",\"furniture\\u002fequipment\",\"'new car'\",\"radio\\u002ftv\",\"radio\\u002ftv\",\"radio\\u002ftv\",\"radio\\u002ftv\",\"radio\\u002ftv\",\"radio\\u002ftv\",\"business\",\"retraining\",\"business\",\"radio\\u002ftv\",\"'new car'\",\"furniture\\u002fequipment\",\"'new car'\",\"furniture\\u002fequipment\",\"furniture\\u002fequipment\",\"furniture\\u002fequipment\",\"radio\\u002ftv\",\"radio\\u002ftv\",\"'used car'\",\"radio\\u002ftv\",\"furniture\\u002fequipment\",\"radio\\u002ftv\",\"'new car'\",\"education\",\"'new car'\",\"business\",\"radio\\u002ftv\",\"radio\\u002ftv\",\"'new car'\",\"furniture\\u002fequipment\",\"'new car'\",\"radio\\u002ftv\",\"radio\\u002ftv\",\"furniture\\u002fequipment\",\"radio\\u002ftv\",\"'used car'\",\"furniture\\u002fequipment\",\"radio\\u002ftv\",\"furniture\\u002fequipment\",\"'new car'\",\"'new car'\",\"'used car'\",\"other\",\"radio\\u002ftv\",\"business\",\"'used car'\",\"'used car'\",\"business\",\"'used car'\",\"'new car'\",\"furniture\\u002fequipment\",\"furniture\\u002fequipment\",\"'new car'\",\"'new car'\",\"furniture\\u002fequipment\",\"'used car'\",\"'new car'\",\"other\",\"furniture\\u002fequipment\",\"furniture\\u002fequipment\",\"'new car'\",\"furniture\\u002fequipment\",\"furniture\\u002fequipment\",\"education\",\"furniture\\u002fequipment\",\"'used car'\",\"furniture\\u002fequipment\",\"'new car'\",\"'new car'\",\"furniture\\u002fequipment\",\"'new car'\",\"radio\\u002ftv\",\"radio\\u002ftv\",\"'used car'\",\"radio\\u002ftv\",\"furniture\\u002fequipment\",\"furniture\\u002fequipment\",\"education\",\"furniture\\u002fequipment\",\"radio\\u002ftv\",\"business\",\"'new car'\",\"radio\\u002ftv\",\"radio\\u002ftv\",\"radio\\u002ftv\",\"business\",\"'domestic appliance'\",\"'used car'\",\"education\",\"radio\\u002ftv\",\"radio\\u002ftv\",\"education\",\"radio\\u002ftv\",\"'new car'\",\"furniture\\u002fequipment\",\"business\",\"'used car'\",\"furniture\\u002fequipment\",\"furniture\\u002fequipment\",\"'new car'\",\"radio\\u002ftv\",\"furniture\\u002fequipment\",\"'new car'\",\"radio\\u002ftv\",\"radio\\u002ftv\",\"'new car'\",\"furniture\\u002fequipment\",\"'new car'\",\"'new car'\",\"business\",\"radio\\u002ftv\",\"radio\\u002ftv\",\"furniture\\u002fequipment\",\"business\",\"business\",\"'new car'\",\"furniture\\u002fequipment\",\"'new car'\",\"radio\\u002ftv\",\"furniture\\u002fequipment\",\"education\",\"furniture\\u002fequipment\",\"furniture\\u002fequipment\",\"radio\\u002ftv\",\"radio\\u002ftv\",\"business\",\"'new car'\",\"'new car'\",\"'used car'\",\"radio\\u002ftv\",\"radio\\u002ftv\",\"radio\\u002ftv\",\"'used car'\",\"'new car'\",\"'used car'\",\"education\",\"'new car'\",\"'new car'\",\"'used car'\",\"'new car'\",\"furniture\\u002fequipment\",\"'used car'\",\"radio\\u002ftv\",\"radio\\u002ftv\",\"furniture\\u002fequipment\",\"business\",\"furniture\\u002fequipment\",\"repairs\",\"furniture\\u002fequipment\",\"repairs\",\"'new car'\",\"repairs\",\"'new car'\",\"furniture\\u002fequipment\",\"other\",\"education\",\"radio\\u002ftv\",\"furniture\\u002fequipment\",\"'used car'\",\"radio\\u002ftv\",\"furniture\\u002fequipment\",\"'used car'\",\"'used car'\",\"'new car'\",\"'domestic appliance'\",\"radio\\u002ftv\",\"furniture\\u002fequipment\",\"'new car'\",\"furniture\\u002fequipment\",\"retraining\",\"business\",\"'used car'\",\"radio\\u002ftv\",\"business\",\"'used car'\",\"retraining\",\"'used car'\",\"radio\\u002ftv\",\"business\",\"furniture\\u002fequipment\",\"radio\\u002ftv\",\"'new car'\",\"furniture\\u002fequipment\",\"furniture\\u002fequipment\",\"'new car'\",\"radio\\u002ftv\",\"'new car'\",\"'new car'\",\"'new car'\",\"radio\\u002ftv\",\"radio\\u002ftv\",\"radio\\u002ftv\",\"'new car'\",\"furniture\\u002fequipment\",\"radio\\u002ftv\",\"'new car'\",\"'used car'\",\"radio\\u002ftv\",\"'used car'\",\"radio\\u002ftv\",\"'used car'\",\"'used car'\",\"business\",\"radio\\u002ftv\",\"'new car'\",\"'new car'\",\"'new car'\",\"'new car'\",\"radio\\u002ftv\",\"repairs\",\"'used car'\",\"radio\\u002ftv\",\"'used car'\",\"education\",\"radio\\u002ftv\",\"'new car'\",\"education\",\"'used car'\",\"radio\\u002ftv\",\"radio\\u002ftv\",\"'new car'\",\"furniture\\u002fequipment\",\"furniture\\u002fequipment\",\"'new car'\",\"'new car'\",\"'new car'\",\"radio\\u002ftv\",\"'used car'\",\"repairs\",\"radio\\u002ftv\",\"'new car'\",\"education\",\"'used car'\",\"radio\\u002ftv\",\"business\",\"radio\\u002ftv\",\"radio\\u002ftv\",\"radio\\u002ftv\",\"radio\\u002ftv\",\"'used car'\",\"business\",\"radio\\u002ftv\",\"furniture\\u002fequipment\",\"radio\\u002ftv\",\"education\",\"retraining\",\"'new car'\",\"furniture\\u002fequipment\",\"'new car'\",\"'new car'\",\"furniture\\u002fequipment\",\"radio\\u002ftv\",\"'new car'\",\"business\",\"business\",\"radio\\u002ftv\",\"furniture\\u002fequipment\",\"furniture\\u002fequipment\",\"business\",\"radio\\u002ftv\",\"'used car'\",\"radio\\u002ftv\",\"'used car'\",\"business\",\"radio\\u002ftv\",\"'new car'\",\"'new car'\",\"business\",\"furniture\\u002fequipment\",\"radio\\u002ftv\",\"furniture\\u002fequipment\",\"furniture\\u002fequipment\",\"education\",\"radio\\u002ftv\",\"radio\\u002ftv\",\"education\",\"radio\\u002ftv\",\"radio\\u002ftv\",\"radio\\u002ftv\",\"repairs\",\"radio\\u002ftv\",\"radio\\u002ftv\",\"furniture\\u002fequipment\",\"education\",\"'used car'\",\"'new car'\",\"radio\\u002ftv\",\"business\",\"furniture\\u002fequipment\",\"radio\\u002ftv\",\"furniture\\u002fequipment\",\"furniture\\u002fequipment\",\"education\",\"other\",\"furniture\\u002fequipment\",\"business\",\"radio\\u002ftv\",\"business\",\"business\",\"'new car'\",\"'new car'\",\"radio\\u002ftv\",\"furniture\\u002fequipment\",\"radio\\u002ftv\",\"radio\\u002ftv\",\"education\",\"radio\\u002ftv\",\"radio\\u002ftv\",\"radio\\u002ftv\",\"business\",\"'new car'\",\"radio\\u002ftv\",\"'new car'\",\"radio\\u002ftv\",\"'new car'\",\"furniture\\u002fequipment\",\"repairs\",\"radio\\u002ftv\",\"'new car'\",\"radio\\u002ftv\",\"'used car'\",\"radio\\u002ftv\",\"'new car'\",\"radio\\u002ftv\",\"education\",\"radio\\u002ftv\",\"business\",\"business\",\"'new car'\",\"radio\\u002ftv\",\"radio\\u002ftv\",\"radio\\u002ftv\",\"'used car'\",\"radio\\u002ftv\",\"'used car'\",\"radio\\u002ftv\",\"radio\\u002ftv\",\"radio\\u002ftv\",\"'used car'\",\"radio\\u002ftv\",\"'new car'\",\"radio\\u002ftv\",\"business\",\"radio\\u002ftv\",\"radio\\u002ftv\",\"'used car'\",\"'new car'\",\"'domestic appliance'\",\"'new car'\",\"'new car'\",\"'new car'\",\"radio\\u002ftv\",\"radio\\u002ftv\",\"furniture\\u002fequipment\",\"furniture\\u002fequipment\",\"business\",\"'new car'\",\"'used car'\",\"'used car'\",\"furniture\\u002fequipment\",\"business\",\"radio\\u002ftv\",\"'new car'\",\"'new car'\",\"'new car'\",\"radio\\u002ftv\",\"'new car'\",\"radio\\u002ftv\",\"'used car'\",\"furniture\\u002fequipment\",\"radio\\u002ftv\",\"'used car'\",\"'used car'\",\"radio\\u002ftv\",\"'new car'\",\"'new car'\",\"radio\\u002ftv\",\"'used car'\",\"repairs\",\"'new car'\",\"retraining\",\"'used car'\",\"business\",\"radio\\u002ftv\",\"'used car'\",\"'used car'\",\"furniture\\u002fequipment\",\"furniture\\u002fequipment\",\"furniture\\u002fequipment\",\"furniture\\u002fequipment\",\"furniture\\u002fequipment\",\"'new car'\",\"'new car'\",\"education\",\"radio\\u002ftv\",\"furniture\\u002fequipment\",\"radio\\u002ftv\",\"'new car'\",\"radio\\u002ftv\",\"radio\\u002ftv\",\"'used car'\",\"business\",\"radio\\u002ftv\",\"'new car'\",\"'domestic appliance'\",\"radio\\u002ftv\",\"other\",\"'new car'\",\"radio\\u002ftv\",\"'new car'\",\"furniture\\u002fequipment\",\"'new car'\",\"business\",\"business\",\"radio\\u002ftv\",\"radio\\u002ftv\",\"furniture\\u002fequipment\",\"'used car'\",\"radio\\u002ftv\",\"'used car'\",\"business\",\"furniture\\u002fequipment\",\"furniture\\u002fequipment\",\"'new car'\",\"radio\\u002ftv\",\"'used car'\",\"radio\\u002ftv\",\"'new car'\",\"'new car'\",\"retraining\",\"furniture\\u002fequipment\",\"'new car'\",\"'used car'\",\"furniture\\u002fequipment\",\"furniture\\u002fequipment\",\"radio\\u002ftv\",\"furniture\\u002fequipment\",\"business\",\"furniture\\u002fequipment\",\"furniture\\u002fequipment\",\"'new car'\",\"business\",\"'domestic appliance'\",\"furniture\\u002fequipment\",\"'new car'\",\"radio\\u002ftv\",\"radio\\u002ftv\",\"radio\\u002ftv\",\"'used car'\",\"'used car'\",\"'new car'\",\"radio\\u002ftv\",\"business\",\"'new car'\",\"'used car'\",\"business\",\"radio\\u002ftv\",\"'new car'\",\"'used car'\",\"radio\\u002ftv\",\"'used car'\",\"radio\\u002ftv\",\"furniture\\u002fequipment\",\"furniture\\u002fequipment\",\"'new car'\",\"'used car'\",\"radio\\u002ftv\",\"radio\\u002ftv\",\"radio\\u002ftv\",\"'new car'\",\"education\",\"'used car'\",\"'new car'\",\"radio\\u002ftv\",\"radio\\u002ftv\",\"business\",\"'used car'\",\"furniture\\u002fequipment\",\"radio\\u002ftv\",\"'new car'\",\"furniture\\u002fequipment\",\"radio\\u002ftv\",\"'new car'\",\"furniture\\u002fequipment\",\"'new car'\",\"radio\\u002ftv\",\"radio\\u002ftv\",\"radio\\u002ftv\",\"'used car'\",\"'new car'\",\"'new car'\",\"furniture\\u002fequipment\",\"'new car'\",\"furniture\\u002fequipment\",\"'new car'\",\"'new car'\",\"business\",\"'new car'\",\"radio\\u002ftv\",\"radio\\u002ftv\",\"radio\\u002ftv\",\"furniture\\u002fequipment\",\"radio\\u002ftv\",\"'new car'\",\"'new car'\",\"repairs\",\"radio\\u002ftv\",\"radio\\u002ftv\",\"radio\\u002ftv\",\"'new car'\",\"repairs\",\"'new car'\",\"radio\\u002ftv\",\"radio\\u002ftv\",\"radio\\u002ftv\",\"business\",\"'new car'\",\"furniture\\u002fequipment\",\"furniture\\u002fequipment\",\"business\",\"radio\\u002ftv\",\"'used car'\",\"radio\\u002ftv\",\"education\",\"radio\\u002ftv\",\"radio\\u002ftv\",\"furniture\\u002fequipment\",\"'new car'\",\"furniture\\u002fequipment\",\"'used car'\",\"radio\\u002ftv\",\"'used car'\"],\"xaxis\":\"x\",\"yaxis\":\"y\",\"type\":\"histogram\"},{\"alignmentgroup\":\"True\",\"bingroup\":\"x\",\"hovertemplate\":\"class=bad\\u003cbr\\u003epurpose=%{x}\\u003cbr\\u003ecount=%{y}\\u003cextra\\u003e\\u003c\\u002fextra\\u003e\",\"legendgroup\":\"bad\",\"marker\":{\"color\":\"#EF553B\",\"pattern\":{\"shape\":\"\"}},\"name\":\"bad\",\"offsetgroup\":\"bad\",\"orientation\":\"v\",\"showlegend\":true,\"x\":[\"radio\\u002ftv\",\"'new car'\",\"'new car'\",\"'new car'\",\"business\",\"'new car'\",\"radio\\u002ftv\",\"'used car'\",\"business\",\"radio\\u002ftv\",\"radio\\u002ftv\",\"'used car'\",\"'new car'\",\"radio\\u002ftv\",\"furniture\\u002fequipment\",\"business\",\"business\",\"education\",\"education\",\"radio\\u002ftv\",\"radio\\u002ftv\",\"education\",\"repairs\",\"radio\\u002ftv\",\"business\",\"other\",\"'new car'\",\"'new car'\",\"radio\\u002ftv\",\"furniture\\u002fequipment\",\"radio\\u002ftv\",\"furniture\\u002fequipment\",\"repairs\",\"'new car'\",\"education\",\"radio\\u002ftv\",\"furniture\\u002fequipment\",\"furniture\\u002fequipment\",\"furniture\\u002fequipment\",\"business\",\"'new car'\",\"furniture\\u002fequipment\",\"education\",\"'used car'\",\"business\",\"business\",\"'new car'\",\"'new car'\",\"'used car'\",\"radio\\u002ftv\",\"business\",\"business\",\"business\",\"radio\\u002ftv\",\"education\",\"furniture\\u002fequipment\",\"furniture\\u002fequipment\",\"retraining\",\"business\",\"business\",\"radio\\u002ftv\",\"furniture\\u002fequipment\",\"radio\\u002ftv\",\"radio\\u002ftv\",\"radio\\u002ftv\",\"'new car'\",\"business\",\"'new car'\",\"'used car'\",\"radio\\u002ftv\",\"'new car'\",\"radio\\u002ftv\",\"radio\\u002ftv\",\"'new car'\",\"radio\\u002ftv\",\"repairs\",\"furniture\\u002fequipment\",\"radio\\u002ftv\",\"'used car'\",\"furniture\\u002fequipment\",\"radio\\u002ftv\",\"'new car'\",\"'new car'\",\"radio\\u002ftv\",\"furniture\\u002fequipment\",\"'new car'\",\"furniture\\u002fequipment\",\"'new car'\",\"radio\\u002ftv\",\"education\",\"'new car'\",\"'used car'\",\"furniture\\u002fequipment\",\"furniture\\u002fequipment\",\"'domestic appliance'\",\"education\",\"furniture\\u002fequipment\",\"radio\\u002ftv\",\"'new car'\",\"radio\\u002ftv\",\"furniture\\u002fequipment\",\"furniture\\u002fequipment\",\"furniture\\u002fequipment\",\"other\",\"business\",\"'new car'\",\"'used car'\",\"'new car'\",\"business\",\"radio\\u002ftv\",\"'new car'\",\"business\",\"'new car'\",\"'new car'\",\"'new car'\",\"furniture\\u002fequipment\",\"repairs\",\"other\",\"radio\\u002ftv\",\"business\",\"education\",\"furniture\\u002fequipment\",\"'new car'\",\"repairs\",\"'new car'\",\"'used car'\",\"radio\\u002ftv\",\"radio\\u002ftv\",\"education\",\"'new car'\",\"radio\\u002ftv\",\"furniture\\u002fequipment\",\"'new car'\",\"business\",\"furniture\\u002fequipment\",\"furniture\\u002fequipment\",\"'new car'\",\"radio\\u002ftv\",\"'new car'\",\"'new car'\",\"'new car'\",\"'new car'\",\"furniture\\u002fequipment\",\"radio\\u002ftv\",\"furniture\\u002fequipment\",\"radio\\u002ftv\",\"'new car'\",\"education\",\"'new car'\",\"radio\\u002ftv\",\"furniture\\u002fequipment\",\"furniture\\u002fequipment\",\"'new car'\",\"radio\\u002ftv\",\"radio\\u002ftv\",\"radio\\u002ftv\",\"'new car'\",\"'new car'\",\"furniture\\u002fequipment\",\"furniture\\u002fequipment\",\"radio\\u002ftv\",\"'new car'\",\"'new car'\",\"radio\\u002ftv\",\"furniture\\u002fequipment\",\"'new car'\",\"'new car'\",\"repairs\",\"furniture\\u002fequipment\",\"'domestic appliance'\",\"furniture\\u002fequipment\",\"'new car'\",\"other\",\"'new car'\",\"'new car'\",\"business\",\"'new car'\",\"furniture\\u002fequipment\",\"education\",\"furniture\\u002fequipment\",\"radio\\u002ftv\",\"'domestic appliance'\",\"'new car'\",\"furniture\\u002fequipment\",\"furniture\\u002fequipment\",\"'new car'\",\"business\",\"radio\\u002ftv\",\"'new car'\",\"furniture\\u002fequipment\",\"furniture\\u002fequipment\",\"'new car'\",\"radio\\u002ftv\",\"education\",\"education\",\"business\",\"'new car'\",\"'new car'\",\"education\",\"furniture\\u002fequipment\",\"'new car'\",\"'new car'\",\"'new car'\",\"'new car'\",\"'new car'\",\"business\",\"radio\\u002ftv\",\"furniture\\u002fequipment\",\"'used car'\",\"'new car'\",\"furniture\\u002fequipment\",\"education\",\"'new car'\",\"radio\\u002ftv\",\"education\",\"'new car'\",\"'new car'\",\"radio\\u002ftv\",\"business\",\"radio\\u002ftv\",\"'used car'\",\"business\",\"'new car'\",\"'new car'\",\"repairs\",\"'new car'\",\"radio\\u002ftv\",\"'new car'\",\"furniture\\u002fequipment\",\"'new car'\",\"furniture\\u002fequipment\",\"education\",\"'new car'\",\"radio\\u002ftv\",\"'new car'\",\"education\",\"education\",\"business\",\"'used car'\",\"'new car'\",\"'new car'\",\"'used car'\",\"'domestic appliance'\",\"'new car'\",\"radio\\u002ftv\",\"furniture\\u002fequipment\",\"'new car'\",\"business\",\"'used car'\",\"'new car'\",\"business\",\"radio\\u002ftv\",\"'new car'\",\"furniture\\u002fequipment\",\"repairs\",\"'new car'\",\"radio\\u002ftv\",\"'new car'\",\"'new car'\",\"'new car'\",\"business\",\"radio\\u002ftv\",\"furniture\\u002fequipment\",\"'new car'\",\"furniture\\u002fequipment\",\"education\",\"business\",\"furniture\\u002fequipment\",\"'new car'\",\"furniture\\u002fequipment\",\"business\",\"other\",\"'new car'\",\"furniture\\u002fequipment\",\"furniture\\u002fequipment\",\"radio\\u002ftv\",\"furniture\\u002fequipment\",\"'new car'\",\"'used car'\",\"radio\\u002ftv\",\"radio\\u002ftv\",\"radio\\u002ftv\",\"education\",\"furniture\\u002fequipment\",\"furniture\\u002fequipment\",\"radio\\u002ftv\",\"business\",\"'used car'\",\"furniture\\u002fequipment\",\"'new car'\",\"radio\\u002ftv\",\"radio\\u002ftv\",\"'new car'\",\"business\",\"'new car'\",\"'new car'\",\"furniture\\u002fequipment\",\"business\",\"'used car'\",\"radio\\u002ftv\"],\"xaxis\":\"x\",\"yaxis\":\"y\",\"type\":\"histogram\"}],                        {\"template\":{\"data\":{\"histogram2dcontour\":[{\"type\":\"histogram2dcontour\",\"colorbar\":{\"outlinewidth\":0,\"ticks\":\"\"},\"colorscale\":[[0.0,\"#0d0887\"],[0.1111111111111111,\"#46039f\"],[0.2222222222222222,\"#7201a8\"],[0.3333333333333333,\"#9c179e\"],[0.4444444444444444,\"#bd3786\"],[0.5555555555555556,\"#d8576b\"],[0.6666666666666666,\"#ed7953\"],[0.7777777777777778,\"#fb9f3a\"],[0.8888888888888888,\"#fdca26\"],[1.0,\"#f0f921\"]]}],\"choropleth\":[{\"type\":\"choropleth\",\"colorbar\":{\"outlinewidth\":0,\"ticks\":\"\"}}],\"histogram2d\":[{\"type\":\"histogram2d\",\"colorbar\":{\"outlinewidth\":0,\"ticks\":\"\"},\"colorscale\":[[0.0,\"#0d0887\"],[0.1111111111111111,\"#46039f\"],[0.2222222222222222,\"#7201a8\"],[0.3333333333333333,\"#9c179e\"],[0.4444444444444444,\"#bd3786\"],[0.5555555555555556,\"#d8576b\"],[0.6666666666666666,\"#ed7953\"],[0.7777777777777778,\"#fb9f3a\"],[0.8888888888888888,\"#fdca26\"],[1.0,\"#f0f921\"]]}],\"heatmap\":[{\"type\":\"heatmap\",\"colorbar\":{\"outlinewidth\":0,\"ticks\":\"\"},\"colorscale\":[[0.0,\"#0d0887\"],[0.1111111111111111,\"#46039f\"],[0.2222222222222222,\"#7201a8\"],[0.3333333333333333,\"#9c179e\"],[0.4444444444444444,\"#bd3786\"],[0.5555555555555556,\"#d8576b\"],[0.6666666666666666,\"#ed7953\"],[0.7777777777777778,\"#fb9f3a\"],[0.8888888888888888,\"#fdca26\"],[1.0,\"#f0f921\"]]}],\"heatmapgl\":[{\"type\":\"heatmapgl\",\"colorbar\":{\"outlinewidth\":0,\"ticks\":\"\"},\"colorscale\":[[0.0,\"#0d0887\"],[0.1111111111111111,\"#46039f\"],[0.2222222222222222,\"#7201a8\"],[0.3333333333333333,\"#9c179e\"],[0.4444444444444444,\"#bd3786\"],[0.5555555555555556,\"#d8576b\"],[0.6666666666666666,\"#ed7953\"],[0.7777777777777778,\"#fb9f3a\"],[0.8888888888888888,\"#fdca26\"],[1.0,\"#f0f921\"]]}],\"contourcarpet\":[{\"type\":\"contourcarpet\",\"colorbar\":{\"outlinewidth\":0,\"ticks\":\"\"}}],\"contour\":[{\"type\":\"contour\",\"colorbar\":{\"outlinewidth\":0,\"ticks\":\"\"},\"colorscale\":[[0.0,\"#0d0887\"],[0.1111111111111111,\"#46039f\"],[0.2222222222222222,\"#7201a8\"],[0.3333333333333333,\"#9c179e\"],[0.4444444444444444,\"#bd3786\"],[0.5555555555555556,\"#d8576b\"],[0.6666666666666666,\"#ed7953\"],[0.7777777777777778,\"#fb9f3a\"],[0.8888888888888888,\"#fdca26\"],[1.0,\"#f0f921\"]]}],\"surface\":[{\"type\":\"surface\",\"colorbar\":{\"outlinewidth\":0,\"ticks\":\"\"},\"colorscale\":[[0.0,\"#0d0887\"],[0.1111111111111111,\"#46039f\"],[0.2222222222222222,\"#7201a8\"],[0.3333333333333333,\"#9c179e\"],[0.4444444444444444,\"#bd3786\"],[0.5555555555555556,\"#d8576b\"],[0.6666666666666666,\"#ed7953\"],[0.7777777777777778,\"#fb9f3a\"],[0.8888888888888888,\"#fdca26\"],[1.0,\"#f0f921\"]]}],\"mesh3d\":[{\"type\":\"mesh3d\",\"colorbar\":{\"outlinewidth\":0,\"ticks\":\"\"}}],\"scatter\":[{\"fillpattern\":{\"fillmode\":\"overlay\",\"size\":10,\"solidity\":0.2},\"type\":\"scatter\"}],\"parcoords\":[{\"type\":\"parcoords\",\"line\":{\"colorbar\":{\"outlinewidth\":0,\"ticks\":\"\"}}}],\"scatterpolargl\":[{\"type\":\"scatterpolargl\",\"marker\":{\"colorbar\":{\"outlinewidth\":0,\"ticks\":\"\"}}}],\"bar\":[{\"error_x\":{\"color\":\"#2a3f5f\"},\"error_y\":{\"color\":\"#2a3f5f\"},\"marker\":{\"line\":{\"color\":\"#E5ECF6\",\"width\":0.5},\"pattern\":{\"fillmode\":\"overlay\",\"size\":10,\"solidity\":0.2}},\"type\":\"bar\"}],\"scattergeo\":[{\"type\":\"scattergeo\",\"marker\":{\"colorbar\":{\"outlinewidth\":0,\"ticks\":\"\"}}}],\"scatterpolar\":[{\"type\":\"scatterpolar\",\"marker\":{\"colorbar\":{\"outlinewidth\":0,\"ticks\":\"\"}}}],\"histogram\":[{\"marker\":{\"pattern\":{\"fillmode\":\"overlay\",\"size\":10,\"solidity\":0.2}},\"type\":\"histogram\"}],\"scattergl\":[{\"type\":\"scattergl\",\"marker\":{\"colorbar\":{\"outlinewidth\":0,\"ticks\":\"\"}}}],\"scatter3d\":[{\"type\":\"scatter3d\",\"line\":{\"colorbar\":{\"outlinewidth\":0,\"ticks\":\"\"}},\"marker\":{\"colorbar\":{\"outlinewidth\":0,\"ticks\":\"\"}}}],\"scattermapbox\":[{\"type\":\"scattermapbox\",\"marker\":{\"colorbar\":{\"outlinewidth\":0,\"ticks\":\"\"}}}],\"scatterternary\":[{\"type\":\"scatterternary\",\"marker\":{\"colorbar\":{\"outlinewidth\":0,\"ticks\":\"\"}}}],\"scattercarpet\":[{\"type\":\"scattercarpet\",\"marker\":{\"colorbar\":{\"outlinewidth\":0,\"ticks\":\"\"}}}],\"carpet\":[{\"aaxis\":{\"endlinecolor\":\"#2a3f5f\",\"gridcolor\":\"white\",\"linecolor\":\"white\",\"minorgridcolor\":\"white\",\"startlinecolor\":\"#2a3f5f\"},\"baxis\":{\"endlinecolor\":\"#2a3f5f\",\"gridcolor\":\"white\",\"linecolor\":\"white\",\"minorgridcolor\":\"white\",\"startlinecolor\":\"#2a3f5f\"},\"type\":\"carpet\"}],\"table\":[{\"cells\":{\"fill\":{\"color\":\"#EBF0F8\"},\"line\":{\"color\":\"white\"}},\"header\":{\"fill\":{\"color\":\"#C8D4E3\"},\"line\":{\"color\":\"white\"}},\"type\":\"table\"}],\"barpolar\":[{\"marker\":{\"line\":{\"color\":\"#E5ECF6\",\"width\":0.5},\"pattern\":{\"fillmode\":\"overlay\",\"size\":10,\"solidity\":0.2}},\"type\":\"barpolar\"}],\"pie\":[{\"automargin\":true,\"type\":\"pie\"}]},\"layout\":{\"autotypenumbers\":\"strict\",\"colorway\":[\"#636efa\",\"#EF553B\",\"#00cc96\",\"#ab63fa\",\"#FFA15A\",\"#19d3f3\",\"#FF6692\",\"#B6E880\",\"#FF97FF\",\"#FECB52\"],\"font\":{\"color\":\"#2a3f5f\"},\"hovermode\":\"closest\",\"hoverlabel\":{\"align\":\"left\"},\"paper_bgcolor\":\"white\",\"plot_bgcolor\":\"#E5ECF6\",\"polar\":{\"bgcolor\":\"#E5ECF6\",\"angularaxis\":{\"gridcolor\":\"white\",\"linecolor\":\"white\",\"ticks\":\"\"},\"radialaxis\":{\"gridcolor\":\"white\",\"linecolor\":\"white\",\"ticks\":\"\"}},\"ternary\":{\"bgcolor\":\"#E5ECF6\",\"aaxis\":{\"gridcolor\":\"white\",\"linecolor\":\"white\",\"ticks\":\"\"},\"baxis\":{\"gridcolor\":\"white\",\"linecolor\":\"white\",\"ticks\":\"\"},\"caxis\":{\"gridcolor\":\"white\",\"linecolor\":\"white\",\"ticks\":\"\"}},\"coloraxis\":{\"colorbar\":{\"outlinewidth\":0,\"ticks\":\"\"}},\"colorscale\":{\"sequential\":[[0.0,\"#0d0887\"],[0.1111111111111111,\"#46039f\"],[0.2222222222222222,\"#7201a8\"],[0.3333333333333333,\"#9c179e\"],[0.4444444444444444,\"#bd3786\"],[0.5555555555555556,\"#d8576b\"],[0.6666666666666666,\"#ed7953\"],[0.7777777777777778,\"#fb9f3a\"],[0.8888888888888888,\"#fdca26\"],[1.0,\"#f0f921\"]],\"sequentialminus\":[[0.0,\"#0d0887\"],[0.1111111111111111,\"#46039f\"],[0.2222222222222222,\"#7201a8\"],[0.3333333333333333,\"#9c179e\"],[0.4444444444444444,\"#bd3786\"],[0.5555555555555556,\"#d8576b\"],[0.6666666666666666,\"#ed7953\"],[0.7777777777777778,\"#fb9f3a\"],[0.8888888888888888,\"#fdca26\"],[1.0,\"#f0f921\"]],\"diverging\":[[0,\"#8e0152\"],[0.1,\"#c51b7d\"],[0.2,\"#de77ae\"],[0.3,\"#f1b6da\"],[0.4,\"#fde0ef\"],[0.5,\"#f7f7f7\"],[0.6,\"#e6f5d0\"],[0.7,\"#b8e186\"],[0.8,\"#7fbc41\"],[0.9,\"#4d9221\"],[1,\"#276419\"]]},\"xaxis\":{\"gridcolor\":\"white\",\"linecolor\":\"white\",\"ticks\":\"\",\"title\":{\"standoff\":15},\"zerolinecolor\":\"white\",\"automargin\":true,\"zerolinewidth\":2},\"yaxis\":{\"gridcolor\":\"white\",\"linecolor\":\"white\",\"ticks\":\"\",\"title\":{\"standoff\":15},\"zerolinecolor\":\"white\",\"automargin\":true,\"zerolinewidth\":2},\"scene\":{\"xaxis\":{\"backgroundcolor\":\"#E5ECF6\",\"gridcolor\":\"white\",\"linecolor\":\"white\",\"showbackground\":true,\"ticks\":\"\",\"zerolinecolor\":\"white\",\"gridwidth\":2},\"yaxis\":{\"backgroundcolor\":\"#E5ECF6\",\"gridcolor\":\"white\",\"linecolor\":\"white\",\"showbackground\":true,\"ticks\":\"\",\"zerolinecolor\":\"white\",\"gridwidth\":2},\"zaxis\":{\"backgroundcolor\":\"#E5ECF6\",\"gridcolor\":\"white\",\"linecolor\":\"white\",\"showbackground\":true,\"ticks\":\"\",\"zerolinecolor\":\"white\",\"gridwidth\":2}},\"shapedefaults\":{\"line\":{\"color\":\"#2a3f5f\"}},\"annotationdefaults\":{\"arrowcolor\":\"#2a3f5f\",\"arrowhead\":0,\"arrowwidth\":1},\"geo\":{\"bgcolor\":\"white\",\"landcolor\":\"#E5ECF6\",\"subunitcolor\":\"white\",\"showland\":true,\"showlakes\":true,\"lakecolor\":\"white\"},\"title\":{\"x\":0.05},\"mapbox\":{\"style\":\"light\"}}},\"xaxis\":{\"anchor\":\"y\",\"domain\":[0.0,1.0],\"title\":{\"text\":\"purpose\"}},\"yaxis\":{\"anchor\":\"x\",\"domain\":[0.0,1.0],\"title\":{\"text\":\"count\"}},\"legend\":{\"title\":{\"text\":\"class\"},\"tracegroupgap\":0},\"title\":{\"text\":\"Bar Graph of Purpose of Lending across Class\"},\"barmode\":\"relative\"},                        {\"responsive\": true}                    ).then(function(){\n",
              "                            \n",
              "var gd = document.getElementById('18ee0633-ce43-43c5-979c-a721fd8daab2');\n",
              "var x = new MutationObserver(function (mutations, observer) {{\n",
              "        var display = window.getComputedStyle(gd).display;\n",
              "        if (!display || display === 'none') {{\n",
              "            console.log([gd, 'removed!']);\n",
              "            Plotly.purge(gd);\n",
              "            observer.disconnect();\n",
              "        }}\n",
              "}});\n",
              "\n",
              "// Listen for the removal of the full notebook cells\n",
              "var notebookContainer = gd.closest('#notebook-container');\n",
              "if (notebookContainer) {{\n",
              "    x.observe(notebookContainer, {childList: true});\n",
              "}}\n",
              "\n",
              "// Listen for the clearing of the current output cell\n",
              "var outputEl = gd.closest('.output');\n",
              "if (outputEl) {{\n",
              "    x.observe(outputEl, {childList: true});\n",
              "}}\n",
              "\n",
              "                        })                };                            </script>        </div>\n",
              "</body>\n",
              "</html>"
            ]
          },
          "metadata": {}
        }
      ],
      "source": [
        "px.histogram(df, x='purpose', color='class', title='Bar Graph of Purpose of Lending across Class')"
      ]
    },
    {
      "cell_type": "markdown",
      "source": [
        "overall, no matter what the purpose of lending credit for, more customer has bad credit than good credit."
      ],
      "metadata": {
        "id": "Ymci2wIMXXSC"
      }
    },
    {
      "cell_type": "markdown",
      "source": [
        "Let's observe credit amount and credit class"
      ],
      "metadata": {
        "id": "zzaK7k9FXlem"
      }
    },
    {
      "cell_type": "code",
      "execution_count": 39,
      "metadata": {
        "colab": {
          "base_uri": "https://localhost:8080/",
          "height": 542
        },
        "id": "WpUSKIzpQJOe",
        "outputId": "36d6d4d5-23b0-4d68-fea8-ccf0a4bd7ed3"
      },
      "outputs": [
        {
          "output_type": "display_data",
          "data": {
            "text/html": [
              "<html>\n",
              "<head><meta charset=\"utf-8\" /></head>\n",
              "<body>\n",
              "    <div>            <script src=\"https://cdnjs.cloudflare.com/ajax/libs/mathjax/2.7.5/MathJax.js?config=TeX-AMS-MML_SVG\"></script><script type=\"text/javascript\">if (window.MathJax && window.MathJax.Hub && window.MathJax.Hub.Config) {window.MathJax.Hub.Config({SVG: {font: \"STIX-Web\"}});}</script>                <script type=\"text/javascript\">window.PlotlyConfig = {MathJaxConfig: 'local'};</script>\n",
              "        <script charset=\"utf-8\" src=\"https://cdn.plot.ly/plotly-2.24.1.min.js\"></script>                <div id=\"cf8547d1-c5a0-4dd2-b38b-2fac4377628d\" class=\"plotly-graph-div\" style=\"height:525px; width:100%;\"></div>            <script type=\"text/javascript\">                                    window.PLOTLYENV=window.PLOTLYENV || {};                                    if (document.getElementById(\"cf8547d1-c5a0-4dd2-b38b-2fac4377628d\")) {                    Plotly.newPlot(                        \"cf8547d1-c5a0-4dd2-b38b-2fac4377628d\",                        [{\"alignmentgroup\":\"True\",\"bingroup\":\"y\",\"histfunc\":\"sum\",\"hovertemplate\":\"sum of credit_amount=%{x}\\u003cbr\\u003eclass=%{y}\\u003cextra\\u003e\\u003c\\u002fextra\\u003e\",\"legendgroup\":\"\",\"marker\":{\"color\":\"#636efa\",\"pattern\":{\"shape\":\"\"}},\"name\":\"\",\"offsetgroup\":\"\",\"orientation\":\"h\",\"showlegend\":false,\"x\":[1169,5951,2096,7882,4870,9055,2835,6948,3059,5234,1295,4308,1567,1199,1403,1282,2424,8072,12579,3430,2134,2647,2241,1804,2069,1374,426,409,2415,6836,1913,4020,5866,1264,1474,4746,6110,2100,1225,458,2333,1158,6204,6187,6143,1393,2299,1352,7228,2073,2333,5965,1262,3378,2225,783,6468,9566,1961,6229,1391,1537,1953,14421,3181,5190,2171,1007,1819,2394,8133,730,1164,5954,1977,1526,3965,4771,9436,3832,5943,1213,1568,1755,2315,1412,1295,12612,2249,1108,618,1409,797,3617,1318,15945,2012,2622,2337,7057,1469,2323,932,1919,2445,11938,6458,6078,7721,1410,1449,392,6260,7855,1680,3578,7174,2132,4281,2366,1835,3868,1768,781,1924,2121,701,639,1860,3499,8487,6887,2708,1984,10144,1240,8613,766,2728,1881,709,4795,3416,2462,2288,3566,860,682,5371,1582,1346,1924,5848,7758,6967,1282,1288,339,3512,1898,2872,1055,1262,7308,909,2978,1131,1577,3972,1935,950,763,2064,1414,3414,7485,2577,338,1963,571,9572,4455,1647,3777,884,1360,5129,1175,674,3244,4591,3844,3915,2108,3031,1501,1382,951,2760,4297,936,1168,5117,902,1495,10623,1935,1424,6568,1413,3074,3835,5293,1908,3342,932,3104,3913,3021,1364,625,1200,707,2978,4657,2613,10961,7865,1478,3149,4210,2507,2141,866,1544,1823,14555,2767,1291,2522,915,1595,4605,1185,3447,1258,717,1204,1925,433,666,2251,2150,4151,2030,7418,2684,2149,3812,1154,1657,1603,5302,2748,1231,802,6304,1533,8978,999,2662,1402,12169,3060,11998,2697,2404,1262,4611,1901,3368,1574,1445,1520,3878,10722,4788,7582,1092,1024,1076,9398,6419,4796,7629,9960,4675,1287,2515,2745,672,3804,1344,1038,10127,1543,4811,727,1237,276,5381,5511,3749,685,1494,2746,708,4351,701,3643,4249,1938,2910,2659,1028,3398,5801,1525,4473,1068,6615,1864,7408,11590,4110,3384,2101,1275,4169,1521,5743,3599,3213,4439,3949,1459,882,3758,1743,1136,1236,959,3229,6199,727,1246,2331,4463,776,2406,1239,3399,2247,1766,2473,1542,3850,3650,3446,3001,3079,6070,2146,13756,14782,7685,2320,846,14318,362,2212,12976,1283,1330,4272,2238,1126,7374,2326,1449,1820,983,3249,1957,2406,11760,2578,2348,1223,1516,1473,1887,8648,802,2899,2039,2197,1053,3235,939,1967,7253,2292,1597,1381,5842,2579,8471,2782,1042,3186,2028,958,1591,2762,2779,2743,1149,1313,1190,3448,11328,1872,2058,2136,1484,660,1287,3394,609,1884,1620,2629,719,5096,1244,1842,2576,1424,1512,11054,518,2759,2670,4817,2679,3905,3386,343,4594,3620,1721,3017,754,1950,2924,1659,7238,2764,4679,3092,448,654,1238,1245,3114,2569,5152,1037,1478,3573,1201,3622,960,1163,1209,3077,3757,1418,3518,1934,8318,1237,368,2122,2996,9034,1585,1301,1323,3123,5493,1126,1216,1207,1309,2360,6850,1413,8588,759,4686,2687,585,2255,609,1361,7127,1203,700,5507,3190,7119,3488,1113,7966,1532,1503,2302,662,2273,2631,1503,1311,3105,2319,1374,3612,7763,3049,1534,2032,6350,2864,1255,1333,2022,1552,626,8858,996,1750,6999,1995,1199,1331,2278,5003,3552,1928,2964,1546,683,12389,4712,1553,1372,2578,3979,6758,3234,5954,5433,806,1082,2788,2930,1927,2820,937,1056,3124,1388,2384,2133,2039,2799,1289,1217,2246,385,1965,1572,2718,1358,931,1442,4241,2775,3863,2329,918,1837,3349,1275,2828,4526,2671,2051,1300,741,1240,3357,3632,1808,12204,9157,3676,3441,640,3652,1530,3914,1858,2600,1979,2116,1437,4042,3832,3660,1553,1444,1980,1355,1393,1376,15653,1493,4370,750,1308,4623,1851,1880,7980,4583,1386,947,684,7476,1922,2303,8086,2346,3973,888,10222,4221,6361,1297,900,2241,1050,1047,6314,3496,3609,4843,3017,4139,5742,10366,2080,2580,4530,5150,5595,2384,1453,1538,2279,1478,5103,9857,6527,1347,2862,2753,3651,975,2631,2896,4716,2284,1236,1103,926,1800,1905,1123,6331,1377,2503,2528,5324,6560,2969,1206,2118,629,1198,2476,1138,14027,7596,3077,1505,3148,6148,1337,433,1228,790,2570,250,1316,1882,6416,1275,6403,1987,760,2603,3380,3990,11560,4380,6761,4280,2325,1048,3160,2483,14179,1797,2511,1274,5248,3029,428,976,841,5771,1555,1285,1299,1271,1393,691,5045,2124,2214,12680,2463,1155,3108,2901,3617,1655,2812,8065,3275,2223,1480,1371,3535,3509,5711,3872,4933,1940,1410,836,6468,1941,2675,2751,6224,5998,1188,6313,1221,2892,3062,2301,7511,1258,717,1549,1597,1795,4272,976,7472,9271,590,930,9283,1778,907,484,9629,3051,3931,7432,1338,1554,15857,1345,1101,3016,2712,731,3780,1602,3966,4165,8335,6681,2375,1216,11816,5084,2327,1082,886,601,2957,2611,5179,2993,1943,1559,3422,3976,6761,1249,1364,709,2235,4042,1471,1442,10875,1474,894,3343,3959,3577,5804,2169,2439,4526,2210,2221,2389,3331,7409,652,7678,1343,1382,874,3590,1322,1940,3595,1422,6742,7814,9277,2181,1098,4057,795,2825,15672,6614,7824,2442,1829,2171,5800,1169,8947,2606,1592,2186,4153,2625,3485,10477,1386,1278,1107,3763,3711,3594,3195,4454,4736,2991,2142,3161,18424,2848,14896,2359,3345,1817,12749,1366,2002,6872,697,1049,10297,1867,1344,1747,1670,1224,522,1498,1919,745,2063,6288,6842,3527,1546,929,1455,1845,8358,3349,2859,1533,3621,3590,2145,4113,10974,1893,1231,3656,1154,4006,3069,1740,2353,3556,2397,454,1715,2520,3568,7166,3939,1514,7393,1193,7297,2831,1258,753,2427,2538,1264,8386,4844,2923,8229,2028,1433,6289,1409,6579,1743,3565,1569,1936,3959,2390,1736,3857,804,1845,4576],\"xaxis\":\"x\",\"y\":[\"good\",\"bad\",\"good\",\"good\",\"bad\",\"good\",\"good\",\"good\",\"good\",\"bad\",\"bad\",\"bad\",\"good\",\"bad\",\"good\",\"bad\",\"good\",\"good\",\"bad\",\"good\",\"good\",\"good\",\"good\",\"good\",\"good\",\"good\",\"good\",\"good\",\"good\",\"bad\",\"good\",\"good\",\"good\",\"good\",\"good\",\"bad\",\"good\",\"bad\",\"good\",\"good\",\"good\",\"good\",\"good\",\"good\",\"bad\",\"good\",\"good\",\"good\",\"good\",\"good\",\"good\",\"good\",\"good\",\"good\",\"bad\",\"good\",\"bad\",\"good\",\"good\",\"bad\",\"good\",\"good\",\"bad\",\"bad\",\"good\",\"good\",\"good\",\"good\",\"bad\",\"good\",\"good\",\"good\",\"good\",\"good\",\"bad\",\"good\",\"bad\",\"good\",\"good\",\"good\",\"bad\",\"good\",\"good\",\"good\",\"good\",\"good\",\"good\",\"bad\",\"good\",\"bad\",\"good\",\"good\",\"bad\",\"good\",\"good\",\"bad\",\"good\",\"good\",\"good\",\"good\",\"good\",\"good\",\"good\",\"good\",\"good\",\"bad\",\"bad\",\"good\",\"good\",\"good\",\"good\",\"good\",\"good\",\"bad\",\"good\",\"good\",\"bad\",\"good\",\"bad\",\"good\",\"bad\",\"good\",\"good\",\"good\",\"bad\",\"good\",\"good\",\"bad\",\"good\",\"bad\",\"good\",\"bad\",\"good\",\"good\",\"good\",\"good\",\"good\",\"bad\",\"good\",\"good\",\"good\",\"good\",\"good\",\"bad\",\"good\",\"good\",\"good\",\"good\",\"good\",\"good\",\"good\",\"good\",\"good\",\"good\",\"good\",\"bad\",\"good\",\"good\",\"good\",\"good\",\"good\",\"good\",\"good\",\"good\",\"good\",\"good\",\"bad\",\"good\",\"good\",\"bad\",\"bad\",\"good\",\"bad\",\"good\",\"bad\",\"bad\",\"good\",\"good\",\"good\",\"good\",\"bad\",\"bad\",\"bad\",\"good\",\"bad\",\"good\",\"bad\",\"good\",\"bad\",\"good\",\"bad\",\"bad\",\"bad\",\"good\",\"bad\",\"bad\",\"good\",\"bad\",\"good\",\"bad\",\"good\",\"good\",\"good\",\"bad\",\"good\",\"good\",\"good\",\"good\",\"good\",\"good\",\"good\",\"good\",\"bad\",\"bad\",\"good\",\"good\",\"good\",\"good\",\"good\",\"good\",\"good\",\"good\",\"good\",\"good\",\"good\",\"good\",\"bad\",\"bad\",\"bad\",\"good\",\"bad\",\"good\",\"good\",\"good\",\"good\",\"bad\",\"bad\",\"bad\",\"good\",\"good\",\"bad\",\"good\",\"bad\",\"good\",\"good\",\"good\",\"good\",\"good\",\"good\",\"bad\",\"good\",\"good\",\"bad\",\"good\",\"good\",\"good\",\"good\",\"bad\",\"good\",\"good\",\"good\",\"good\",\"good\",\"good\",\"good\",\"bad\",\"good\",\"good\",\"bad\",\"good\",\"good\",\"good\",\"good\",\"bad\",\"bad\",\"good\",\"good\",\"good\",\"bad\",\"good\",\"good\",\"good\",\"good\",\"good\",\"good\",\"good\",\"good\",\"good\",\"good\",\"bad\",\"good\",\"bad\",\"good\",\"good\",\"good\",\"bad\",\"good\",\"good\",\"good\",\"good\",\"good\",\"bad\",\"bad\",\"good\",\"bad\",\"good\",\"good\",\"bad\",\"bad\",\"good\",\"good\",\"good\",\"good\",\"bad\",\"good\",\"bad\",\"good\",\"good\",\"good\",\"good\",\"bad\",\"bad\",\"good\",\"good\",\"good\",\"good\",\"good\",\"good\",\"good\",\"good\",\"good\",\"bad\",\"bad\",\"bad\",\"bad\",\"bad\",\"good\",\"bad\",\"good\",\"good\",\"good\",\"good\",\"good\",\"good\",\"good\",\"good\",\"good\",\"good\",\"good\",\"bad\",\"good\",\"bad\",\"good\",\"bad\",\"good\",\"bad\",\"good\",\"bad\",\"good\",\"bad\",\"good\",\"good\",\"good\",\"good\",\"bad\",\"good\",\"good\",\"good\",\"bad\",\"good\",\"good\",\"good\",\"good\",\"good\",\"bad\",\"bad\",\"good\",\"good\",\"bad\",\"good\",\"good\",\"bad\",\"good\",\"good\",\"good\",\"good\",\"good\",\"good\",\"good\",\"good\",\"good\",\"good\",\"good\",\"good\",\"good\",\"good\",\"good\",\"good\",\"bad\",\"good\",\"good\",\"good\",\"bad\",\"good\",\"good\",\"bad\",\"good\",\"good\",\"good\",\"bad\",\"good\",\"good\",\"bad\",\"good\",\"bad\",\"good\",\"bad\",\"good\",\"good\",\"bad\",\"good\",\"good\",\"good\",\"good\",\"bad\",\"good\",\"good\",\"good\",\"good\",\"bad\",\"good\",\"bad\",\"good\",\"good\",\"good\",\"bad\",\"good\",\"good\",\"good\",\"bad\",\"good\",\"good\",\"good\",\"bad\",\"bad\",\"good\",\"bad\",\"good\",\"good\",\"bad\",\"good\",\"good\",\"good\",\"good\",\"bad\",\"good\",\"good\",\"bad\",\"good\",\"good\",\"good\",\"good\",\"good\",\"good\",\"good\",\"good\",\"bad\",\"good\",\"good\",\"good\",\"bad\",\"bad\",\"bad\",\"good\",\"bad\",\"bad\",\"good\",\"good\",\"good\",\"good\",\"good\",\"good\",\"good\",\"good\",\"good\",\"bad\",\"good\",\"good\",\"good\",\"good\",\"good\",\"bad\",\"good\",\"good\",\"good\",\"bad\",\"bad\",\"good\",\"good\",\"good\",\"bad\",\"good\",\"good\",\"bad\",\"bad\",\"bad\",\"good\",\"bad\",\"good\",\"good\",\"bad\",\"good\",\"good\",\"good\",\"good\",\"good\",\"good\",\"bad\",\"good\",\"good\",\"good\",\"bad\",\"bad\",\"good\",\"good\",\"good\",\"good\",\"good\",\"bad\",\"good\",\"good\",\"bad\",\"good\",\"good\",\"good\",\"bad\",\"good\",\"good\",\"bad\",\"good\",\"bad\",\"good\",\"bad\",\"bad\",\"good\",\"bad\",\"good\",\"good\",\"bad\",\"good\",\"good\",\"good\",\"bad\",\"good\",\"good\",\"bad\",\"bad\",\"bad\",\"bad\",\"bad\",\"good\",\"bad\",\"good\",\"bad\",\"good\",\"good\",\"bad\",\"good\",\"good\",\"bad\",\"bad\",\"good\",\"good\",\"good\",\"good\",\"good\",\"good\",\"good\",\"bad\",\"good\",\"bad\",\"good\",\"good\",\"bad\",\"good\",\"bad\",\"good\",\"good\",\"bad\",\"bad\",\"good\",\"good\",\"good\",\"bad\",\"bad\",\"bad\",\"bad\",\"bad\",\"bad\",\"good\",\"good\",\"bad\",\"bad\",\"bad\",\"good\",\"good\",\"good\",\"bad\",\"good\",\"good\",\"bad\",\"bad\",\"good\",\"good\",\"bad\",\"good\",\"good\",\"good\",\"bad\",\"good\",\"good\",\"bad\",\"bad\",\"good\",\"bad\",\"good\",\"good\",\"bad\",\"good\",\"good\",\"good\",\"bad\",\"good\",\"bad\",\"bad\",\"good\",\"good\",\"good\",\"good\",\"bad\",\"bad\",\"good\",\"bad\",\"good\",\"good\",\"bad\",\"good\",\"bad\",\"bad\",\"bad\",\"good\",\"bad\",\"bad\",\"bad\",\"good\",\"good\",\"bad\",\"good\",\"good\",\"good\",\"good\",\"bad\",\"good\",\"good\",\"good\",\"good\",\"good\",\"good\",\"bad\",\"good\",\"good\",\"good\",\"good\",\"good\",\"bad\",\"good\",\"good\",\"bad\",\"good\",\"good\",\"good\",\"good\",\"good\",\"good\",\"good\",\"good\",\"good\",\"good\",\"good\",\"good\",\"good\",\"good\",\"good\",\"good\",\"good\",\"good\",\"good\",\"good\",\"good\",\"good\",\"bad\",\"bad\",\"good\",\"good\",\"good\",\"good\",\"bad\",\"bad\",\"good\",\"good\",\"good\",\"bad\",\"good\",\"good\",\"bad\",\"good\",\"good\",\"good\",\"good\",\"good\",\"bad\",\"bad\",\"bad\",\"good\",\"bad\",\"good\",\"good\",\"bad\",\"bad\",\"good\",\"good\",\"bad\",\"good\",\"good\",\"good\",\"good\",\"bad\",\"good\",\"good\",\"bad\",\"good\",\"good\",\"good\",\"good\",\"good\",\"good\",\"good\",\"bad\",\"good\",\"good\",\"good\",\"bad\",\"good\",\"good\",\"bad\",\"bad\",\"good\",\"bad\",\"good\",\"bad\",\"good\",\"bad\",\"good\",\"bad\",\"good\",\"good\",\"bad\",\"good\",\"good\",\"good\",\"good\",\"bad\",\"good\",\"good\",\"good\",\"bad\",\"good\",\"good\",\"good\",\"good\",\"bad\",\"good\",\"good\",\"bad\",\"good\",\"good\",\"good\",\"good\",\"bad\",\"bad\",\"bad\",\"good\",\"good\",\"good\",\"good\",\"good\",\"bad\",\"good\",\"good\",\"good\",\"good\",\"good\",\"good\",\"good\",\"good\",\"bad\",\"good\",\"good\",\"good\",\"bad\",\"good\",\"good\",\"bad\",\"bad\",\"bad\",\"good\",\"good\",\"good\",\"good\",\"bad\",\"good\",\"good\",\"bad\",\"good\",\"good\",\"good\",\"bad\",\"bad\",\"bad\",\"good\",\"good\",\"bad\",\"bad\",\"good\",\"bad\",\"bad\",\"good\",\"good\",\"good\",\"good\",\"bad\",\"good\",\"bad\",\"good\",\"good\",\"good\",\"bad\",\"good\",\"good\",\"bad\",\"bad\",\"good\",\"good\",\"bad\",\"good\",\"good\",\"good\",\"good\",\"bad\",\"good\",\"good\",\"bad\",\"bad\",\"good\",\"bad\",\"good\",\"good\",\"good\",\"good\",\"good\",\"good\",\"good\",\"good\",\"good\",\"good\",\"good\",\"good\",\"good\",\"bad\",\"good\",\"good\",\"good\",\"good\",\"good\",\"bad\",\"bad\",\"good\",\"bad\",\"good\",\"good\",\"good\",\"good\",\"good\",\"good\",\"good\",\"good\",\"good\",\"good\",\"good\",\"bad\",\"bad\",\"good\",\"good\",\"good\",\"good\",\"good\",\"good\",\"good\",\"good\",\"good\",\"good\",\"bad\",\"good\",\"good\",\"bad\",\"bad\",\"good\",\"bad\",\"bad\",\"bad\",\"good\",\"good\",\"bad\",\"good\",\"bad\",\"bad\",\"good\",\"bad\",\"good\",\"good\",\"good\",\"bad\",\"good\",\"good\",\"good\",\"bad\",\"bad\",\"good\",\"bad\",\"good\",\"good\",\"good\",\"good\",\"good\",\"good\",\"good\",\"bad\",\"good\",\"bad\",\"bad\",\"good\",\"bad\",\"bad\",\"bad\",\"good\",\"good\",\"good\",\"good\",\"bad\",\"good\",\"good\",\"good\",\"good\",\"bad\",\"good\",\"good\",\"bad\",\"good\",\"good\",\"good\",\"good\",\"good\",\"bad\",\"bad\",\"good\",\"good\",\"good\",\"good\",\"bad\",\"bad\",\"bad\",\"bad\",\"good\",\"bad\",\"good\",\"good\",\"good\",\"good\",\"good\",\"good\",\"good\",\"good\",\"good\",\"good\",\"good\",\"good\",\"good\",\"good\",\"bad\",\"good\"],\"yaxis\":\"y\",\"type\":\"histogram\"}],                        {\"template\":{\"data\":{\"histogram2dcontour\":[{\"type\":\"histogram2dcontour\",\"colorbar\":{\"outlinewidth\":0,\"ticks\":\"\"},\"colorscale\":[[0.0,\"#0d0887\"],[0.1111111111111111,\"#46039f\"],[0.2222222222222222,\"#7201a8\"],[0.3333333333333333,\"#9c179e\"],[0.4444444444444444,\"#bd3786\"],[0.5555555555555556,\"#d8576b\"],[0.6666666666666666,\"#ed7953\"],[0.7777777777777778,\"#fb9f3a\"],[0.8888888888888888,\"#fdca26\"],[1.0,\"#f0f921\"]]}],\"choropleth\":[{\"type\":\"choropleth\",\"colorbar\":{\"outlinewidth\":0,\"ticks\":\"\"}}],\"histogram2d\":[{\"type\":\"histogram2d\",\"colorbar\":{\"outlinewidth\":0,\"ticks\":\"\"},\"colorscale\":[[0.0,\"#0d0887\"],[0.1111111111111111,\"#46039f\"],[0.2222222222222222,\"#7201a8\"],[0.3333333333333333,\"#9c179e\"],[0.4444444444444444,\"#bd3786\"],[0.5555555555555556,\"#d8576b\"],[0.6666666666666666,\"#ed7953\"],[0.7777777777777778,\"#fb9f3a\"],[0.8888888888888888,\"#fdca26\"],[1.0,\"#f0f921\"]]}],\"heatmap\":[{\"type\":\"heatmap\",\"colorbar\":{\"outlinewidth\":0,\"ticks\":\"\"},\"colorscale\":[[0.0,\"#0d0887\"],[0.1111111111111111,\"#46039f\"],[0.2222222222222222,\"#7201a8\"],[0.3333333333333333,\"#9c179e\"],[0.4444444444444444,\"#bd3786\"],[0.5555555555555556,\"#d8576b\"],[0.6666666666666666,\"#ed7953\"],[0.7777777777777778,\"#fb9f3a\"],[0.8888888888888888,\"#fdca26\"],[1.0,\"#f0f921\"]]}],\"heatmapgl\":[{\"type\":\"heatmapgl\",\"colorbar\":{\"outlinewidth\":0,\"ticks\":\"\"},\"colorscale\":[[0.0,\"#0d0887\"],[0.1111111111111111,\"#46039f\"],[0.2222222222222222,\"#7201a8\"],[0.3333333333333333,\"#9c179e\"],[0.4444444444444444,\"#bd3786\"],[0.5555555555555556,\"#d8576b\"],[0.6666666666666666,\"#ed7953\"],[0.7777777777777778,\"#fb9f3a\"],[0.8888888888888888,\"#fdca26\"],[1.0,\"#f0f921\"]]}],\"contourcarpet\":[{\"type\":\"contourcarpet\",\"colorbar\":{\"outlinewidth\":0,\"ticks\":\"\"}}],\"contour\":[{\"type\":\"contour\",\"colorbar\":{\"outlinewidth\":0,\"ticks\":\"\"},\"colorscale\":[[0.0,\"#0d0887\"],[0.1111111111111111,\"#46039f\"],[0.2222222222222222,\"#7201a8\"],[0.3333333333333333,\"#9c179e\"],[0.4444444444444444,\"#bd3786\"],[0.5555555555555556,\"#d8576b\"],[0.6666666666666666,\"#ed7953\"],[0.7777777777777778,\"#fb9f3a\"],[0.8888888888888888,\"#fdca26\"],[1.0,\"#f0f921\"]]}],\"surface\":[{\"type\":\"surface\",\"colorbar\":{\"outlinewidth\":0,\"ticks\":\"\"},\"colorscale\":[[0.0,\"#0d0887\"],[0.1111111111111111,\"#46039f\"],[0.2222222222222222,\"#7201a8\"],[0.3333333333333333,\"#9c179e\"],[0.4444444444444444,\"#bd3786\"],[0.5555555555555556,\"#d8576b\"],[0.6666666666666666,\"#ed7953\"],[0.7777777777777778,\"#fb9f3a\"],[0.8888888888888888,\"#fdca26\"],[1.0,\"#f0f921\"]]}],\"mesh3d\":[{\"type\":\"mesh3d\",\"colorbar\":{\"outlinewidth\":0,\"ticks\":\"\"}}],\"scatter\":[{\"fillpattern\":{\"fillmode\":\"overlay\",\"size\":10,\"solidity\":0.2},\"type\":\"scatter\"}],\"parcoords\":[{\"type\":\"parcoords\",\"line\":{\"colorbar\":{\"outlinewidth\":0,\"ticks\":\"\"}}}],\"scatterpolargl\":[{\"type\":\"scatterpolargl\",\"marker\":{\"colorbar\":{\"outlinewidth\":0,\"ticks\":\"\"}}}],\"bar\":[{\"error_x\":{\"color\":\"#2a3f5f\"},\"error_y\":{\"color\":\"#2a3f5f\"},\"marker\":{\"line\":{\"color\":\"#E5ECF6\",\"width\":0.5},\"pattern\":{\"fillmode\":\"overlay\",\"size\":10,\"solidity\":0.2}},\"type\":\"bar\"}],\"scattergeo\":[{\"type\":\"scattergeo\",\"marker\":{\"colorbar\":{\"outlinewidth\":0,\"ticks\":\"\"}}}],\"scatterpolar\":[{\"type\":\"scatterpolar\",\"marker\":{\"colorbar\":{\"outlinewidth\":0,\"ticks\":\"\"}}}],\"histogram\":[{\"marker\":{\"pattern\":{\"fillmode\":\"overlay\",\"size\":10,\"solidity\":0.2}},\"type\":\"histogram\"}],\"scattergl\":[{\"type\":\"scattergl\",\"marker\":{\"colorbar\":{\"outlinewidth\":0,\"ticks\":\"\"}}}],\"scatter3d\":[{\"type\":\"scatter3d\",\"line\":{\"colorbar\":{\"outlinewidth\":0,\"ticks\":\"\"}},\"marker\":{\"colorbar\":{\"outlinewidth\":0,\"ticks\":\"\"}}}],\"scattermapbox\":[{\"type\":\"scattermapbox\",\"marker\":{\"colorbar\":{\"outlinewidth\":0,\"ticks\":\"\"}}}],\"scatterternary\":[{\"type\":\"scatterternary\",\"marker\":{\"colorbar\":{\"outlinewidth\":0,\"ticks\":\"\"}}}],\"scattercarpet\":[{\"type\":\"scattercarpet\",\"marker\":{\"colorbar\":{\"outlinewidth\":0,\"ticks\":\"\"}}}],\"carpet\":[{\"aaxis\":{\"endlinecolor\":\"#2a3f5f\",\"gridcolor\":\"white\",\"linecolor\":\"white\",\"minorgridcolor\":\"white\",\"startlinecolor\":\"#2a3f5f\"},\"baxis\":{\"endlinecolor\":\"#2a3f5f\",\"gridcolor\":\"white\",\"linecolor\":\"white\",\"minorgridcolor\":\"white\",\"startlinecolor\":\"#2a3f5f\"},\"type\":\"carpet\"}],\"table\":[{\"cells\":{\"fill\":{\"color\":\"#EBF0F8\"},\"line\":{\"color\":\"white\"}},\"header\":{\"fill\":{\"color\":\"#C8D4E3\"},\"line\":{\"color\":\"white\"}},\"type\":\"table\"}],\"barpolar\":[{\"marker\":{\"line\":{\"color\":\"#E5ECF6\",\"width\":0.5},\"pattern\":{\"fillmode\":\"overlay\",\"size\":10,\"solidity\":0.2}},\"type\":\"barpolar\"}],\"pie\":[{\"automargin\":true,\"type\":\"pie\"}]},\"layout\":{\"autotypenumbers\":\"strict\",\"colorway\":[\"#636efa\",\"#EF553B\",\"#00cc96\",\"#ab63fa\",\"#FFA15A\",\"#19d3f3\",\"#FF6692\",\"#B6E880\",\"#FF97FF\",\"#FECB52\"],\"font\":{\"color\":\"#2a3f5f\"},\"hovermode\":\"closest\",\"hoverlabel\":{\"align\":\"left\"},\"paper_bgcolor\":\"white\",\"plot_bgcolor\":\"#E5ECF6\",\"polar\":{\"bgcolor\":\"#E5ECF6\",\"angularaxis\":{\"gridcolor\":\"white\",\"linecolor\":\"white\",\"ticks\":\"\"},\"radialaxis\":{\"gridcolor\":\"white\",\"linecolor\":\"white\",\"ticks\":\"\"}},\"ternary\":{\"bgcolor\":\"#E5ECF6\",\"aaxis\":{\"gridcolor\":\"white\",\"linecolor\":\"white\",\"ticks\":\"\"},\"baxis\":{\"gridcolor\":\"white\",\"linecolor\":\"white\",\"ticks\":\"\"},\"caxis\":{\"gridcolor\":\"white\",\"linecolor\":\"white\",\"ticks\":\"\"}},\"coloraxis\":{\"colorbar\":{\"outlinewidth\":0,\"ticks\":\"\"}},\"colorscale\":{\"sequential\":[[0.0,\"#0d0887\"],[0.1111111111111111,\"#46039f\"],[0.2222222222222222,\"#7201a8\"],[0.3333333333333333,\"#9c179e\"],[0.4444444444444444,\"#bd3786\"],[0.5555555555555556,\"#d8576b\"],[0.6666666666666666,\"#ed7953\"],[0.7777777777777778,\"#fb9f3a\"],[0.8888888888888888,\"#fdca26\"],[1.0,\"#f0f921\"]],\"sequentialminus\":[[0.0,\"#0d0887\"],[0.1111111111111111,\"#46039f\"],[0.2222222222222222,\"#7201a8\"],[0.3333333333333333,\"#9c179e\"],[0.4444444444444444,\"#bd3786\"],[0.5555555555555556,\"#d8576b\"],[0.6666666666666666,\"#ed7953\"],[0.7777777777777778,\"#fb9f3a\"],[0.8888888888888888,\"#fdca26\"],[1.0,\"#f0f921\"]],\"diverging\":[[0,\"#8e0152\"],[0.1,\"#c51b7d\"],[0.2,\"#de77ae\"],[0.3,\"#f1b6da\"],[0.4,\"#fde0ef\"],[0.5,\"#f7f7f7\"],[0.6,\"#e6f5d0\"],[0.7,\"#b8e186\"],[0.8,\"#7fbc41\"],[0.9,\"#4d9221\"],[1,\"#276419\"]]},\"xaxis\":{\"gridcolor\":\"white\",\"linecolor\":\"white\",\"ticks\":\"\",\"title\":{\"standoff\":15},\"zerolinecolor\":\"white\",\"automargin\":true,\"zerolinewidth\":2},\"yaxis\":{\"gridcolor\":\"white\",\"linecolor\":\"white\",\"ticks\":\"\",\"title\":{\"standoff\":15},\"zerolinecolor\":\"white\",\"automargin\":true,\"zerolinewidth\":2},\"scene\":{\"xaxis\":{\"backgroundcolor\":\"#E5ECF6\",\"gridcolor\":\"white\",\"linecolor\":\"white\",\"showbackground\":true,\"ticks\":\"\",\"zerolinecolor\":\"white\",\"gridwidth\":2},\"yaxis\":{\"backgroundcolor\":\"#E5ECF6\",\"gridcolor\":\"white\",\"linecolor\":\"white\",\"showbackground\":true,\"ticks\":\"\",\"zerolinecolor\":\"white\",\"gridwidth\":2},\"zaxis\":{\"backgroundcolor\":\"#E5ECF6\",\"gridcolor\":\"white\",\"linecolor\":\"white\",\"showbackground\":true,\"ticks\":\"\",\"zerolinecolor\":\"white\",\"gridwidth\":2}},\"shapedefaults\":{\"line\":{\"color\":\"#2a3f5f\"}},\"annotationdefaults\":{\"arrowcolor\":\"#2a3f5f\",\"arrowhead\":0,\"arrowwidth\":1},\"geo\":{\"bgcolor\":\"white\",\"landcolor\":\"#E5ECF6\",\"subunitcolor\":\"white\",\"showland\":true,\"showlakes\":true,\"lakecolor\":\"white\"},\"title\":{\"x\":0.05},\"mapbox\":{\"style\":\"light\"}}},\"xaxis\":{\"anchor\":\"y\",\"domain\":[0.0,1.0],\"title\":{\"text\":\"sum of credit_amount\"}},\"yaxis\":{\"anchor\":\"x\",\"domain\":[0.0,1.0],\"title\":{\"text\":\"class\"}},\"legend\":{\"tracegroupgap\":0},\"title\":{\"text\":\"Credit Amount by Credit Class\"},\"barmode\":\"relative\"},                        {\"responsive\": true}                    ).then(function(){\n",
              "                            \n",
              "var gd = document.getElementById('cf8547d1-c5a0-4dd2-b38b-2fac4377628d');\n",
              "var x = new MutationObserver(function (mutations, observer) {{\n",
              "        var display = window.getComputedStyle(gd).display;\n",
              "        if (!display || display === 'none') {{\n",
              "            console.log([gd, 'removed!']);\n",
              "            Plotly.purge(gd);\n",
              "            observer.disconnect();\n",
              "        }}\n",
              "}});\n",
              "\n",
              "// Listen for the removal of the full notebook cells\n",
              "var notebookContainer = gd.closest('#notebook-container');\n",
              "if (notebookContainer) {{\n",
              "    x.observe(notebookContainer, {childList: true});\n",
              "}}\n",
              "\n",
              "// Listen for the clearing of the current output cell\n",
              "var outputEl = gd.closest('.output');\n",
              "if (outputEl) {{\n",
              "    x.observe(outputEl, {childList: true});\n",
              "}}\n",
              "\n",
              "                        })                };                            </script>        </div>\n",
              "</body>\n",
              "</html>"
            ]
          },
          "metadata": {}
        }
      ],
      "source": [
        "px.histogram(df, x='credit_amount', y='class', title='Credit Amount by Credit Class')"
      ]
    },
    {
      "cell_type": "markdown",
      "source": [
        "this intuitively make sense because the bank would trust good credit user in order for them to lend more to good credit customer."
      ],
      "metadata": {
        "id": "ZBnN4jWmXzti"
      }
    },
    {
      "cell_type": "markdown",
      "source": [
        "let's observe class across age"
      ],
      "metadata": {
        "id": "ZL0PpwXUYAxU"
      }
    },
    {
      "cell_type": "code",
      "source": [
        "fig = px.scatter(df, x='duration', y='credit_amount', color='class',\n",
        "                 title='Relationship between Duration and Credit Amount by Credit Class')\n",
        "fig.show()\n"
      ],
      "metadata": {
        "colab": {
          "base_uri": "https://localhost:8080/",
          "height": 542
        },
        "id": "gRHQVdVKYD5g",
        "outputId": "aa743926-00c1-4e96-bc77-e73012d9ce59"
      },
      "execution_count": 40,
      "outputs": [
        {
          "output_type": "display_data",
          "data": {
            "text/html": [
              "<html>\n",
              "<head><meta charset=\"utf-8\" /></head>\n",
              "<body>\n",
              "    <div>            <script src=\"https://cdnjs.cloudflare.com/ajax/libs/mathjax/2.7.5/MathJax.js?config=TeX-AMS-MML_SVG\"></script><script type=\"text/javascript\">if (window.MathJax && window.MathJax.Hub && window.MathJax.Hub.Config) {window.MathJax.Hub.Config({SVG: {font: \"STIX-Web\"}});}</script>                <script type=\"text/javascript\">window.PlotlyConfig = {MathJaxConfig: 'local'};</script>\n",
              "        <script charset=\"utf-8\" src=\"https://cdn.plot.ly/plotly-2.24.1.min.js\"></script>                <div id=\"9dd76f8e-c86f-451c-8c46-398160806d4f\" class=\"plotly-graph-div\" style=\"height:525px; width:100%;\"></div>            <script type=\"text/javascript\">                                    window.PLOTLYENV=window.PLOTLYENV || {};                                    if (document.getElementById(\"9dd76f8e-c86f-451c-8c46-398160806d4f\")) {                    Plotly.newPlot(                        \"9dd76f8e-c86f-451c-8c46-398160806d4f\",                        [{\"hovertemplate\":\"class=good\\u003cbr\\u003eduration=%{x}\\u003cbr\\u003ecredit_amount=%{y}\\u003cextra\\u003e\\u003c\\u002fextra\\u003e\",\"legendgroup\":\"good\",\"marker\":{\"color\":\"#636efa\",\"symbol\":\"circle\"},\"mode\":\"markers\",\"name\":\"good\",\"orientation\":\"v\",\"showlegend\":true,\"x\":[6,12,42,36,24,36,12,12,15,24,30,24,9,6,10,12,10,6,6,12,7,18,24,18,12,12,48,10,9,30,12,18,30,11,36,6,11,12,24,27,12,18,6,36,18,9,15,24,27,12,12,36,36,7,8,42,12,11,54,30,15,18,24,10,12,18,18,12,12,24,12,12,18,36,20,24,36,6,9,12,12,24,14,6,15,18,12,48,10,12,24,12,10,12,12,12,48,15,18,60,12,27,15,12,6,36,27,21,48,6,12,36,18,6,10,36,24,24,9,12,24,6,24,18,15,10,36,6,11,24,12,8,12,6,12,21,24,15,16,18,6,6,24,9,12,27,12,30,12,12,24,12,9,36,36,6,18,36,24,10,12,12,12,24,15,36,24,9,12,18,4,12,30,6,12,12,24,12,6,24,6,12,24,9,60,24,15,11,12,24,18,12,10,36,24,24,18,12,48,9,18,12,24,15,12,18,15,24,47,48,48,12,12,24,42,48,12,10,18,21,6,10,6,30,9,48,24,24,4,12,24,12,15,24,18,18,8,12,24,36,6,24,13,24,10,24,21,18,18,10,15,13,24,6,9,18,10,12,12,18,12,12,6,12,18,18,18,36,18,10,60,18,7,6,20,22,12,30,18,18,18,15,9,18,12,36,6,9,39,12,36,24,18,18,14,18,24,15,24,24,33,10,36,18,21,15,12,12,21,18,28,18,9,5,6,24,9,6,24,42,12,12,20,9,7,12,36,6,12,24,24,11,6,18,36,15,12,12,18,24,48,33,24,6,39,24,12,15,12,24,30,15,12,12,24,10,6,12,6,6,12,24,18,6,36,9,15,24,39,36,15,12,24,6,6,6,6,24,24,18,26,15,4,6,36,12,24,24,6,18,18,24,12,24,24,48,12,6,12,9,24,6,24,24,24,48,30,24,15,9,15,12,24,24,12,9,12,9,12,12,24,21,24,7,10,24,24,18,15,21,24,48,60,6,12,21,12,15,6,42,9,24,15,12,24,60,12,15,24,18,30,48,24,14,48,30,18,12,21,6,6,24,30,48,30,24,36,60,6,30,24,24,18,6,12,15,24,36,60,10,36,9,12,15,15,24,6,24,6,12,12,18,15,24,30,27,15,9,9,18,21,9,30,30,18,24,20,9,6,15,24,24,8,24,4,36,18,6,24,10,21,24,39,13,15,21,15,6,12,30,6,24,15,12,24,12,10,12,12,24,21,24,12,36,18,36,18,24,12,20,18,22,48,24,6,24,24,9,12,24,9,24,18,20,12,12,6,12,42,8,6,36,6,6,36,12,12,8,18,21,48,24,24,12,4,24,24,21,24,18,21,24,9,24,15,36,24,10,15,9,24,27,15,18,12,36,12,36,6,24,15,12,11,18,36,30,24,24,30,18,24,36,28,27,15,12,36,18,36,21,12,15,20,36,15,24,12,21,36,15,9,36,30,11,10,18,48,12,18,30,12,24,9,12,12,6,24,12,10,24,4,15,48,12,18,12,24,30,9,24,6,21,15,6,30,15,42,11,15,24,30,24,6,18,21,24,15,42,13,24,24,12,15,18,36,12,12,30,12,45],\"xaxis\":\"x\",\"y\":[1169,2096,7882,9055,2835,6948,3059,1567,1403,2424,8072,3430,2134,2647,2241,1804,2069,1374,426,409,2415,1913,4020,5866,1264,1474,6110,1225,458,2333,1158,6204,6187,1393,2299,1352,7228,2073,2333,5965,1262,3378,783,9566,1961,1391,1537,3181,5190,2171,1007,2394,8133,730,1164,5954,1526,4771,9436,3832,1213,1568,1755,2315,1412,1295,2249,618,1409,3617,1318,2012,2622,2337,7057,1469,2323,932,1919,2445,6078,7721,1410,1449,392,6260,1680,3578,2132,2366,3868,1768,781,2121,701,1860,8487,2708,1984,10144,1240,8613,2728,1881,709,4795,3416,2288,3566,860,682,5371,1582,1346,1924,5848,7758,6967,1288,339,3512,1898,2872,1055,1262,7308,909,2978,1577,3972,763,1414,2577,338,1963,571,3777,1360,1175,3244,2108,1382,2760,936,1168,5117,1495,10623,1935,1424,6568,1413,3074,3835,3342,932,3104,3913,3021,1364,625,1200,707,2978,4657,2613,3149,2507,2141,866,1544,1291,2522,1595,1185,3447,1258,717,1204,1925,666,2251,4151,2030,7418,2684,3812,1154,1657,1603,5302,2748,1231,6304,1533,999,2662,1402,12169,2697,2404,1262,1901,3368,1574,1445,1520,3878,10722,4788,7582,1092,1076,6419,4796,7629,4675,1287,2515,2745,672,1038,1543,4811,276,5381,5511,3749,1494,708,4351,701,3643,2910,2659,1028,3398,5801,1525,4473,1068,6615,2101,4169,1521,5743,3599,3213,4439,3949,1459,882,3758,1743,1236,3229,727,2331,776,1239,3399,2247,1766,1542,3850,3650,3001,3079,6070,2146,13756,2320,846,362,2212,1283,1330,4272,2238,1126,7374,2326,1449,1820,983,3249,1957,2406,11760,2578,2348,1516,1473,1887,802,2899,2197,1053,3235,1967,7253,1597,5842,8471,2782,3186,2028,958,1591,2779,2743,1149,1313,3448,1872,2058,2136,660,1287,3394,1884,1620,2629,1244,2576,1424,11054,518,2759,2670,2679,3905,343,4594,3620,1721,3017,754,1950,2924,7238,2764,4679,1238,2569,5152,1037,1478,3573,1201,3622,960,1163,3077,3757,1418,3518,1934,1237,368,2122,1585,1301,1323,5493,1126,2360,1413,8588,4686,2687,585,2255,609,1361,1203,700,5507,3488,1113,7966,1532,1503,662,2273,1503,1311,3105,1374,3612,3049,2032,1255,2022,1552,8858,996,1750,1995,1199,2964,683,4712,1553,2578,3979,5954,5433,806,1082,2788,2930,1927,937,3124,1388,2133,2799,1289,385,1965,1572,3863,2329,1275,2828,4526,2051,1300,3357,3632,12204,9157,3676,640,3652,1858,1979,2116,4042,3832,3660,1444,1393,1376,15653,1493,1308,1851,1880,4583,7476,2346,3973,10222,4221,6361,1297,2241,1050,1047,6314,3496,3609,3017,4139,5742,10366,2080,4530,5150,2384,1453,1538,2279,1478,5103,9857,6527,1347,2862,2753,3651,975,2631,2896,4716,2284,1236,1103,926,1800,1905,1377,2503,2528,5324,1206,2118,629,2476,1138,7596,3077,1505,3148,6148,790,250,1316,1275,6403,760,2603,3380,3990,4380,6761,2325,1048,3160,2483,14179,1797,2511,5248,3029,428,841,5771,1299,1393,5045,2214,2463,1155,2901,3617,1655,2812,3275,2223,1480,3535,3509,5711,3872,1940,1410,6468,1941,2675,2751,6313,1221,2892,3062,2301,1258,717,1549,1597,1795,4272,976,7472,590,930,9283,907,484,7432,1338,1554,15857,1101,3016,731,3780,1602,6681,2375,5084,886,601,2957,2611,2993,1559,3422,3976,1249,1364,4042,1471,10875,1474,894,3343,3577,5804,4526,2221,2389,3331,7409,652,7678,1343,1382,874,3590,1322,1940,3595,6742,7814,9277,2181,1098,2825,6614,7824,2442,1829,2171,5800,1169,8947,2606,1592,2186,3485,10477,1386,1278,1107,3763,3711,3594,3195,4454,2991,2142,2848,1817,12749,2002,1049,1867,1344,1747,1224,522,1498,2063,6842,3527,1546,929,1455,1845,8358,2859,3590,1893,1231,3656,1154,3069,1740,2353,3556,454,1715,3568,7166,3939,1514,7393,2831,1258,753,2427,2923,2028,1433,6289,1409,6579,1743,3565,1569,1936,3959,2390,1736,3857,804,4576],\"yaxis\":\"y\",\"type\":\"scatter\"},{\"hovertemplate\":\"class=bad\\u003cbr\\u003eduration=%{x}\\u003cbr\\u003ecredit_amount=%{y}\\u003cextra\\u003e\\u003c\\u002fextra\\u003e\",\"legendgroup\":\"bad\",\"marker\":{\"color\":\"#EF553B\",\"symbol\":\"circle\"},\"mode\":\"markers\",\"name\":\"bad\",\"orientation\":\"v\",\"showlegend\":true,\"x\":[48,24,30,12,48,24,24,24,60,45,18,48,36,12,36,36,48,36,36,42,24,36,12,12,54,24,18,36,42,33,21,18,12,12,36,12,18,12,18,24,15,24,21,30,36,36,21,18,9,12,24,48,27,45,9,12,18,12,27,30,48,12,9,36,24,6,21,24,48,18,30,12,15,14,48,30,6,24,36,48,36,24,48,12,8,12,36,30,24,18,60,48,24,6,15,9,9,12,24,36,30,18,36,60,48,36,18,12,24,24,12,12,24,12,18,12,18,24,12,12,12,48,36,15,24,12,24,24,6,9,18,18,6,27,24,36,24,24,24,10,15,12,36,18,48,36,15,21,48,12,30,18,24,12,48,12,18,21,24,18,24,36,12,48,24,36,18,36,18,18,12,24,24,6,24,24,18,9,24,36,36,12,10,18,30,18,48,18,9,18,9,24,42,18,15,36,12,24,12,12,24,36,12,12,12,21,72,12,48,48,12,6,60,9,6,12,27,18,48,24,24,30,12,18,12,24,15,12,18,21,30,36,24,39,12,48,40,21,18,36,15,36,48,48,18,36,18,18,36,18,45,15,12,36,18,18,12,20,18,15,18,24,10,9,24,12,48,18,16,24,24,48,6,24,24,9,24,12,48,9,30,9,60,24,18,24,36,24,36,28,24,27,24,60,24,15,30,48,36,45],\"xaxis\":\"x\",\"y\":[5951,4870,5234,1295,4308,1199,1282,12579,6836,4746,2100,6143,2225,6468,6229,1953,14421,1819,1977,3965,5943,12612,1108,797,15945,11938,6458,7855,7174,4281,1835,1924,639,3499,6887,766,2462,1282,1131,1935,950,2064,3414,7485,9572,4455,1647,884,5129,674,4591,3844,3915,3031,1501,951,4297,902,5293,1908,10961,7865,1478,4210,1823,14555,2767,915,4605,433,2150,2149,802,8978,3060,11998,4611,1024,9398,9960,3804,1344,10127,727,1237,685,2746,4249,1938,1864,7408,11590,4110,3384,1275,1136,959,6199,1246,4463,2406,2473,3446,14782,7685,14318,12976,1223,8648,2039,939,2292,1381,2579,1042,2762,1190,11328,1484,609,719,5096,1842,1512,4817,3386,1659,3092,448,654,1245,3114,1209,8318,2996,9034,3123,1216,1207,1309,6850,759,7127,3190,7119,2302,2631,2319,7763,1534,6350,2864,1333,626,6999,1331,2278,5003,3552,1928,1546,12389,1372,6758,3234,2820,1056,2384,2039,1217,2246,2718,1358,931,1442,4241,2775,918,1837,3349,2671,741,1240,1808,3441,1530,3914,2600,1437,1553,1980,1355,4370,750,4623,7980,1386,947,684,1922,2303,8086,888,900,4843,2580,5595,1123,6331,6560,2969,1198,14027,1337,433,1228,2570,1882,6416,1987,11560,4280,1274,976,1555,1285,1271,691,2124,12680,3108,8065,1371,4933,836,6224,5998,1188,7511,9271,1778,9629,3051,3931,1345,2712,3966,4165,8335,1216,11816,2327,1082,5179,1943,6761,709,2235,1442,3959,2169,2439,2210,1422,4057,795,15672,4153,2625,4736,3161,18424,14896,2359,3345,1366,6872,697,10297,1670,1919,745,6288,3349,1533,3621,2145,4113,10974,4006,2397,2520,1193,7297,2538,1264,8386,4844,8229,1845],\"yaxis\":\"y\",\"type\":\"scatter\"}],                        {\"template\":{\"data\":{\"histogram2dcontour\":[{\"type\":\"histogram2dcontour\",\"colorbar\":{\"outlinewidth\":0,\"ticks\":\"\"},\"colorscale\":[[0.0,\"#0d0887\"],[0.1111111111111111,\"#46039f\"],[0.2222222222222222,\"#7201a8\"],[0.3333333333333333,\"#9c179e\"],[0.4444444444444444,\"#bd3786\"],[0.5555555555555556,\"#d8576b\"],[0.6666666666666666,\"#ed7953\"],[0.7777777777777778,\"#fb9f3a\"],[0.8888888888888888,\"#fdca26\"],[1.0,\"#f0f921\"]]}],\"choropleth\":[{\"type\":\"choropleth\",\"colorbar\":{\"outlinewidth\":0,\"ticks\":\"\"}}],\"histogram2d\":[{\"type\":\"histogram2d\",\"colorbar\":{\"outlinewidth\":0,\"ticks\":\"\"},\"colorscale\":[[0.0,\"#0d0887\"],[0.1111111111111111,\"#46039f\"],[0.2222222222222222,\"#7201a8\"],[0.3333333333333333,\"#9c179e\"],[0.4444444444444444,\"#bd3786\"],[0.5555555555555556,\"#d8576b\"],[0.6666666666666666,\"#ed7953\"],[0.7777777777777778,\"#fb9f3a\"],[0.8888888888888888,\"#fdca26\"],[1.0,\"#f0f921\"]]}],\"heatmap\":[{\"type\":\"heatmap\",\"colorbar\":{\"outlinewidth\":0,\"ticks\":\"\"},\"colorscale\":[[0.0,\"#0d0887\"],[0.1111111111111111,\"#46039f\"],[0.2222222222222222,\"#7201a8\"],[0.3333333333333333,\"#9c179e\"],[0.4444444444444444,\"#bd3786\"],[0.5555555555555556,\"#d8576b\"],[0.6666666666666666,\"#ed7953\"],[0.7777777777777778,\"#fb9f3a\"],[0.8888888888888888,\"#fdca26\"],[1.0,\"#f0f921\"]]}],\"heatmapgl\":[{\"type\":\"heatmapgl\",\"colorbar\":{\"outlinewidth\":0,\"ticks\":\"\"},\"colorscale\":[[0.0,\"#0d0887\"],[0.1111111111111111,\"#46039f\"],[0.2222222222222222,\"#7201a8\"],[0.3333333333333333,\"#9c179e\"],[0.4444444444444444,\"#bd3786\"],[0.5555555555555556,\"#d8576b\"],[0.6666666666666666,\"#ed7953\"],[0.7777777777777778,\"#fb9f3a\"],[0.8888888888888888,\"#fdca26\"],[1.0,\"#f0f921\"]]}],\"contourcarpet\":[{\"type\":\"contourcarpet\",\"colorbar\":{\"outlinewidth\":0,\"ticks\":\"\"}}],\"contour\":[{\"type\":\"contour\",\"colorbar\":{\"outlinewidth\":0,\"ticks\":\"\"},\"colorscale\":[[0.0,\"#0d0887\"],[0.1111111111111111,\"#46039f\"],[0.2222222222222222,\"#7201a8\"],[0.3333333333333333,\"#9c179e\"],[0.4444444444444444,\"#bd3786\"],[0.5555555555555556,\"#d8576b\"],[0.6666666666666666,\"#ed7953\"],[0.7777777777777778,\"#fb9f3a\"],[0.8888888888888888,\"#fdca26\"],[1.0,\"#f0f921\"]]}],\"surface\":[{\"type\":\"surface\",\"colorbar\":{\"outlinewidth\":0,\"ticks\":\"\"},\"colorscale\":[[0.0,\"#0d0887\"],[0.1111111111111111,\"#46039f\"],[0.2222222222222222,\"#7201a8\"],[0.3333333333333333,\"#9c179e\"],[0.4444444444444444,\"#bd3786\"],[0.5555555555555556,\"#d8576b\"],[0.6666666666666666,\"#ed7953\"],[0.7777777777777778,\"#fb9f3a\"],[0.8888888888888888,\"#fdca26\"],[1.0,\"#f0f921\"]]}],\"mesh3d\":[{\"type\":\"mesh3d\",\"colorbar\":{\"outlinewidth\":0,\"ticks\":\"\"}}],\"scatter\":[{\"fillpattern\":{\"fillmode\":\"overlay\",\"size\":10,\"solidity\":0.2},\"type\":\"scatter\"}],\"parcoords\":[{\"type\":\"parcoords\",\"line\":{\"colorbar\":{\"outlinewidth\":0,\"ticks\":\"\"}}}],\"scatterpolargl\":[{\"type\":\"scatterpolargl\",\"marker\":{\"colorbar\":{\"outlinewidth\":0,\"ticks\":\"\"}}}],\"bar\":[{\"error_x\":{\"color\":\"#2a3f5f\"},\"error_y\":{\"color\":\"#2a3f5f\"},\"marker\":{\"line\":{\"color\":\"#E5ECF6\",\"width\":0.5},\"pattern\":{\"fillmode\":\"overlay\",\"size\":10,\"solidity\":0.2}},\"type\":\"bar\"}],\"scattergeo\":[{\"type\":\"scattergeo\",\"marker\":{\"colorbar\":{\"outlinewidth\":0,\"ticks\":\"\"}}}],\"scatterpolar\":[{\"type\":\"scatterpolar\",\"marker\":{\"colorbar\":{\"outlinewidth\":0,\"ticks\":\"\"}}}],\"histogram\":[{\"marker\":{\"pattern\":{\"fillmode\":\"overlay\",\"size\":10,\"solidity\":0.2}},\"type\":\"histogram\"}],\"scattergl\":[{\"type\":\"scattergl\",\"marker\":{\"colorbar\":{\"outlinewidth\":0,\"ticks\":\"\"}}}],\"scatter3d\":[{\"type\":\"scatter3d\",\"line\":{\"colorbar\":{\"outlinewidth\":0,\"ticks\":\"\"}},\"marker\":{\"colorbar\":{\"outlinewidth\":0,\"ticks\":\"\"}}}],\"scattermapbox\":[{\"type\":\"scattermapbox\",\"marker\":{\"colorbar\":{\"outlinewidth\":0,\"ticks\":\"\"}}}],\"scatterternary\":[{\"type\":\"scatterternary\",\"marker\":{\"colorbar\":{\"outlinewidth\":0,\"ticks\":\"\"}}}],\"scattercarpet\":[{\"type\":\"scattercarpet\",\"marker\":{\"colorbar\":{\"outlinewidth\":0,\"ticks\":\"\"}}}],\"carpet\":[{\"aaxis\":{\"endlinecolor\":\"#2a3f5f\",\"gridcolor\":\"white\",\"linecolor\":\"white\",\"minorgridcolor\":\"white\",\"startlinecolor\":\"#2a3f5f\"},\"baxis\":{\"endlinecolor\":\"#2a3f5f\",\"gridcolor\":\"white\",\"linecolor\":\"white\",\"minorgridcolor\":\"white\",\"startlinecolor\":\"#2a3f5f\"},\"type\":\"carpet\"}],\"table\":[{\"cells\":{\"fill\":{\"color\":\"#EBF0F8\"},\"line\":{\"color\":\"white\"}},\"header\":{\"fill\":{\"color\":\"#C8D4E3\"},\"line\":{\"color\":\"white\"}},\"type\":\"table\"}],\"barpolar\":[{\"marker\":{\"line\":{\"color\":\"#E5ECF6\",\"width\":0.5},\"pattern\":{\"fillmode\":\"overlay\",\"size\":10,\"solidity\":0.2}},\"type\":\"barpolar\"}],\"pie\":[{\"automargin\":true,\"type\":\"pie\"}]},\"layout\":{\"autotypenumbers\":\"strict\",\"colorway\":[\"#636efa\",\"#EF553B\",\"#00cc96\",\"#ab63fa\",\"#FFA15A\",\"#19d3f3\",\"#FF6692\",\"#B6E880\",\"#FF97FF\",\"#FECB52\"],\"font\":{\"color\":\"#2a3f5f\"},\"hovermode\":\"closest\",\"hoverlabel\":{\"align\":\"left\"},\"paper_bgcolor\":\"white\",\"plot_bgcolor\":\"#E5ECF6\",\"polar\":{\"bgcolor\":\"#E5ECF6\",\"angularaxis\":{\"gridcolor\":\"white\",\"linecolor\":\"white\",\"ticks\":\"\"},\"radialaxis\":{\"gridcolor\":\"white\",\"linecolor\":\"white\",\"ticks\":\"\"}},\"ternary\":{\"bgcolor\":\"#E5ECF6\",\"aaxis\":{\"gridcolor\":\"white\",\"linecolor\":\"white\",\"ticks\":\"\"},\"baxis\":{\"gridcolor\":\"white\",\"linecolor\":\"white\",\"ticks\":\"\"},\"caxis\":{\"gridcolor\":\"white\",\"linecolor\":\"white\",\"ticks\":\"\"}},\"coloraxis\":{\"colorbar\":{\"outlinewidth\":0,\"ticks\":\"\"}},\"colorscale\":{\"sequential\":[[0.0,\"#0d0887\"],[0.1111111111111111,\"#46039f\"],[0.2222222222222222,\"#7201a8\"],[0.3333333333333333,\"#9c179e\"],[0.4444444444444444,\"#bd3786\"],[0.5555555555555556,\"#d8576b\"],[0.6666666666666666,\"#ed7953\"],[0.7777777777777778,\"#fb9f3a\"],[0.8888888888888888,\"#fdca26\"],[1.0,\"#f0f921\"]],\"sequentialminus\":[[0.0,\"#0d0887\"],[0.1111111111111111,\"#46039f\"],[0.2222222222222222,\"#7201a8\"],[0.3333333333333333,\"#9c179e\"],[0.4444444444444444,\"#bd3786\"],[0.5555555555555556,\"#d8576b\"],[0.6666666666666666,\"#ed7953\"],[0.7777777777777778,\"#fb9f3a\"],[0.8888888888888888,\"#fdca26\"],[1.0,\"#f0f921\"]],\"diverging\":[[0,\"#8e0152\"],[0.1,\"#c51b7d\"],[0.2,\"#de77ae\"],[0.3,\"#f1b6da\"],[0.4,\"#fde0ef\"],[0.5,\"#f7f7f7\"],[0.6,\"#e6f5d0\"],[0.7,\"#b8e186\"],[0.8,\"#7fbc41\"],[0.9,\"#4d9221\"],[1,\"#276419\"]]},\"xaxis\":{\"gridcolor\":\"white\",\"linecolor\":\"white\",\"ticks\":\"\",\"title\":{\"standoff\":15},\"zerolinecolor\":\"white\",\"automargin\":true,\"zerolinewidth\":2},\"yaxis\":{\"gridcolor\":\"white\",\"linecolor\":\"white\",\"ticks\":\"\",\"title\":{\"standoff\":15},\"zerolinecolor\":\"white\",\"automargin\":true,\"zerolinewidth\":2},\"scene\":{\"xaxis\":{\"backgroundcolor\":\"#E5ECF6\",\"gridcolor\":\"white\",\"linecolor\":\"white\",\"showbackground\":true,\"ticks\":\"\",\"zerolinecolor\":\"white\",\"gridwidth\":2},\"yaxis\":{\"backgroundcolor\":\"#E5ECF6\",\"gridcolor\":\"white\",\"linecolor\":\"white\",\"showbackground\":true,\"ticks\":\"\",\"zerolinecolor\":\"white\",\"gridwidth\":2},\"zaxis\":{\"backgroundcolor\":\"#E5ECF6\",\"gridcolor\":\"white\",\"linecolor\":\"white\",\"showbackground\":true,\"ticks\":\"\",\"zerolinecolor\":\"white\",\"gridwidth\":2}},\"shapedefaults\":{\"line\":{\"color\":\"#2a3f5f\"}},\"annotationdefaults\":{\"arrowcolor\":\"#2a3f5f\",\"arrowhead\":0,\"arrowwidth\":1},\"geo\":{\"bgcolor\":\"white\",\"landcolor\":\"#E5ECF6\",\"subunitcolor\":\"white\",\"showland\":true,\"showlakes\":true,\"lakecolor\":\"white\"},\"title\":{\"x\":0.05},\"mapbox\":{\"style\":\"light\"}}},\"xaxis\":{\"anchor\":\"y\",\"domain\":[0.0,1.0],\"title\":{\"text\":\"duration\"}},\"yaxis\":{\"anchor\":\"x\",\"domain\":[0.0,1.0],\"title\":{\"text\":\"credit_amount\"}},\"legend\":{\"title\":{\"text\":\"class\"},\"tracegroupgap\":0},\"title\":{\"text\":\"Relationship between Duration and Credit Amount by Credit Class\"}},                        {\"responsive\": true}                    ).then(function(){\n",
              "                            \n",
              "var gd = document.getElementById('9dd76f8e-c86f-451c-8c46-398160806d4f');\n",
              "var x = new MutationObserver(function (mutations, observer) {{\n",
              "        var display = window.getComputedStyle(gd).display;\n",
              "        if (!display || display === 'none') {{\n",
              "            console.log([gd, 'removed!']);\n",
              "            Plotly.purge(gd);\n",
              "            observer.disconnect();\n",
              "        }}\n",
              "}});\n",
              "\n",
              "// Listen for the removal of the full notebook cells\n",
              "var notebookContainer = gd.closest('#notebook-container');\n",
              "if (notebookContainer) {{\n",
              "    x.observe(notebookContainer, {childList: true});\n",
              "}}\n",
              "\n",
              "// Listen for the clearing of the current output cell\n",
              "var outputEl = gd.closest('.output');\n",
              "if (outputEl) {{\n",
              "    x.observe(outputEl, {childList: true});\n",
              "}}\n",
              "\n",
              "                        })                };                            </script>        </div>\n",
              "</body>\n",
              "</html>"
            ]
          },
          "metadata": {}
        }
      ]
    },
    {
      "cell_type": "markdown",
      "source": [
        "1. first of all there is seem to be a moderate positive correlation between duration and credit amount\n",
        "  - when the bank lend out longer, it tends that the amount it lends out increases as well.\n",
        "2. secondly,  across duration, it seems that bad credit customers cover more than good customer.\n",
        "  - even though it seems that there is a positive correlation, however, the spread of bad credit class tend to increase across credit amount as well.\n",
        "    - maybe this explain that, over time, they may encounter financial difficulties that affect their ability to repay"
      ],
      "metadata": {
        "id": "G4nJnMDqYbce"
      }
    },
    {
      "cell_type": "markdown",
      "source": [
        "let now observe"
      ],
      "metadata": {
        "id": "r3deXehOaQ3i"
      }
    },
    {
      "cell_type": "code",
      "source": [
        "corr_matrix = df.corr()\n",
        "\n",
        "# Create a heatmap\n",
        "px.imshow(corr_matrix, text_auto=True, aspect='auto',\n",
        "                title='Heatmap of Feature Correlation')"
      ],
      "metadata": {
        "colab": {
          "base_uri": "https://localhost:8080/",
          "height": 614
        },
        "id": "lxBYslgQaQqk",
        "outputId": "d7ad49ee-295f-4082-ed59-d68e88dc7224"
      },
      "execution_count": 53,
      "outputs": [
        {
          "output_type": "stream",
          "name": "stderr",
          "text": [
            "<ipython-input-53-e9a575192609>:1: FutureWarning:\n",
            "\n",
            "The default value of numeric_only in DataFrame.corr is deprecated. In a future version, it will default to False. Select only valid columns or specify the value of numeric_only to silence this warning.\n",
            "\n"
          ]
        },
        {
          "output_type": "display_data",
          "data": {
            "text/html": [
              "<html>\n",
              "<head><meta charset=\"utf-8\" /></head>\n",
              "<body>\n",
              "    <div>            <script src=\"https://cdnjs.cloudflare.com/ajax/libs/mathjax/2.7.5/MathJax.js?config=TeX-AMS-MML_SVG\"></script><script type=\"text/javascript\">if (window.MathJax && window.MathJax.Hub && window.MathJax.Hub.Config) {window.MathJax.Hub.Config({SVG: {font: \"STIX-Web\"}});}</script>                <script type=\"text/javascript\">window.PlotlyConfig = {MathJaxConfig: 'local'};</script>\n",
              "        <script charset=\"utf-8\" src=\"https://cdn.plot.ly/plotly-2.24.1.min.js\"></script>                <div id=\"98389629-22f2-4dff-a795-4129ad803a09\" class=\"plotly-graph-div\" style=\"height:525px; width:100%;\"></div>            <script type=\"text/javascript\">                                    window.PLOTLYENV=window.PLOTLYENV || {};                                    if (document.getElementById(\"98389629-22f2-4dff-a795-4129ad803a09\")) {                    Plotly.newPlot(                        \"98389629-22f2-4dff-a795-4129ad803a09\",                        [{\"coloraxis\":\"coloraxis\",\"name\":\"0\",\"texttemplate\":\"%{z}\",\"x\":[\"duration\",\"credit_amount\",\"installment_commitment\",\"residence_since\",\"age\",\"existing_credits\",\"num_dependents\"],\"y\":[\"duration\",\"credit_amount\",\"installment_commitment\",\"residence_since\",\"age\",\"existing_credits\",\"num_dependents\"],\"z\":[[1.0,0.6249841983009851,0.07474881629117033,0.03406720161114831,-0.03613637401909835,-0.011283597446143033,-0.023834475397621752],[0.6249841983009851,1.0,-0.271315701246002,0.028926323080232533,0.032716416665448014,0.020794551748965877,0.017142154158463888],[0.07474881629117033,-0.271315701246002,1.0,0.04930237081388658,0.0582656843514099,0.0216687425713283,-0.0712069430082334],[0.03406720161114831,0.028926323080232533,0.04930237081388658,1.0,0.266419183969461,0.08962523262254277,0.04264342597522536],[-0.03613637401909835,0.032716416665448014,0.0582656843514099,0.266419183969461,1.0,0.14925358219009058,0.11820083281906714],[-0.011283597446143033,0.020794551748965877,0.0216687425713283,0.08962523262254277,0.14925358219009058,1.0,0.10966670041593389],[-0.023834475397621752,0.017142154158463888,-0.0712069430082334,0.04264342597522536,0.11820083281906714,0.10966670041593389,1.0]],\"type\":\"heatmap\",\"xaxis\":\"x\",\"yaxis\":\"y\",\"hovertemplate\":\"x: %{x}\\u003cbr\\u003ey: %{y}\\u003cbr\\u003ecolor: %{z}\\u003cextra\\u003e\\u003c\\u002fextra\\u003e\"}],                        {\"template\":{\"data\":{\"histogram2dcontour\":[{\"type\":\"histogram2dcontour\",\"colorbar\":{\"outlinewidth\":0,\"ticks\":\"\"},\"colorscale\":[[0.0,\"#0d0887\"],[0.1111111111111111,\"#46039f\"],[0.2222222222222222,\"#7201a8\"],[0.3333333333333333,\"#9c179e\"],[0.4444444444444444,\"#bd3786\"],[0.5555555555555556,\"#d8576b\"],[0.6666666666666666,\"#ed7953\"],[0.7777777777777778,\"#fb9f3a\"],[0.8888888888888888,\"#fdca26\"],[1.0,\"#f0f921\"]]}],\"choropleth\":[{\"type\":\"choropleth\",\"colorbar\":{\"outlinewidth\":0,\"ticks\":\"\"}}],\"histogram2d\":[{\"type\":\"histogram2d\",\"colorbar\":{\"outlinewidth\":0,\"ticks\":\"\"},\"colorscale\":[[0.0,\"#0d0887\"],[0.1111111111111111,\"#46039f\"],[0.2222222222222222,\"#7201a8\"],[0.3333333333333333,\"#9c179e\"],[0.4444444444444444,\"#bd3786\"],[0.5555555555555556,\"#d8576b\"],[0.6666666666666666,\"#ed7953\"],[0.7777777777777778,\"#fb9f3a\"],[0.8888888888888888,\"#fdca26\"],[1.0,\"#f0f921\"]]}],\"heatmap\":[{\"type\":\"heatmap\",\"colorbar\":{\"outlinewidth\":0,\"ticks\":\"\"},\"colorscale\":[[0.0,\"#0d0887\"],[0.1111111111111111,\"#46039f\"],[0.2222222222222222,\"#7201a8\"],[0.3333333333333333,\"#9c179e\"],[0.4444444444444444,\"#bd3786\"],[0.5555555555555556,\"#d8576b\"],[0.6666666666666666,\"#ed7953\"],[0.7777777777777778,\"#fb9f3a\"],[0.8888888888888888,\"#fdca26\"],[1.0,\"#f0f921\"]]}],\"heatmapgl\":[{\"type\":\"heatmapgl\",\"colorbar\":{\"outlinewidth\":0,\"ticks\":\"\"},\"colorscale\":[[0.0,\"#0d0887\"],[0.1111111111111111,\"#46039f\"],[0.2222222222222222,\"#7201a8\"],[0.3333333333333333,\"#9c179e\"],[0.4444444444444444,\"#bd3786\"],[0.5555555555555556,\"#d8576b\"],[0.6666666666666666,\"#ed7953\"],[0.7777777777777778,\"#fb9f3a\"],[0.8888888888888888,\"#fdca26\"],[1.0,\"#f0f921\"]]}],\"contourcarpet\":[{\"type\":\"contourcarpet\",\"colorbar\":{\"outlinewidth\":0,\"ticks\":\"\"}}],\"contour\":[{\"type\":\"contour\",\"colorbar\":{\"outlinewidth\":0,\"ticks\":\"\"},\"colorscale\":[[0.0,\"#0d0887\"],[0.1111111111111111,\"#46039f\"],[0.2222222222222222,\"#7201a8\"],[0.3333333333333333,\"#9c179e\"],[0.4444444444444444,\"#bd3786\"],[0.5555555555555556,\"#d8576b\"],[0.6666666666666666,\"#ed7953\"],[0.7777777777777778,\"#fb9f3a\"],[0.8888888888888888,\"#fdca26\"],[1.0,\"#f0f921\"]]}],\"surface\":[{\"type\":\"surface\",\"colorbar\":{\"outlinewidth\":0,\"ticks\":\"\"},\"colorscale\":[[0.0,\"#0d0887\"],[0.1111111111111111,\"#46039f\"],[0.2222222222222222,\"#7201a8\"],[0.3333333333333333,\"#9c179e\"],[0.4444444444444444,\"#bd3786\"],[0.5555555555555556,\"#d8576b\"],[0.6666666666666666,\"#ed7953\"],[0.7777777777777778,\"#fb9f3a\"],[0.8888888888888888,\"#fdca26\"],[1.0,\"#f0f921\"]]}],\"mesh3d\":[{\"type\":\"mesh3d\",\"colorbar\":{\"outlinewidth\":0,\"ticks\":\"\"}}],\"scatter\":[{\"fillpattern\":{\"fillmode\":\"overlay\",\"size\":10,\"solidity\":0.2},\"type\":\"scatter\"}],\"parcoords\":[{\"type\":\"parcoords\",\"line\":{\"colorbar\":{\"outlinewidth\":0,\"ticks\":\"\"}}}],\"scatterpolargl\":[{\"type\":\"scatterpolargl\",\"marker\":{\"colorbar\":{\"outlinewidth\":0,\"ticks\":\"\"}}}],\"bar\":[{\"error_x\":{\"color\":\"#2a3f5f\"},\"error_y\":{\"color\":\"#2a3f5f\"},\"marker\":{\"line\":{\"color\":\"#E5ECF6\",\"width\":0.5},\"pattern\":{\"fillmode\":\"overlay\",\"size\":10,\"solidity\":0.2}},\"type\":\"bar\"}],\"scattergeo\":[{\"type\":\"scattergeo\",\"marker\":{\"colorbar\":{\"outlinewidth\":0,\"ticks\":\"\"}}}],\"scatterpolar\":[{\"type\":\"scatterpolar\",\"marker\":{\"colorbar\":{\"outlinewidth\":0,\"ticks\":\"\"}}}],\"histogram\":[{\"marker\":{\"pattern\":{\"fillmode\":\"overlay\",\"size\":10,\"solidity\":0.2}},\"type\":\"histogram\"}],\"scattergl\":[{\"type\":\"scattergl\",\"marker\":{\"colorbar\":{\"outlinewidth\":0,\"ticks\":\"\"}}}],\"scatter3d\":[{\"type\":\"scatter3d\",\"line\":{\"colorbar\":{\"outlinewidth\":0,\"ticks\":\"\"}},\"marker\":{\"colorbar\":{\"outlinewidth\":0,\"ticks\":\"\"}}}],\"scattermapbox\":[{\"type\":\"scattermapbox\",\"marker\":{\"colorbar\":{\"outlinewidth\":0,\"ticks\":\"\"}}}],\"scatterternary\":[{\"type\":\"scatterternary\",\"marker\":{\"colorbar\":{\"outlinewidth\":0,\"ticks\":\"\"}}}],\"scattercarpet\":[{\"type\":\"scattercarpet\",\"marker\":{\"colorbar\":{\"outlinewidth\":0,\"ticks\":\"\"}}}],\"carpet\":[{\"aaxis\":{\"endlinecolor\":\"#2a3f5f\",\"gridcolor\":\"white\",\"linecolor\":\"white\",\"minorgridcolor\":\"white\",\"startlinecolor\":\"#2a3f5f\"},\"baxis\":{\"endlinecolor\":\"#2a3f5f\",\"gridcolor\":\"white\",\"linecolor\":\"white\",\"minorgridcolor\":\"white\",\"startlinecolor\":\"#2a3f5f\"},\"type\":\"carpet\"}],\"table\":[{\"cells\":{\"fill\":{\"color\":\"#EBF0F8\"},\"line\":{\"color\":\"white\"}},\"header\":{\"fill\":{\"color\":\"#C8D4E3\"},\"line\":{\"color\":\"white\"}},\"type\":\"table\"}],\"barpolar\":[{\"marker\":{\"line\":{\"color\":\"#E5ECF6\",\"width\":0.5},\"pattern\":{\"fillmode\":\"overlay\",\"size\":10,\"solidity\":0.2}},\"type\":\"barpolar\"}],\"pie\":[{\"automargin\":true,\"type\":\"pie\"}]},\"layout\":{\"autotypenumbers\":\"strict\",\"colorway\":[\"#636efa\",\"#EF553B\",\"#00cc96\",\"#ab63fa\",\"#FFA15A\",\"#19d3f3\",\"#FF6692\",\"#B6E880\",\"#FF97FF\",\"#FECB52\"],\"font\":{\"color\":\"#2a3f5f\"},\"hovermode\":\"closest\",\"hoverlabel\":{\"align\":\"left\"},\"paper_bgcolor\":\"white\",\"plot_bgcolor\":\"#E5ECF6\",\"polar\":{\"bgcolor\":\"#E5ECF6\",\"angularaxis\":{\"gridcolor\":\"white\",\"linecolor\":\"white\",\"ticks\":\"\"},\"radialaxis\":{\"gridcolor\":\"white\",\"linecolor\":\"white\",\"ticks\":\"\"}},\"ternary\":{\"bgcolor\":\"#E5ECF6\",\"aaxis\":{\"gridcolor\":\"white\",\"linecolor\":\"white\",\"ticks\":\"\"},\"baxis\":{\"gridcolor\":\"white\",\"linecolor\":\"white\",\"ticks\":\"\"},\"caxis\":{\"gridcolor\":\"white\",\"linecolor\":\"white\",\"ticks\":\"\"}},\"coloraxis\":{\"colorbar\":{\"outlinewidth\":0,\"ticks\":\"\"}},\"colorscale\":{\"sequential\":[[0.0,\"#0d0887\"],[0.1111111111111111,\"#46039f\"],[0.2222222222222222,\"#7201a8\"],[0.3333333333333333,\"#9c179e\"],[0.4444444444444444,\"#bd3786\"],[0.5555555555555556,\"#d8576b\"],[0.6666666666666666,\"#ed7953\"],[0.7777777777777778,\"#fb9f3a\"],[0.8888888888888888,\"#fdca26\"],[1.0,\"#f0f921\"]],\"sequentialminus\":[[0.0,\"#0d0887\"],[0.1111111111111111,\"#46039f\"],[0.2222222222222222,\"#7201a8\"],[0.3333333333333333,\"#9c179e\"],[0.4444444444444444,\"#bd3786\"],[0.5555555555555556,\"#d8576b\"],[0.6666666666666666,\"#ed7953\"],[0.7777777777777778,\"#fb9f3a\"],[0.8888888888888888,\"#fdca26\"],[1.0,\"#f0f921\"]],\"diverging\":[[0,\"#8e0152\"],[0.1,\"#c51b7d\"],[0.2,\"#de77ae\"],[0.3,\"#f1b6da\"],[0.4,\"#fde0ef\"],[0.5,\"#f7f7f7\"],[0.6,\"#e6f5d0\"],[0.7,\"#b8e186\"],[0.8,\"#7fbc41\"],[0.9,\"#4d9221\"],[1,\"#276419\"]]},\"xaxis\":{\"gridcolor\":\"white\",\"linecolor\":\"white\",\"ticks\":\"\",\"title\":{\"standoff\":15},\"zerolinecolor\":\"white\",\"automargin\":true,\"zerolinewidth\":2},\"yaxis\":{\"gridcolor\":\"white\",\"linecolor\":\"white\",\"ticks\":\"\",\"title\":{\"standoff\":15},\"zerolinecolor\":\"white\",\"automargin\":true,\"zerolinewidth\":2},\"scene\":{\"xaxis\":{\"backgroundcolor\":\"#E5ECF6\",\"gridcolor\":\"white\",\"linecolor\":\"white\",\"showbackground\":true,\"ticks\":\"\",\"zerolinecolor\":\"white\",\"gridwidth\":2},\"yaxis\":{\"backgroundcolor\":\"#E5ECF6\",\"gridcolor\":\"white\",\"linecolor\":\"white\",\"showbackground\":true,\"ticks\":\"\",\"zerolinecolor\":\"white\",\"gridwidth\":2},\"zaxis\":{\"backgroundcolor\":\"#E5ECF6\",\"gridcolor\":\"white\",\"linecolor\":\"white\",\"showbackground\":true,\"ticks\":\"\",\"zerolinecolor\":\"white\",\"gridwidth\":2}},\"shapedefaults\":{\"line\":{\"color\":\"#2a3f5f\"}},\"annotationdefaults\":{\"arrowcolor\":\"#2a3f5f\",\"arrowhead\":0,\"arrowwidth\":1},\"geo\":{\"bgcolor\":\"white\",\"landcolor\":\"#E5ECF6\",\"subunitcolor\":\"white\",\"showland\":true,\"showlakes\":true,\"lakecolor\":\"white\"},\"title\":{\"x\":0.05},\"mapbox\":{\"style\":\"light\"}}},\"xaxis\":{\"anchor\":\"y\",\"domain\":[0.0,1.0]},\"yaxis\":{\"anchor\":\"x\",\"domain\":[0.0,1.0],\"autorange\":\"reversed\"},\"coloraxis\":{\"colorscale\":[[0.0,\"#0d0887\"],[0.1111111111111111,\"#46039f\"],[0.2222222222222222,\"#7201a8\"],[0.3333333333333333,\"#9c179e\"],[0.4444444444444444,\"#bd3786\"],[0.5555555555555556,\"#d8576b\"],[0.6666666666666666,\"#ed7953\"],[0.7777777777777778,\"#fb9f3a\"],[0.8888888888888888,\"#fdca26\"],[1.0,\"#f0f921\"]]},\"title\":{\"text\":\"Heatmap of Feature Correlation\"}},                        {\"responsive\": true}                    ).then(function(){\n",
              "                            \n",
              "var gd = document.getElementById('98389629-22f2-4dff-a795-4129ad803a09');\n",
              "var x = new MutationObserver(function (mutations, observer) {{\n",
              "        var display = window.getComputedStyle(gd).display;\n",
              "        if (!display || display === 'none') {{\n",
              "            console.log([gd, 'removed!']);\n",
              "            Plotly.purge(gd);\n",
              "            observer.disconnect();\n",
              "        }}\n",
              "}});\n",
              "\n",
              "// Listen for the removal of the full notebook cells\n",
              "var notebookContainer = gd.closest('#notebook-container');\n",
              "if (notebookContainer) {{\n",
              "    x.observe(notebookContainer, {childList: true});\n",
              "}}\n",
              "\n",
              "// Listen for the clearing of the current output cell\n",
              "var outputEl = gd.closest('.output');\n",
              "if (outputEl) {{\n",
              "    x.observe(outputEl, {childList: true});\n",
              "}}\n",
              "\n",
              "                        })                };                            </script>        </div>\n",
              "</body>\n",
              "</html>"
            ]
          },
          "metadata": {}
        }
      ]
    },
    {
      "cell_type": "markdown",
      "source": [
        "credit amount has the highest correlation with credit duration. Again from the analysis above, we know that the longer the bank lend out, the more credit it accumulate as well.\n",
        "another surprise insight that wow me is that age and credit amount lend out has nearly 0 correlation. I just thought as age increase, you tend to save more money, or make more money overall, the bank would lend out more but no, it has no correlation."
      ],
      "metadata": {
        "id": "aMR_3u2lbwN1"
      }
    },
    {
      "cell_type": "code",
      "execution_count": 64,
      "metadata": {
        "colab": {
          "base_uri": "https://localhost:8080/",
          "height": 542
        },
        "id": "93xFO4uQQJOf",
        "outputId": "f94caab0-466d-4919-ebaf-cc93c57d21d9"
      },
      "outputs": [
        {
          "output_type": "display_data",
          "data": {
            "text/html": [
              "<html>\n",
              "<head><meta charset=\"utf-8\" /></head>\n",
              "<body>\n",
              "    <div>            <script src=\"https://cdnjs.cloudflare.com/ajax/libs/mathjax/2.7.5/MathJax.js?config=TeX-AMS-MML_SVG\"></script><script type=\"text/javascript\">if (window.MathJax && window.MathJax.Hub && window.MathJax.Hub.Config) {window.MathJax.Hub.Config({SVG: {font: \"STIX-Web\"}});}</script>                <script type=\"text/javascript\">window.PlotlyConfig = {MathJaxConfig: 'local'};</script>\n",
              "        <script charset=\"utf-8\" src=\"https://cdn.plot.ly/plotly-2.24.1.min.js\"></script>                <div id=\"1a9cdd7d-2fa7-4d2c-9bc2-716fd08e48af\" class=\"plotly-graph-div\" style=\"height:525px; width:100%;\"></div>            <script type=\"text/javascript\">                                    window.PLOTLYENV=window.PLOTLYENV || {};                                    if (document.getElementById(\"1a9cdd7d-2fa7-4d2c-9bc2-716fd08e48af\")) {                    Plotly.newPlot(                        \"1a9cdd7d-2fa7-4d2c-9bc2-716fd08e48af\",                        [{\"alignmentgroup\":\"True\",\"hovertemplate\":\"class=good\\u003cbr\\u003epersonal_status=%{x}\\u003cbr\\u003ecredit_amount=%{y}\\u003cextra\\u003e\\u003c\\u002fextra\\u003e\",\"legendgroup\":\"good\",\"marker\":{\"color\":\"#636efa\",\"pattern\":{\"shape\":\"\"}},\"name\":\"good\",\"offsetgroup\":\"good\",\"orientation\":\"v\",\"showlegend\":true,\"textposition\":\"auto\",\"x\":[\"'male single'\",\"'male single'\",\"'male single'\",\"'male single'\",\"'male single'\",\"'male single'\",\"'male div\\u002fsep'\",\"'female div\\u002fdep\\u002fmar'\",\"'female div\\u002fdep\\u002fmar'\",\"'male single'\",\"'male single'\",\"'male single'\",\"'male single'\",\"'male single'\",\"'male single'\",\"'male single'\",\"'male mar\\u002fwid'\",\"'male single'\",\"'male mar\\u002fwid'\",\"'female div\\u002fdep\\u002fmar'\",\"'male single'\",\"'male mar\\u002fwid'\",\"'male single'\",\"'male single'\",\"'male single'\",\"'female div\\u002fdep\\u002fmar'\",\"'male single'\",\"'male single'\",\"'male single'\",\"'male single'\",\"'male div\\u002fsep'\",\"'male single'\",\"'male mar\\u002fwid'\",\"'female div\\u002fdep\\u002fmar'\",\"'male single'\",\"'female div\\u002fdep\\u002fmar'\",\"'male single'\",\"'female div\\u002fdep\\u002fmar'\",\"'male single'\",\"'male single'\",\"'male single'\",\"'male single'\",\"'male single'\",\"'female div\\u002fdep\\u002fmar'\",\"'female div\\u002fdep\\u002fmar'\",\"'male mar\\u002fwid'\",\"'male single'\",\"'female div\\u002fdep\\u002fmar'\",\"'male single'\",\"'female div\\u002fdep\\u002fmar'\",\"'male mar\\u002fwid'\",\"'female div\\u002fdep\\u002fmar'\",\"'female div\\u002fdep\\u002fmar'\",\"'male single'\",\"'male single'\",\"'female div\\u002fdep\\u002fmar'\",\"'male single'\",\"'male single'\",\"'male single'\",\"'male mar\\u002fwid'\",\"'male single'\",\"'female div\\u002fdep\\u002fmar'\",\"'female div\\u002fdep\\u002fmar'\",\"'male single'\",\"'female div\\u002fdep\\u002fmar'\",\"'female div\\u002fdep\\u002fmar'\",\"'male single'\",\"'male single'\",\"'male single'\",\"'male single'\",\"'male single'\",\"'female div\\u002fdep\\u002fmar'\",\"'male single'\",\"'male single'\",\"'male single'\",\"'male mar\\u002fwid'\",\"'male single'\",\"'female div\\u002fdep\\u002fmar'\",\"'male single'\",\"'male mar\\u002fwid'\",\"'male single'\",\"'female div\\u002fdep\\u002fmar'\",\"'male mar\\u002fwid'\",\"'male div\\u002fsep'\",\"'female div\\u002fdep\\u002fmar'\",\"'male single'\",\"'male mar\\u002fwid'\",\"'male single'\",\"'female div\\u002fdep\\u002fmar'\",\"'male div\\u002fsep'\",\"'female div\\u002fdep\\u002fmar'\",\"'male single'\",\"'male single'\",\"'male single'\",\"'male mar\\u002fwid'\",\"'male single'\",\"'female div\\u002fdep\\u002fmar'\",\"'male single'\",\"'male single'\",\"'female div\\u002fdep\\u002fmar'\",\"'female div\\u002fdep\\u002fmar'\",\"'male single'\",\"'male single'\",\"'female div\\u002fdep\\u002fmar'\",\"'male mar\\u002fwid'\",\"'female div\\u002fdep\\u002fmar'\",\"'male single'\",\"'female div\\u002fdep\\u002fmar'\",\"'male single'\",\"'female div\\u002fdep\\u002fmar'\",\"'female div\\u002fdep\\u002fmar'\",\"'male single'\",\"'male single'\",\"'male single'\",\"'male single'\",\"'male single'\",\"'female div\\u002fdep\\u002fmar'\",\"'male single'\",\"'male single'\",\"'male mar\\u002fwid'\",\"'male single'\",\"'male single'\",\"'male single'\",\"'female div\\u002fdep\\u002fmar'\",\"'male single'\",\"'male single'\",\"'male single'\",\"'male single'\",\"'female div\\u002fdep\\u002fmar'\",\"'female div\\u002fdep\\u002fmar'\",\"'female div\\u002fdep\\u002fmar'\",\"'male single'\",\"'male div\\u002fsep'\",\"'male single'\",\"'male single'\",\"'male single'\",\"'male single'\",\"'male single'\",\"'male single'\",\"'female div\\u002fdep\\u002fmar'\",\"'male mar\\u002fwid'\",\"'female div\\u002fdep\\u002fmar'\",\"'male single'\",\"'male single'\",\"'male mar\\u002fwid'\",\"'male single'\",\"'male single'\",\"'male single'\",\"'male single'\",\"'male single'\",\"'male mar\\u002fwid'\",\"'male single'\",\"'male single'\",\"'female div\\u002fdep\\u002fmar'\",\"'male single'\",\"'female div\\u002fdep\\u002fmar'\",\"'male single'\",\"'male single'\",\"'male div\\u002fsep'\",\"'female div\\u002fdep\\u002fmar'\",\"'male mar\\u002fwid'\",\"'female div\\u002fdep\\u002fmar'\",\"'male single'\",\"'male single'\",\"'male single'\",\"'male single'\",\"'male single'\",\"'male single'\",\"'male single'\",\"'male mar\\u002fwid'\",\"'male single'\",\"'female div\\u002fdep\\u002fmar'\",\"'male single'\",\"'male single'\",\"'female div\\u002fdep\\u002fmar'\",\"'female div\\u002fdep\\u002fmar'\",\"'male single'\",\"'male single'\",\"'male single'\",\"'male single'\",\"'female div\\u002fdep\\u002fmar'\",\"'female div\\u002fdep\\u002fmar'\",\"'male single'\",\"'male single'\",\"'male single'\",\"'male single'\",\"'female div\\u002fdep\\u002fmar'\",\"'female div\\u002fdep\\u002fmar'\",\"'male single'\",\"'female div\\u002fdep\\u002fmar'\",\"'male single'\",\"'female div\\u002fdep\\u002fmar'\",\"'male single'\",\"'male single'\",\"'female div\\u002fdep\\u002fmar'\",\"'male single'\",\"'male single'\",\"'female div\\u002fdep\\u002fmar'\",\"'male single'\",\"'male single'\",\"'female div\\u002fdep\\u002fmar'\",\"'male div\\u002fsep'\",\"'male single'\",\"'male single'\",\"'male single'\",\"'male single'\",\"'male single'\",\"'male div\\u002fsep'\",\"'female div\\u002fdep\\u002fmar'\",\"'male single'\",\"'male single'\",\"'female div\\u002fdep\\u002fmar'\",\"'male mar\\u002fwid'\",\"'female div\\u002fdep\\u002fmar'\",\"'male single'\",\"'male div\\u002fsep'\",\"'female div\\u002fdep\\u002fmar'\",\"'male single'\",\"'male single'\",\"'male single'\",\"'female div\\u002fdep\\u002fmar'\",\"'male single'\",\"'male div\\u002fsep'\",\"'female div\\u002fdep\\u002fmar'\",\"'male mar\\u002fwid'\",\"'male single'\",\"'male single'\",\"'female div\\u002fdep\\u002fmar'\",\"'male single'\",\"'male single'\",\"'female div\\u002fdep\\u002fmar'\",\"'male single'\",\"'female div\\u002fdep\\u002fmar'\",\"'male single'\",\"'male single'\",\"'female div\\u002fdep\\u002fmar'\",\"'male single'\",\"'male single'\",\"'female div\\u002fdep\\u002fmar'\",\"'male single'\",\"'male single'\",\"'male single'\",\"'female div\\u002fdep\\u002fmar'\",\"'male single'\",\"'male div\\u002fsep'\",\"'female div\\u002fdep\\u002fmar'\",\"'female div\\u002fdep\\u002fmar'\",\"'male mar\\u002fwid'\",\"'male single'\",\"'male single'\",\"'female div\\u002fdep\\u002fmar'\",\"'male single'\",\"'female div\\u002fdep\\u002fmar'\",\"'male single'\",\"'female div\\u002fdep\\u002fmar'\",\"'male single'\",\"'male single'\",\"'male single'\",\"'male mar\\u002fwid'\",\"'male single'\",\"'male single'\",\"'female div\\u002fdep\\u002fmar'\",\"'male mar\\u002fwid'\",\"'male single'\",\"'male single'\",\"'female div\\u002fdep\\u002fmar'\",\"'female div\\u002fdep\\u002fmar'\",\"'male single'\",\"'male single'\",\"'female div\\u002fdep\\u002fmar'\",\"'male single'\",\"'male mar\\u002fwid'\",\"'male single'\",\"'female div\\u002fdep\\u002fmar'\",\"'male single'\",\"'female div\\u002fdep\\u002fmar'\",\"'male single'\",\"'male single'\",\"'female div\\u002fdep\\u002fmar'\",\"'female div\\u002fdep\\u002fmar'\",\"'male single'\",\"'male single'\",\"'female div\\u002fdep\\u002fmar'\",\"'male mar\\u002fwid'\",\"'female div\\u002fdep\\u002fmar'\",\"'male single'\",\"'female div\\u002fdep\\u002fmar'\",\"'male single'\",\"'male single'\",\"'female div\\u002fdep\\u002fmar'\",\"'male mar\\u002fwid'\",\"'female div\\u002fdep\\u002fmar'\",\"'male mar\\u002fwid'\",\"'male mar\\u002fwid'\",\"'male single'\",\"'male single'\",\"'male single'\",\"'male mar\\u002fwid'\",\"'male div\\u002fsep'\",\"'female div\\u002fdep\\u002fmar'\",\"'male single'\",\"'male single'\",\"'male single'\",\"'female div\\u002fdep\\u002fmar'\",\"'female div\\u002fdep\\u002fmar'\",\"'female div\\u002fdep\\u002fmar'\",\"'male single'\",\"'male single'\",\"'male single'\",\"'male mar\\u002fwid'\",\"'male single'\",\"'male single'\",\"'male single'\",\"'male single'\",\"'male single'\",\"'male div\\u002fsep'\",\"'male single'\",\"'male mar\\u002fwid'\",\"'female div\\u002fdep\\u002fmar'\",\"'male single'\",\"'male single'\",\"'female div\\u002fdep\\u002fmar'\",\"'male single'\",\"'female div\\u002fdep\\u002fmar'\",\"'male single'\",\"'female div\\u002fdep\\u002fmar'\",\"'male single'\",\"'female div\\u002fdep\\u002fmar'\",\"'male single'\",\"'male single'\",\"'female div\\u002fdep\\u002fmar'\",\"'male single'\",\"'female div\\u002fdep\\u002fmar'\",\"'male single'\",\"'male single'\",\"'male single'\",\"'female div\\u002fdep\\u002fmar'\",\"'male single'\",\"'male single'\",\"'male single'\",\"'male single'\",\"'female div\\u002fdep\\u002fmar'\",\"'male single'\",\"'male single'\",\"'male single'\",\"'male single'\",\"'male single'\",\"'male single'\",\"'female div\\u002fdep\\u002fmar'\",\"'male single'\",\"'female div\\u002fdep\\u002fmar'\",\"'female div\\u002fdep\\u002fmar'\",\"'male single'\",\"'male single'\",\"'female div\\u002fdep\\u002fmar'\",\"'male single'\",\"'male single'\",\"'male single'\",\"'female div\\u002fdep\\u002fmar'\",\"'male single'\",\"'male single'\",\"'male single'\",\"'male mar\\u002fwid'\",\"'male div\\u002fsep'\",\"'male single'\",\"'male div\\u002fsep'\",\"'male single'\",\"'male mar\\u002fwid'\",\"'male single'\",\"'male single'\",\"'male single'\",\"'male mar\\u002fwid'\",\"'male single'\",\"'female div\\u002fdep\\u002fmar'\",\"'male single'\",\"'male single'\",\"'male single'\",\"'male single'\",\"'female div\\u002fdep\\u002fmar'\",\"'female div\\u002fdep\\u002fmar'\",\"'male single'\",\"'female div\\u002fdep\\u002fmar'\",\"'male single'\",\"'male single'\",\"'male single'\",\"'male mar\\u002fwid'\",\"'male mar\\u002fwid'\",\"'male single'\",\"'female div\\u002fdep\\u002fmar'\",\"'female div\\u002fdep\\u002fmar'\",\"'female div\\u002fdep\\u002fmar'\",\"'male single'\",\"'male single'\",\"'female div\\u002fdep\\u002fmar'\",\"'male single'\",\"'male single'\",\"'female div\\u002fdep\\u002fmar'\",\"'male single'\",\"'male single'\",\"'female div\\u002fdep\\u002fmar'\",\"'male single'\",\"'female div\\u002fdep\\u002fmar'\",\"'male single'\",\"'female div\\u002fdep\\u002fmar'\",\"'male single'\",\"'male single'\",\"'male single'\",\"'female div\\u002fdep\\u002fmar'\",\"'female div\\u002fdep\\u002fmar'\",\"'male single'\",\"'female div\\u002fdep\\u002fmar'\",\"'female div\\u002fdep\\u002fmar'\",\"'female div\\u002fdep\\u002fmar'\",\"'male mar\\u002fwid'\",\"'male single'\",\"'female div\\u002fdep\\u002fmar'\",\"'female div\\u002fdep\\u002fmar'\",\"'male single'\",\"'male single'\",\"'female div\\u002fdep\\u002fmar'\",\"'female div\\u002fdep\\u002fmar'\",\"'female div\\u002fdep\\u002fmar'\",\"'male single'\",\"'female div\\u002fdep\\u002fmar'\",\"'female div\\u002fdep\\u002fmar'\",\"'male single'\",\"'male single'\",\"'male single'\",\"'male single'\",\"'female div\\u002fdep\\u002fmar'\",\"'female div\\u002fdep\\u002fmar'\",\"'male single'\",\"'male single'\",\"'male single'\",\"'male div\\u002fsep'\",\"'male single'\",\"'female div\\u002fdep\\u002fmar'\",\"'male single'\",\"'male single'\",\"'male single'\",\"'male single'\",\"'female div\\u002fdep\\u002fmar'\",\"'male single'\",\"'male single'\",\"'female div\\u002fdep\\u002fmar'\",\"'male single'\",\"'female div\\u002fdep\\u002fmar'\",\"'male single'\",\"'male mar\\u002fwid'\",\"'male mar\\u002fwid'\",\"'male div\\u002fsep'\",\"'male single'\",\"'male single'\",\"'male single'\",\"'male single'\",\"'female div\\u002fdep\\u002fmar'\",\"'male single'\",\"'male mar\\u002fwid'\",\"'male single'\",\"'male single'\",\"'female div\\u002fdep\\u002fmar'\",\"'male single'\",\"'male single'\",\"'female div\\u002fdep\\u002fmar'\",\"'male single'\",\"'male single'\",\"'male single'\",\"'male single'\",\"'male mar\\u002fwid'\",\"'female div\\u002fdep\\u002fmar'\",\"'male single'\",\"'male single'\",\"'female div\\u002fdep\\u002fmar'\",\"'female div\\u002fdep\\u002fmar'\",\"'male single'\",\"'male mar\\u002fwid'\",\"'male mar\\u002fwid'\",\"'male single'\",\"'male single'\",\"'male single'\",\"'male single'\",\"'male single'\",\"'male single'\",\"'male div\\u002fsep'\",\"'female div\\u002fdep\\u002fmar'\",\"'male single'\",\"'male single'\",\"'male single'\",\"'male single'\",\"'male single'\",\"'female div\\u002fdep\\u002fmar'\",\"'male single'\",\"'male single'\",\"'female div\\u002fdep\\u002fmar'\",\"'male single'\",\"'female div\\u002fdep\\u002fmar'\",\"'female div\\u002fdep\\u002fmar'\",\"'female div\\u002fdep\\u002fmar'\",\"'male single'\",\"'male single'\",\"'male single'\",\"'male single'\",\"'male single'\",\"'male single'\",\"'male single'\",\"'male single'\",\"'male mar\\u002fwid'\",\"'female div\\u002fdep\\u002fmar'\",\"'female div\\u002fdep\\u002fmar'\",\"'male mar\\u002fwid'\",\"'male div\\u002fsep'\",\"'male single'\",\"'female div\\u002fdep\\u002fmar'\",\"'female div\\u002fdep\\u002fmar'\",\"'female div\\u002fdep\\u002fmar'\",\"'female div\\u002fdep\\u002fmar'\",\"'male single'\",\"'male single'\",\"'male single'\",\"'male single'\",\"'male single'\",\"'male single'\",\"'male single'\",\"'male single'\",\"'female div\\u002fdep\\u002fmar'\",\"'male single'\",\"'male single'\",\"'female div\\u002fdep\\u002fmar'\",\"'female div\\u002fdep\\u002fmar'\",\"'female div\\u002fdep\\u002fmar'\",\"'male single'\",\"'male single'\",\"'female div\\u002fdep\\u002fmar'\",\"'male single'\",\"'male mar\\u002fwid'\",\"'male mar\\u002fwid'\",\"'female div\\u002fdep\\u002fmar'\",\"'male single'\",\"'male single'\",\"'female div\\u002fdep\\u002fmar'\",\"'male single'\",\"'male single'\",\"'male single'\",\"'male single'\",\"'female div\\u002fdep\\u002fmar'\",\"'male single'\",\"'female div\\u002fdep\\u002fmar'\",\"'male single'\",\"'male single'\",\"'male div\\u002fsep'\",\"'male single'\",\"'male single'\",\"'male single'\",\"'male single'\",\"'male mar\\u002fwid'\",\"'male div\\u002fsep'\",\"'male single'\",\"'female div\\u002fdep\\u002fmar'\",\"'female div\\u002fdep\\u002fmar'\",\"'male mar\\u002fwid'\",\"'male single'\",\"'male single'\",\"'female div\\u002fdep\\u002fmar'\",\"'female div\\u002fdep\\u002fmar'\",\"'male single'\",\"'female div\\u002fdep\\u002fmar'\",\"'male mar\\u002fwid'\",\"'male single'\",\"'male single'\",\"'male mar\\u002fwid'\",\"'male mar\\u002fwid'\",\"'female div\\u002fdep\\u002fmar'\",\"'male div\\u002fsep'\",\"'female div\\u002fdep\\u002fmar'\",\"'male div\\u002fsep'\",\"'male mar\\u002fwid'\",\"'male mar\\u002fwid'\",\"'male single'\",\"'male div\\u002fsep'\",\"'male mar\\u002fwid'\",\"'male single'\",\"'male single'\",\"'female div\\u002fdep\\u002fmar'\",\"'female div\\u002fdep\\u002fmar'\",\"'female div\\u002fdep\\u002fmar'\",\"'male single'\",\"'male mar\\u002fwid'\",\"'male single'\",\"'male single'\",\"'male single'\",\"'male single'\",\"'male mar\\u002fwid'\",\"'male single'\",\"'male single'\",\"'male single'\",\"'male single'\",\"'male mar\\u002fwid'\",\"'female div\\u002fdep\\u002fmar'\",\"'male single'\",\"'male single'\",\"'male single'\",\"'male single'\",\"'female div\\u002fdep\\u002fmar'\",\"'female div\\u002fdep\\u002fmar'\",\"'male single'\",\"'male single'\",\"'female div\\u002fdep\\u002fmar'\",\"'female div\\u002fdep\\u002fmar'\",\"'male single'\",\"'male single'\",\"'female div\\u002fdep\\u002fmar'\",\"'male single'\",\"'female div\\u002fdep\\u002fmar'\",\"'male single'\",\"'male single'\",\"'male single'\",\"'male single'\",\"'male div\\u002fsep'\",\"'male single'\",\"'female div\\u002fdep\\u002fmar'\",\"'male single'\",\"'male single'\",\"'male single'\",\"'male single'\",\"'male single'\",\"'male single'\",\"'male single'\",\"'male single'\",\"'male single'\",\"'female div\\u002fdep\\u002fmar'\",\"'female div\\u002fdep\\u002fmar'\",\"'female div\\u002fdep\\u002fmar'\",\"'male div\\u002fsep'\",\"'male single'\",\"'male mar\\u002fwid'\",\"'male single'\",\"'male single'\",\"'male single'\",\"'male mar\\u002fwid'\",\"'female div\\u002fdep\\u002fmar'\",\"'female div\\u002fdep\\u002fmar'\",\"'female div\\u002fdep\\u002fmar'\",\"'female div\\u002fdep\\u002fmar'\",\"'male div\\u002fsep'\",\"'male single'\",\"'female div\\u002fdep\\u002fmar'\",\"'male single'\",\"'male single'\",\"'female div\\u002fdep\\u002fmar'\",\"'male single'\",\"'male single'\",\"'male single'\",\"'male single'\",\"'male single'\",\"'female div\\u002fdep\\u002fmar'\",\"'male mar\\u002fwid'\",\"'male single'\",\"'male single'\",\"'male single'\",\"'male single'\",\"'male single'\",\"'female div\\u002fdep\\u002fmar'\",\"'female div\\u002fdep\\u002fmar'\",\"'male single'\",\"'male mar\\u002fwid'\",\"'female div\\u002fdep\\u002fmar'\",\"'female div\\u002fdep\\u002fmar'\",\"'male single'\",\"'male single'\",\"'male single'\",\"'male mar\\u002fwid'\",\"'male div\\u002fsep'\",\"'male single'\",\"'male mar\\u002fwid'\",\"'female div\\u002fdep\\u002fmar'\",\"'female div\\u002fdep\\u002fmar'\",\"'male mar\\u002fwid'\",\"'male single'\",\"'male single'\",\"'male single'\",\"'female div\\u002fdep\\u002fmar'\",\"'female div\\u002fdep\\u002fmar'\",\"'female div\\u002fdep\\u002fmar'\",\"'male single'\",\"'female div\\u002fdep\\u002fmar'\",\"'male single'\",\"'female div\\u002fdep\\u002fmar'\",\"'male div\\u002fsep'\",\"'female div\\u002fdep\\u002fmar'\",\"'male single'\",\"'male single'\",\"'male single'\",\"'male single'\",\"'male mar\\u002fwid'\",\"'male single'\",\"'male single'\",\"'female div\\u002fdep\\u002fmar'\",\"'male div\\u002fsep'\",\"'male single'\",\"'male single'\"],\"xaxis\":\"x\",\"y\":[1169,2096,7882,9055,2835,6948,3059,1567,1403,2424,8072,3430,2134,2647,2241,1804,2069,1374,426,409,2415,1913,4020,5866,1264,1474,6110,1225,458,2333,1158,6204,6187,1393,2299,1352,7228,2073,2333,5965,1262,3378,783,9566,1961,1391,1537,3181,5190,2171,1007,2394,8133,730,1164,5954,1526,4771,9436,3832,1213,1568,1755,2315,1412,1295,2249,618,1409,3617,1318,2012,2622,2337,7057,1469,2323,932,1919,2445,6078,7721,1410,1449,392,6260,1680,3578,2132,2366,3868,1768,781,2121,701,1860,8487,2708,1984,10144,1240,8613,2728,1881,709,4795,3416,2288,3566,860,682,5371,1582,1346,1924,5848,7758,6967,1288,339,3512,1898,2872,1055,1262,7308,909,2978,1577,3972,763,1414,2577,338,1963,571,3777,1360,1175,3244,2108,1382,2760,936,1168,5117,1495,10623,1935,1424,6568,1413,3074,3835,3342,932,3104,3913,3021,1364,625,1200,707,2978,4657,2613,3149,2507,2141,866,1544,1291,2522,1595,1185,3447,1258,717,1204,1925,666,2251,4151,2030,7418,2684,3812,1154,1657,1603,5302,2748,1231,6304,1533,999,2662,1402,12169,2697,2404,1262,1901,3368,1574,1445,1520,3878,10722,4788,7582,1092,1076,6419,4796,7629,4675,1287,2515,2745,672,1038,1543,4811,276,5381,5511,3749,1494,708,4351,701,3643,2910,2659,1028,3398,5801,1525,4473,1068,6615,2101,4169,1521,5743,3599,3213,4439,3949,1459,882,3758,1743,1236,3229,727,2331,776,1239,3399,2247,1766,1542,3850,3650,3001,3079,6070,2146,13756,2320,846,362,2212,1283,1330,4272,2238,1126,7374,2326,1449,1820,983,3249,1957,2406,11760,2578,2348,1516,1473,1887,802,2899,2197,1053,3235,1967,7253,1597,5842,8471,2782,3186,2028,958,1591,2779,2743,1149,1313,3448,1872,2058,2136,660,1287,3394,1884,1620,2629,1244,2576,1424,11054,518,2759,2670,2679,3905,343,4594,3620,1721,3017,754,1950,2924,7238,2764,4679,1238,2569,5152,1037,1478,3573,1201,3622,960,1163,3077,3757,1418,3518,1934,1237,368,2122,1585,1301,1323,5493,1126,2360,1413,8588,4686,2687,585,2255,609,1361,1203,700,5507,3488,1113,7966,1532,1503,662,2273,1503,1311,3105,1374,3612,3049,2032,1255,2022,1552,8858,996,1750,1995,1199,2964,683,4712,1553,2578,3979,5954,5433,806,1082,2788,2930,1927,937,3124,1388,2133,2799,1289,385,1965,1572,3863,2329,1275,2828,4526,2051,1300,3357,3632,12204,9157,3676,640,3652,1858,1979,2116,4042,3832,3660,1444,1393,1376,15653,1493,1308,1851,1880,4583,7476,2346,3973,10222,4221,6361,1297,2241,1050,1047,6314,3496,3609,3017,4139,5742,10366,2080,4530,5150,2384,1453,1538,2279,1478,5103,9857,6527,1347,2862,2753,3651,975,2631,2896,4716,2284,1236,1103,926,1800,1905,1377,2503,2528,5324,1206,2118,629,2476,1138,7596,3077,1505,3148,6148,790,250,1316,1275,6403,760,2603,3380,3990,4380,6761,2325,1048,3160,2483,14179,1797,2511,5248,3029,428,841,5771,1299,1393,5045,2214,2463,1155,2901,3617,1655,2812,3275,2223,1480,3535,3509,5711,3872,1940,1410,6468,1941,2675,2751,6313,1221,2892,3062,2301,1258,717,1549,1597,1795,4272,976,7472,590,930,9283,907,484,7432,1338,1554,15857,1101,3016,731,3780,1602,6681,2375,5084,886,601,2957,2611,2993,1559,3422,3976,1249,1364,4042,1471,10875,1474,894,3343,3577,5804,4526,2221,2389,3331,7409,652,7678,1343,1382,874,3590,1322,1940,3595,6742,7814,9277,2181,1098,2825,6614,7824,2442,1829,2171,5800,1169,8947,2606,1592,2186,3485,10477,1386,1278,1107,3763,3711,3594,3195,4454,2991,2142,2848,1817,12749,2002,1049,1867,1344,1747,1224,522,1498,2063,6842,3527,1546,929,1455,1845,8358,2859,3590,1893,1231,3656,1154,3069,1740,2353,3556,454,1715,3568,7166,3939,1514,7393,2831,1258,753,2427,2923,2028,1433,6289,1409,6579,1743,3565,1569,1936,3959,2390,1736,3857,804,4576],\"yaxis\":\"y\",\"type\":\"bar\"},{\"alignmentgroup\":\"True\",\"hovertemplate\":\"class=bad\\u003cbr\\u003epersonal_status=%{x}\\u003cbr\\u003ecredit_amount=%{y}\\u003cextra\\u003e\\u003c\\u002fextra\\u003e\",\"legendgroup\":\"bad\",\"marker\":{\"color\":\"#EF553B\",\"pattern\":{\"shape\":\"\"}},\"name\":\"bad\",\"offsetgroup\":\"bad\",\"orientation\":\"v\",\"showlegend\":true,\"textposition\":\"auto\",\"x\":[\"'female div\\u002fdep\\u002fmar'\",\"'male single'\",\"'male mar\\u002fwid'\",\"'female div\\u002fdep\\u002fmar'\",\"'female div\\u002fdep\\u002fmar'\",\"'male single'\",\"'female div\\u002fdep\\u002fmar'\",\"'female div\\u002fdep\\u002fmar'\",\"'male single'\",\"'male single'\",\"'male single'\",\"'female div\\u002fdep\\u002fmar'\",\"'male single'\",\"'male single'\",\"'female div\\u002fdep\\u002fmar'\",\"'male single'\",\"'male single'\",\"'male single'\",\"'male single'\",\"'male single'\",\"'female div\\u002fdep\\u002fmar'\",\"'male single'\",\"'male single'\",\"'female div\\u002fdep\\u002fmar'\",\"'male single'\",\"'male single'\",\"'male single'\",\"'female div\\u002fdep\\u002fmar'\",\"'female div\\u002fdep\\u002fmar'\",\"'female div\\u002fdep\\u002fmar'\",\"'female div\\u002fdep\\u002fmar'\",\"'female div\\u002fdep\\u002fmar'\",\"'male single'\",\"'female div\\u002fdep\\u002fmar'\",\"'male single'\",\"'male single'\",\"'male single'\",\"'female div\\u002fdep\\u002fmar'\",\"'female div\\u002fdep\\u002fmar'\",\"'male div\\u002fsep'\",\"'male single'\",\"'female div\\u002fdep\\u002fmar'\",\"'male single'\",\"'female div\\u002fdep\\u002fmar'\",\"'male div\\u002fsep'\",\"'male div\\u002fsep'\",\"'male single'\",\"'male single'\",\"'female div\\u002fdep\\u002fmar'\",\"'male mar\\u002fwid'\",\"'male single'\",\"'male single'\",\"'male single'\",\"'male single'\",\"'female div\\u002fdep\\u002fmar'\",\"'female div\\u002fdep\\u002fmar'\",\"'male div\\u002fsep'\",\"'male mar\\u002fwid'\",\"'male single'\",\"'male single'\",\"'male single'\",\"'male single'\",\"'male single'\",\"'male single'\",\"'male single'\",\"'male single'\",\"'male div\\u002fsep'\",\"'female div\\u002fdep\\u002fmar'\",\"'male single'\",\"'female div\\u002fdep\\u002fmar'\",\"'female div\\u002fdep\\u002fmar'\",\"'male div\\u002fsep'\",\"'male single'\",\"'male div\\u002fsep'\",\"'male single'\",\"'male div\\u002fsep'\",\"'female div\\u002fdep\\u002fmar'\",\"'male mar\\u002fwid'\",\"'male mar\\u002fwid'\",\"'female div\\u002fdep\\u002fmar'\",\"'female div\\u002fdep\\u002fmar'\",\"'male single'\",\"'male single'\",\"'male mar\\u002fwid'\",\"'female div\\u002fdep\\u002fmar'\",\"'male mar\\u002fwid'\",\"'male single'\",\"'male mar\\u002fwid'\",\"'male div\\u002fsep'\",\"'female div\\u002fdep\\u002fmar'\",\"'female div\\u002fdep\\u002fmar'\",\"'female div\\u002fdep\\u002fmar'\",\"'male single'\",\"'male div\\u002fsep'\",\"'female div\\u002fdep\\u002fmar'\",\"'male single'\",\"'female div\\u002fdep\\u002fmar'\",\"'male single'\",\"'male single'\",\"'male single'\",\"'female div\\u002fdep\\u002fmar'\",\"'male single'\",\"'male single'\",\"'female div\\u002fdep\\u002fmar'\",\"'female div\\u002fdep\\u002fmar'\",\"'male single'\",\"'female div\\u002fdep\\u002fmar'\",\"'male div\\u002fsep'\",\"'male single'\",\"'male mar\\u002fwid'\",\"'male mar\\u002fwid'\",\"'male single'\",\"'female div\\u002fdep\\u002fmar'\",\"'male single'\",\"'female div\\u002fdep\\u002fmar'\",\"'female div\\u002fdep\\u002fmar'\",\"'female div\\u002fdep\\u002fmar'\",\"'male single'\",\"'male mar\\u002fwid'\",\"'female div\\u002fdep\\u002fmar'\",\"'male single'\",\"'female div\\u002fdep\\u002fmar'\",\"'female div\\u002fdep\\u002fmar'\",\"'male mar\\u002fwid'\",\"'male single'\",\"'male single'\",\"'female div\\u002fdep\\u002fmar'\",\"'male mar\\u002fwid'\",\"'female div\\u002fdep\\u002fmar'\",\"'male single'\",\"'male mar\\u002fwid'\",\"'female div\\u002fdep\\u002fmar'\",\"'male single'\",\"'female div\\u002fdep\\u002fmar'\",\"'male mar\\u002fwid'\",\"'male single'\",\"'female div\\u002fdep\\u002fmar'\",\"'male single'\",\"'female div\\u002fdep\\u002fmar'\",\"'male single'\",\"'male single'\",\"'male single'\",\"'female div\\u002fdep\\u002fmar'\",\"'female div\\u002fdep\\u002fmar'\",\"'male single'\",\"'male div\\u002fsep'\",\"'female div\\u002fdep\\u002fmar'\",\"'male div\\u002fsep'\",\"'male single'\",\"'male mar\\u002fwid'\",\"'male single'\",\"'male single'\",\"'male single'\",\"'female div\\u002fdep\\u002fmar'\",\"'male mar\\u002fwid'\",\"'male single'\",\"'female div\\u002fdep\\u002fmar'\",\"'female div\\u002fdep\\u002fmar'\",\"'male single'\",\"'male single'\",\"'male single'\",\"'male single'\",\"'male div\\u002fsep'\",\"'female div\\u002fdep\\u002fmar'\",\"'female div\\u002fdep\\u002fmar'\",\"'male div\\u002fsep'\",\"'male single'\",\"'male single'\",\"'female div\\u002fdep\\u002fmar'\",\"'male mar\\u002fwid'\",\"'male single'\",\"'female div\\u002fdep\\u002fmar'\",\"'male single'\",\"'female div\\u002fdep\\u002fmar'\",\"'female div\\u002fdep\\u002fmar'\",\"'male single'\",\"'male single'\",\"'female div\\u002fdep\\u002fmar'\",\"'female div\\u002fdep\\u002fmar'\",\"'female div\\u002fdep\\u002fmar'\",\"'female div\\u002fdep\\u002fmar'\",\"'female div\\u002fdep\\u002fmar'\",\"'female div\\u002fdep\\u002fmar'\",\"'female div\\u002fdep\\u002fmar'\",\"'female div\\u002fdep\\u002fmar'\",\"'male single'\",\"'male div\\u002fsep'\",\"'male single'\",\"'male single'\",\"'male single'\",\"'female div\\u002fdep\\u002fmar'\",\"'female div\\u002fdep\\u002fmar'\",\"'male single'\",\"'female div\\u002fdep\\u002fmar'\",\"'male single'\",\"'male single'\",\"'female div\\u002fdep\\u002fmar'\",\"'male single'\",\"'male single'\",\"'male single'\",\"'male single'\",\"'male single'\",\"'male single'\",\"'male mar\\u002fwid'\",\"'male single'\",\"'male single'\",\"'male mar\\u002fwid'\",\"'female div\\u002fdep\\u002fmar'\",\"'male single'\",\"'male single'\",\"'female div\\u002fdep\\u002fmar'\",\"'female div\\u002fdep\\u002fmar'\",\"'male single'\",\"'male single'\",\"'female div\\u002fdep\\u002fmar'\",\"'female div\\u002fdep\\u002fmar'\",\"'female div\\u002fdep\\u002fmar'\",\"'female div\\u002fdep\\u002fmar'\",\"'female div\\u002fdep\\u002fmar'\",\"'male single'\",\"'female div\\u002fdep\\u002fmar'\",\"'female div\\u002fdep\\u002fmar'\",\"'female div\\u002fdep\\u002fmar'\",\"'female div\\u002fdep\\u002fmar'\",\"'male single'\",\"'female div\\u002fdep\\u002fmar'\",\"'male single'\",\"'male single'\",\"'female div\\u002fdep\\u002fmar'\",\"'male single'\",\"'male div\\u002fsep'\",\"'female div\\u002fdep\\u002fmar'\",\"'female div\\u002fdep\\u002fmar'\",\"'male single'\",\"'female div\\u002fdep\\u002fmar'\",\"'male single'\",\"'male single'\",\"'female div\\u002fdep\\u002fmar'\",\"'male single'\",\"'male single'\",\"'female div\\u002fdep\\u002fmar'\",\"'male single'\",\"'male single'\",\"'male single'\",\"'male mar\\u002fwid'\",\"'male single'\",\"'female div\\u002fdep\\u002fmar'\",\"'male single'\",\"'male single'\",\"'female div\\u002fdep\\u002fmar'\",\"'male single'\",\"'female div\\u002fdep\\u002fmar'\",\"'male single'\",\"'male single'\",\"'female div\\u002fdep\\u002fmar'\",\"'male single'\",\"'male single'\",\"'male mar\\u002fwid'\",\"'male single'\",\"'female div\\u002fdep\\u002fmar'\",\"'male mar\\u002fwid'\",\"'female div\\u002fdep\\u002fmar'\",\"'male single'\",\"'male single'\",\"'male div\\u002fsep'\",\"'female div\\u002fdep\\u002fmar'\",\"'male single'\",\"'male single'\",\"'male single'\",\"'female div\\u002fdep\\u002fmar'\",\"'male single'\",\"'female div\\u002fdep\\u002fmar'\",\"'male single'\",\"'male div\\u002fsep'\",\"'male single'\",\"'female div\\u002fdep\\u002fmar'\",\"'male div\\u002fsep'\",\"'male single'\",\"'male single'\",\"'female div\\u002fdep\\u002fmar'\",\"'male single'\",\"'female div\\u002fdep\\u002fmar'\",\"'male single'\",\"'male single'\",\"'male mar\\u002fwid'\",\"'male single'\",\"'male single'\",\"'female div\\u002fdep\\u002fmar'\",\"'female div\\u002fdep\\u002fmar'\",\"'male single'\",\"'male single'\",\"'male single'\",\"'female div\\u002fdep\\u002fmar'\",\"'male single'\",\"'male single'\",\"'male mar\\u002fwid'\",\"'male single'\",\"'male single'\",\"'male single'\",\"'male single'\"],\"xaxis\":\"x\",\"y\":[5951,4870,5234,1295,4308,1199,1282,12579,6836,4746,2100,6143,2225,6468,6229,1953,14421,1819,1977,3965,5943,12612,1108,797,15945,11938,6458,7855,7174,4281,1835,1924,639,3499,6887,766,2462,1282,1131,1935,950,2064,3414,7485,9572,4455,1647,884,5129,674,4591,3844,3915,3031,1501,951,4297,902,5293,1908,10961,7865,1478,4210,1823,14555,2767,915,4605,433,2150,2149,802,8978,3060,11998,4611,1024,9398,9960,3804,1344,10127,727,1237,685,2746,4249,1938,1864,7408,11590,4110,3384,1275,1136,959,6199,1246,4463,2406,2473,3446,14782,7685,14318,12976,1223,8648,2039,939,2292,1381,2579,1042,2762,1190,11328,1484,609,719,5096,1842,1512,4817,3386,1659,3092,448,654,1245,3114,1209,8318,2996,9034,3123,1216,1207,1309,6850,759,7127,3190,7119,2302,2631,2319,7763,1534,6350,2864,1333,626,6999,1331,2278,5003,3552,1928,1546,12389,1372,6758,3234,2820,1056,2384,2039,1217,2246,2718,1358,931,1442,4241,2775,918,1837,3349,2671,741,1240,1808,3441,1530,3914,2600,1437,1553,1980,1355,4370,750,4623,7980,1386,947,684,1922,2303,8086,888,900,4843,2580,5595,1123,6331,6560,2969,1198,14027,1337,433,1228,2570,1882,6416,1987,11560,4280,1274,976,1555,1285,1271,691,2124,12680,3108,8065,1371,4933,836,6224,5998,1188,7511,9271,1778,9629,3051,3931,1345,2712,3966,4165,8335,1216,11816,2327,1082,5179,1943,6761,709,2235,1442,3959,2169,2439,2210,1422,4057,795,15672,4153,2625,4736,3161,18424,14896,2359,3345,1366,6872,697,10297,1670,1919,745,6288,3349,1533,3621,2145,4113,10974,4006,2397,2520,1193,7297,2538,1264,8386,4844,8229,1845],\"yaxis\":\"y\",\"type\":\"bar\"}],                        {\"template\":{\"data\":{\"histogram2dcontour\":[{\"type\":\"histogram2dcontour\",\"colorbar\":{\"outlinewidth\":0,\"ticks\":\"\"},\"colorscale\":[[0.0,\"#0d0887\"],[0.1111111111111111,\"#46039f\"],[0.2222222222222222,\"#7201a8\"],[0.3333333333333333,\"#9c179e\"],[0.4444444444444444,\"#bd3786\"],[0.5555555555555556,\"#d8576b\"],[0.6666666666666666,\"#ed7953\"],[0.7777777777777778,\"#fb9f3a\"],[0.8888888888888888,\"#fdca26\"],[1.0,\"#f0f921\"]]}],\"choropleth\":[{\"type\":\"choropleth\",\"colorbar\":{\"outlinewidth\":0,\"ticks\":\"\"}}],\"histogram2d\":[{\"type\":\"histogram2d\",\"colorbar\":{\"outlinewidth\":0,\"ticks\":\"\"},\"colorscale\":[[0.0,\"#0d0887\"],[0.1111111111111111,\"#46039f\"],[0.2222222222222222,\"#7201a8\"],[0.3333333333333333,\"#9c179e\"],[0.4444444444444444,\"#bd3786\"],[0.5555555555555556,\"#d8576b\"],[0.6666666666666666,\"#ed7953\"],[0.7777777777777778,\"#fb9f3a\"],[0.8888888888888888,\"#fdca26\"],[1.0,\"#f0f921\"]]}],\"heatmap\":[{\"type\":\"heatmap\",\"colorbar\":{\"outlinewidth\":0,\"ticks\":\"\"},\"colorscale\":[[0.0,\"#0d0887\"],[0.1111111111111111,\"#46039f\"],[0.2222222222222222,\"#7201a8\"],[0.3333333333333333,\"#9c179e\"],[0.4444444444444444,\"#bd3786\"],[0.5555555555555556,\"#d8576b\"],[0.6666666666666666,\"#ed7953\"],[0.7777777777777778,\"#fb9f3a\"],[0.8888888888888888,\"#fdca26\"],[1.0,\"#f0f921\"]]}],\"heatmapgl\":[{\"type\":\"heatmapgl\",\"colorbar\":{\"outlinewidth\":0,\"ticks\":\"\"},\"colorscale\":[[0.0,\"#0d0887\"],[0.1111111111111111,\"#46039f\"],[0.2222222222222222,\"#7201a8\"],[0.3333333333333333,\"#9c179e\"],[0.4444444444444444,\"#bd3786\"],[0.5555555555555556,\"#d8576b\"],[0.6666666666666666,\"#ed7953\"],[0.7777777777777778,\"#fb9f3a\"],[0.8888888888888888,\"#fdca26\"],[1.0,\"#f0f921\"]]}],\"contourcarpet\":[{\"type\":\"contourcarpet\",\"colorbar\":{\"outlinewidth\":0,\"ticks\":\"\"}}],\"contour\":[{\"type\":\"contour\",\"colorbar\":{\"outlinewidth\":0,\"ticks\":\"\"},\"colorscale\":[[0.0,\"#0d0887\"],[0.1111111111111111,\"#46039f\"],[0.2222222222222222,\"#7201a8\"],[0.3333333333333333,\"#9c179e\"],[0.4444444444444444,\"#bd3786\"],[0.5555555555555556,\"#d8576b\"],[0.6666666666666666,\"#ed7953\"],[0.7777777777777778,\"#fb9f3a\"],[0.8888888888888888,\"#fdca26\"],[1.0,\"#f0f921\"]]}],\"surface\":[{\"type\":\"surface\",\"colorbar\":{\"outlinewidth\":0,\"ticks\":\"\"},\"colorscale\":[[0.0,\"#0d0887\"],[0.1111111111111111,\"#46039f\"],[0.2222222222222222,\"#7201a8\"],[0.3333333333333333,\"#9c179e\"],[0.4444444444444444,\"#bd3786\"],[0.5555555555555556,\"#d8576b\"],[0.6666666666666666,\"#ed7953\"],[0.7777777777777778,\"#fb9f3a\"],[0.8888888888888888,\"#fdca26\"],[1.0,\"#f0f921\"]]}],\"mesh3d\":[{\"type\":\"mesh3d\",\"colorbar\":{\"outlinewidth\":0,\"ticks\":\"\"}}],\"scatter\":[{\"fillpattern\":{\"fillmode\":\"overlay\",\"size\":10,\"solidity\":0.2},\"type\":\"scatter\"}],\"parcoords\":[{\"type\":\"parcoords\",\"line\":{\"colorbar\":{\"outlinewidth\":0,\"ticks\":\"\"}}}],\"scatterpolargl\":[{\"type\":\"scatterpolargl\",\"marker\":{\"colorbar\":{\"outlinewidth\":0,\"ticks\":\"\"}}}],\"bar\":[{\"error_x\":{\"color\":\"#2a3f5f\"},\"error_y\":{\"color\":\"#2a3f5f\"},\"marker\":{\"line\":{\"color\":\"#E5ECF6\",\"width\":0.5},\"pattern\":{\"fillmode\":\"overlay\",\"size\":10,\"solidity\":0.2}},\"type\":\"bar\"}],\"scattergeo\":[{\"type\":\"scattergeo\",\"marker\":{\"colorbar\":{\"outlinewidth\":0,\"ticks\":\"\"}}}],\"scatterpolar\":[{\"type\":\"scatterpolar\",\"marker\":{\"colorbar\":{\"outlinewidth\":0,\"ticks\":\"\"}}}],\"histogram\":[{\"marker\":{\"pattern\":{\"fillmode\":\"overlay\",\"size\":10,\"solidity\":0.2}},\"type\":\"histogram\"}],\"scattergl\":[{\"type\":\"scattergl\",\"marker\":{\"colorbar\":{\"outlinewidth\":0,\"ticks\":\"\"}}}],\"scatter3d\":[{\"type\":\"scatter3d\",\"line\":{\"colorbar\":{\"outlinewidth\":0,\"ticks\":\"\"}},\"marker\":{\"colorbar\":{\"outlinewidth\":0,\"ticks\":\"\"}}}],\"scattermapbox\":[{\"type\":\"scattermapbox\",\"marker\":{\"colorbar\":{\"outlinewidth\":0,\"ticks\":\"\"}}}],\"scatterternary\":[{\"type\":\"scatterternary\",\"marker\":{\"colorbar\":{\"outlinewidth\":0,\"ticks\":\"\"}}}],\"scattercarpet\":[{\"type\":\"scattercarpet\",\"marker\":{\"colorbar\":{\"outlinewidth\":0,\"ticks\":\"\"}}}],\"carpet\":[{\"aaxis\":{\"endlinecolor\":\"#2a3f5f\",\"gridcolor\":\"white\",\"linecolor\":\"white\",\"minorgridcolor\":\"white\",\"startlinecolor\":\"#2a3f5f\"},\"baxis\":{\"endlinecolor\":\"#2a3f5f\",\"gridcolor\":\"white\",\"linecolor\":\"white\",\"minorgridcolor\":\"white\",\"startlinecolor\":\"#2a3f5f\"},\"type\":\"carpet\"}],\"table\":[{\"cells\":{\"fill\":{\"color\":\"#EBF0F8\"},\"line\":{\"color\":\"white\"}},\"header\":{\"fill\":{\"color\":\"#C8D4E3\"},\"line\":{\"color\":\"white\"}},\"type\":\"table\"}],\"barpolar\":[{\"marker\":{\"line\":{\"color\":\"#E5ECF6\",\"width\":0.5},\"pattern\":{\"fillmode\":\"overlay\",\"size\":10,\"solidity\":0.2}},\"type\":\"barpolar\"}],\"pie\":[{\"automargin\":true,\"type\":\"pie\"}]},\"layout\":{\"autotypenumbers\":\"strict\",\"colorway\":[\"#636efa\",\"#EF553B\",\"#00cc96\",\"#ab63fa\",\"#FFA15A\",\"#19d3f3\",\"#FF6692\",\"#B6E880\",\"#FF97FF\",\"#FECB52\"],\"font\":{\"color\":\"#2a3f5f\"},\"hovermode\":\"closest\",\"hoverlabel\":{\"align\":\"left\"},\"paper_bgcolor\":\"white\",\"plot_bgcolor\":\"#E5ECF6\",\"polar\":{\"bgcolor\":\"#E5ECF6\",\"angularaxis\":{\"gridcolor\":\"white\",\"linecolor\":\"white\",\"ticks\":\"\"},\"radialaxis\":{\"gridcolor\":\"white\",\"linecolor\":\"white\",\"ticks\":\"\"}},\"ternary\":{\"bgcolor\":\"#E5ECF6\",\"aaxis\":{\"gridcolor\":\"white\",\"linecolor\":\"white\",\"ticks\":\"\"},\"baxis\":{\"gridcolor\":\"white\",\"linecolor\":\"white\",\"ticks\":\"\"},\"caxis\":{\"gridcolor\":\"white\",\"linecolor\":\"white\",\"ticks\":\"\"}},\"coloraxis\":{\"colorbar\":{\"outlinewidth\":0,\"ticks\":\"\"}},\"colorscale\":{\"sequential\":[[0.0,\"#0d0887\"],[0.1111111111111111,\"#46039f\"],[0.2222222222222222,\"#7201a8\"],[0.3333333333333333,\"#9c179e\"],[0.4444444444444444,\"#bd3786\"],[0.5555555555555556,\"#d8576b\"],[0.6666666666666666,\"#ed7953\"],[0.7777777777777778,\"#fb9f3a\"],[0.8888888888888888,\"#fdca26\"],[1.0,\"#f0f921\"]],\"sequentialminus\":[[0.0,\"#0d0887\"],[0.1111111111111111,\"#46039f\"],[0.2222222222222222,\"#7201a8\"],[0.3333333333333333,\"#9c179e\"],[0.4444444444444444,\"#bd3786\"],[0.5555555555555556,\"#d8576b\"],[0.6666666666666666,\"#ed7953\"],[0.7777777777777778,\"#fb9f3a\"],[0.8888888888888888,\"#fdca26\"],[1.0,\"#f0f921\"]],\"diverging\":[[0,\"#8e0152\"],[0.1,\"#c51b7d\"],[0.2,\"#de77ae\"],[0.3,\"#f1b6da\"],[0.4,\"#fde0ef\"],[0.5,\"#f7f7f7\"],[0.6,\"#e6f5d0\"],[0.7,\"#b8e186\"],[0.8,\"#7fbc41\"],[0.9,\"#4d9221\"],[1,\"#276419\"]]},\"xaxis\":{\"gridcolor\":\"white\",\"linecolor\":\"white\",\"ticks\":\"\",\"title\":{\"standoff\":15},\"zerolinecolor\":\"white\",\"automargin\":true,\"zerolinewidth\":2},\"yaxis\":{\"gridcolor\":\"white\",\"linecolor\":\"white\",\"ticks\":\"\",\"title\":{\"standoff\":15},\"zerolinecolor\":\"white\",\"automargin\":true,\"zerolinewidth\":2},\"scene\":{\"xaxis\":{\"backgroundcolor\":\"#E5ECF6\",\"gridcolor\":\"white\",\"linecolor\":\"white\",\"showbackground\":true,\"ticks\":\"\",\"zerolinecolor\":\"white\",\"gridwidth\":2},\"yaxis\":{\"backgroundcolor\":\"#E5ECF6\",\"gridcolor\":\"white\",\"linecolor\":\"white\",\"showbackground\":true,\"ticks\":\"\",\"zerolinecolor\":\"white\",\"gridwidth\":2},\"zaxis\":{\"backgroundcolor\":\"#E5ECF6\",\"gridcolor\":\"white\",\"linecolor\":\"white\",\"showbackground\":true,\"ticks\":\"\",\"zerolinecolor\":\"white\",\"gridwidth\":2}},\"shapedefaults\":{\"line\":{\"color\":\"#2a3f5f\"}},\"annotationdefaults\":{\"arrowcolor\":\"#2a3f5f\",\"arrowhead\":0,\"arrowwidth\":1},\"geo\":{\"bgcolor\":\"white\",\"landcolor\":\"#E5ECF6\",\"subunitcolor\":\"white\",\"showland\":true,\"showlakes\":true,\"lakecolor\":\"white\"},\"title\":{\"x\":0.05},\"mapbox\":{\"style\":\"light\"}}},\"xaxis\":{\"anchor\":\"y\",\"domain\":[0.0,1.0],\"title\":{\"text\":\"personal_status\"}},\"yaxis\":{\"anchor\":\"x\",\"domain\":[0.0,1.0],\"title\":{\"text\":\"credit_amount\"}},\"legend\":{\"title\":{\"text\":\"class\"},\"tracegroupgap\":0},\"title\":{\"text\":\"Personal Status by Credit Class\"},\"barmode\":\"relative\"},                        {\"responsive\": true}                    ).then(function(){\n",
              "                            \n",
              "var gd = document.getElementById('1a9cdd7d-2fa7-4d2c-9bc2-716fd08e48af');\n",
              "var x = new MutationObserver(function (mutations, observer) {{\n",
              "        var display = window.getComputedStyle(gd).display;\n",
              "        if (!display || display === 'none') {{\n",
              "            console.log([gd, 'removed!']);\n",
              "            Plotly.purge(gd);\n",
              "            observer.disconnect();\n",
              "        }}\n",
              "}});\n",
              "\n",
              "// Listen for the removal of the full notebook cells\n",
              "var notebookContainer = gd.closest('#notebook-container');\n",
              "if (notebookContainer) {{\n",
              "    x.observe(notebookContainer, {childList: true});\n",
              "}}\n",
              "\n",
              "// Listen for the clearing of the current output cell\n",
              "var outputEl = gd.closest('.output');\n",
              "if (outputEl) {{\n",
              "    x.observe(outputEl, {childList: true});\n",
              "}}\n",
              "\n",
              "                        })                };                            </script>        </div>\n",
              "</body>\n",
              "</html>"
            ]
          },
          "metadata": {}
        }
      ],
      "source": [
        "px.bar(df, x='personal_status', y='credit_amount', color='class',\n",
        "             title='Personal Status by Credit Class')"
      ]
    },
    {
      "cell_type": "markdown",
      "source": [
        "let's closely observe whether the bank lend more to female than male even when both has divorce status?"
      ],
      "metadata": {
        "id": "JSWvLJ1ReW2a"
      }
    },
    {
      "cell_type": "code",
      "source": [
        "# Filter the data for divorced men and women\n",
        "divorced_men = df[(df['personal_status'].str.contains('male div'))]\n",
        "divorced_women = df[(df['personal_status'].str.contains('female div'))]\n",
        "\n",
        "# Calculate summary statistics or use the entire subset for visualization\n",
        "# For example, to calculate the median credit amount for divorced men and women\n",
        "median_credit_men = divorced_men['credit_amount'].median()\n",
        "median_credit_women = divorced_women['credit_amount'].median()\n",
        "\n",
        "# Create a bar plot to compare the median credit amounts\n",
        "px.bar(\n",
        "    x=['Divorced Men', 'Divorced Women'],\n",
        "    y=[median_credit_men, median_credit_women],\n",
        "    title='Comparison of Median Credit Amount Between Divorced Men and Women',\n",
        "    labels={'x': 'Group', 'y': 'Median Credit Amount'}\n",
        ")"
      ],
      "metadata": {
        "colab": {
          "base_uri": "https://localhost:8080/",
          "height": 542
        },
        "id": "u47lfVFzeUuM",
        "outputId": "649568d1-eace-43db-9fdb-3b05c5f2cb85"
      },
      "execution_count": 63,
      "outputs": [
        {
          "output_type": "display_data",
          "data": {
            "text/html": [
              "<html>\n",
              "<head><meta charset=\"utf-8\" /></head>\n",
              "<body>\n",
              "    <div>            <script src=\"https://cdnjs.cloudflare.com/ajax/libs/mathjax/2.7.5/MathJax.js?config=TeX-AMS-MML_SVG\"></script><script type=\"text/javascript\">if (window.MathJax && window.MathJax.Hub && window.MathJax.Hub.Config) {window.MathJax.Hub.Config({SVG: {font: \"STIX-Web\"}});}</script>                <script type=\"text/javascript\">window.PlotlyConfig = {MathJaxConfig: 'local'};</script>\n",
              "        <script charset=\"utf-8\" src=\"https://cdn.plot.ly/plotly-2.24.1.min.js\"></script>                <div id=\"1c761dde-d188-4e6b-ad87-dd8c538b0ac8\" class=\"plotly-graph-div\" style=\"height:525px; width:100%;\"></div>            <script type=\"text/javascript\">                                    window.PLOTLYENV=window.PLOTLYENV || {};                                    if (document.getElementById(\"1c761dde-d188-4e6b-ad87-dd8c538b0ac8\")) {                    Plotly.newPlot(                        \"1c761dde-d188-4e6b-ad87-dd8c538b0ac8\",                        [{\"alignmentgroup\":\"True\",\"hovertemplate\":\"Group=%{x}\\u003cbr\\u003eMedian Credit Amount=%{y}\\u003cextra\\u003e\\u003c\\u002fextra\\u003e\",\"legendgroup\":\"\",\"marker\":{\"color\":\"#636efa\",\"pattern\":{\"shape\":\"\"}},\"name\":\"\",\"offsetgroup\":\"\",\"orientation\":\"v\",\"showlegend\":false,\"textposition\":\"auto\",\"x\":[\"Divorced Men\",\"Divorced Women\"],\"xaxis\":\"x\",\"y\":[2087.0,1959.0],\"yaxis\":\"y\",\"type\":\"bar\"}],                        {\"template\":{\"data\":{\"histogram2dcontour\":[{\"type\":\"histogram2dcontour\",\"colorbar\":{\"outlinewidth\":0,\"ticks\":\"\"},\"colorscale\":[[0.0,\"#0d0887\"],[0.1111111111111111,\"#46039f\"],[0.2222222222222222,\"#7201a8\"],[0.3333333333333333,\"#9c179e\"],[0.4444444444444444,\"#bd3786\"],[0.5555555555555556,\"#d8576b\"],[0.6666666666666666,\"#ed7953\"],[0.7777777777777778,\"#fb9f3a\"],[0.8888888888888888,\"#fdca26\"],[1.0,\"#f0f921\"]]}],\"choropleth\":[{\"type\":\"choropleth\",\"colorbar\":{\"outlinewidth\":0,\"ticks\":\"\"}}],\"histogram2d\":[{\"type\":\"histogram2d\",\"colorbar\":{\"outlinewidth\":0,\"ticks\":\"\"},\"colorscale\":[[0.0,\"#0d0887\"],[0.1111111111111111,\"#46039f\"],[0.2222222222222222,\"#7201a8\"],[0.3333333333333333,\"#9c179e\"],[0.4444444444444444,\"#bd3786\"],[0.5555555555555556,\"#d8576b\"],[0.6666666666666666,\"#ed7953\"],[0.7777777777777778,\"#fb9f3a\"],[0.8888888888888888,\"#fdca26\"],[1.0,\"#f0f921\"]]}],\"heatmap\":[{\"type\":\"heatmap\",\"colorbar\":{\"outlinewidth\":0,\"ticks\":\"\"},\"colorscale\":[[0.0,\"#0d0887\"],[0.1111111111111111,\"#46039f\"],[0.2222222222222222,\"#7201a8\"],[0.3333333333333333,\"#9c179e\"],[0.4444444444444444,\"#bd3786\"],[0.5555555555555556,\"#d8576b\"],[0.6666666666666666,\"#ed7953\"],[0.7777777777777778,\"#fb9f3a\"],[0.8888888888888888,\"#fdca26\"],[1.0,\"#f0f921\"]]}],\"heatmapgl\":[{\"type\":\"heatmapgl\",\"colorbar\":{\"outlinewidth\":0,\"ticks\":\"\"},\"colorscale\":[[0.0,\"#0d0887\"],[0.1111111111111111,\"#46039f\"],[0.2222222222222222,\"#7201a8\"],[0.3333333333333333,\"#9c179e\"],[0.4444444444444444,\"#bd3786\"],[0.5555555555555556,\"#d8576b\"],[0.6666666666666666,\"#ed7953\"],[0.7777777777777778,\"#fb9f3a\"],[0.8888888888888888,\"#fdca26\"],[1.0,\"#f0f921\"]]}],\"contourcarpet\":[{\"type\":\"contourcarpet\",\"colorbar\":{\"outlinewidth\":0,\"ticks\":\"\"}}],\"contour\":[{\"type\":\"contour\",\"colorbar\":{\"outlinewidth\":0,\"ticks\":\"\"},\"colorscale\":[[0.0,\"#0d0887\"],[0.1111111111111111,\"#46039f\"],[0.2222222222222222,\"#7201a8\"],[0.3333333333333333,\"#9c179e\"],[0.4444444444444444,\"#bd3786\"],[0.5555555555555556,\"#d8576b\"],[0.6666666666666666,\"#ed7953\"],[0.7777777777777778,\"#fb9f3a\"],[0.8888888888888888,\"#fdca26\"],[1.0,\"#f0f921\"]]}],\"surface\":[{\"type\":\"surface\",\"colorbar\":{\"outlinewidth\":0,\"ticks\":\"\"},\"colorscale\":[[0.0,\"#0d0887\"],[0.1111111111111111,\"#46039f\"],[0.2222222222222222,\"#7201a8\"],[0.3333333333333333,\"#9c179e\"],[0.4444444444444444,\"#bd3786\"],[0.5555555555555556,\"#d8576b\"],[0.6666666666666666,\"#ed7953\"],[0.7777777777777778,\"#fb9f3a\"],[0.8888888888888888,\"#fdca26\"],[1.0,\"#f0f921\"]]}],\"mesh3d\":[{\"type\":\"mesh3d\",\"colorbar\":{\"outlinewidth\":0,\"ticks\":\"\"}}],\"scatter\":[{\"fillpattern\":{\"fillmode\":\"overlay\",\"size\":10,\"solidity\":0.2},\"type\":\"scatter\"}],\"parcoords\":[{\"type\":\"parcoords\",\"line\":{\"colorbar\":{\"outlinewidth\":0,\"ticks\":\"\"}}}],\"scatterpolargl\":[{\"type\":\"scatterpolargl\",\"marker\":{\"colorbar\":{\"outlinewidth\":0,\"ticks\":\"\"}}}],\"bar\":[{\"error_x\":{\"color\":\"#2a3f5f\"},\"error_y\":{\"color\":\"#2a3f5f\"},\"marker\":{\"line\":{\"color\":\"#E5ECF6\",\"width\":0.5},\"pattern\":{\"fillmode\":\"overlay\",\"size\":10,\"solidity\":0.2}},\"type\":\"bar\"}],\"scattergeo\":[{\"type\":\"scattergeo\",\"marker\":{\"colorbar\":{\"outlinewidth\":0,\"ticks\":\"\"}}}],\"scatterpolar\":[{\"type\":\"scatterpolar\",\"marker\":{\"colorbar\":{\"outlinewidth\":0,\"ticks\":\"\"}}}],\"histogram\":[{\"marker\":{\"pattern\":{\"fillmode\":\"overlay\",\"size\":10,\"solidity\":0.2}},\"type\":\"histogram\"}],\"scattergl\":[{\"type\":\"scattergl\",\"marker\":{\"colorbar\":{\"outlinewidth\":0,\"ticks\":\"\"}}}],\"scatter3d\":[{\"type\":\"scatter3d\",\"line\":{\"colorbar\":{\"outlinewidth\":0,\"ticks\":\"\"}},\"marker\":{\"colorbar\":{\"outlinewidth\":0,\"ticks\":\"\"}}}],\"scattermapbox\":[{\"type\":\"scattermapbox\",\"marker\":{\"colorbar\":{\"outlinewidth\":0,\"ticks\":\"\"}}}],\"scatterternary\":[{\"type\":\"scatterternary\",\"marker\":{\"colorbar\":{\"outlinewidth\":0,\"ticks\":\"\"}}}],\"scattercarpet\":[{\"type\":\"scattercarpet\",\"marker\":{\"colorbar\":{\"outlinewidth\":0,\"ticks\":\"\"}}}],\"carpet\":[{\"aaxis\":{\"endlinecolor\":\"#2a3f5f\",\"gridcolor\":\"white\",\"linecolor\":\"white\",\"minorgridcolor\":\"white\",\"startlinecolor\":\"#2a3f5f\"},\"baxis\":{\"endlinecolor\":\"#2a3f5f\",\"gridcolor\":\"white\",\"linecolor\":\"white\",\"minorgridcolor\":\"white\",\"startlinecolor\":\"#2a3f5f\"},\"type\":\"carpet\"}],\"table\":[{\"cells\":{\"fill\":{\"color\":\"#EBF0F8\"},\"line\":{\"color\":\"white\"}},\"header\":{\"fill\":{\"color\":\"#C8D4E3\"},\"line\":{\"color\":\"white\"}},\"type\":\"table\"}],\"barpolar\":[{\"marker\":{\"line\":{\"color\":\"#E5ECF6\",\"width\":0.5},\"pattern\":{\"fillmode\":\"overlay\",\"size\":10,\"solidity\":0.2}},\"type\":\"barpolar\"}],\"pie\":[{\"automargin\":true,\"type\":\"pie\"}]},\"layout\":{\"autotypenumbers\":\"strict\",\"colorway\":[\"#636efa\",\"#EF553B\",\"#00cc96\",\"#ab63fa\",\"#FFA15A\",\"#19d3f3\",\"#FF6692\",\"#B6E880\",\"#FF97FF\",\"#FECB52\"],\"font\":{\"color\":\"#2a3f5f\"},\"hovermode\":\"closest\",\"hoverlabel\":{\"align\":\"left\"},\"paper_bgcolor\":\"white\",\"plot_bgcolor\":\"#E5ECF6\",\"polar\":{\"bgcolor\":\"#E5ECF6\",\"angularaxis\":{\"gridcolor\":\"white\",\"linecolor\":\"white\",\"ticks\":\"\"},\"radialaxis\":{\"gridcolor\":\"white\",\"linecolor\":\"white\",\"ticks\":\"\"}},\"ternary\":{\"bgcolor\":\"#E5ECF6\",\"aaxis\":{\"gridcolor\":\"white\",\"linecolor\":\"white\",\"ticks\":\"\"},\"baxis\":{\"gridcolor\":\"white\",\"linecolor\":\"white\",\"ticks\":\"\"},\"caxis\":{\"gridcolor\":\"white\",\"linecolor\":\"white\",\"ticks\":\"\"}},\"coloraxis\":{\"colorbar\":{\"outlinewidth\":0,\"ticks\":\"\"}},\"colorscale\":{\"sequential\":[[0.0,\"#0d0887\"],[0.1111111111111111,\"#46039f\"],[0.2222222222222222,\"#7201a8\"],[0.3333333333333333,\"#9c179e\"],[0.4444444444444444,\"#bd3786\"],[0.5555555555555556,\"#d8576b\"],[0.6666666666666666,\"#ed7953\"],[0.7777777777777778,\"#fb9f3a\"],[0.8888888888888888,\"#fdca26\"],[1.0,\"#f0f921\"]],\"sequentialminus\":[[0.0,\"#0d0887\"],[0.1111111111111111,\"#46039f\"],[0.2222222222222222,\"#7201a8\"],[0.3333333333333333,\"#9c179e\"],[0.4444444444444444,\"#bd3786\"],[0.5555555555555556,\"#d8576b\"],[0.6666666666666666,\"#ed7953\"],[0.7777777777777778,\"#fb9f3a\"],[0.8888888888888888,\"#fdca26\"],[1.0,\"#f0f921\"]],\"diverging\":[[0,\"#8e0152\"],[0.1,\"#c51b7d\"],[0.2,\"#de77ae\"],[0.3,\"#f1b6da\"],[0.4,\"#fde0ef\"],[0.5,\"#f7f7f7\"],[0.6,\"#e6f5d0\"],[0.7,\"#b8e186\"],[0.8,\"#7fbc41\"],[0.9,\"#4d9221\"],[1,\"#276419\"]]},\"xaxis\":{\"gridcolor\":\"white\",\"linecolor\":\"white\",\"ticks\":\"\",\"title\":{\"standoff\":15},\"zerolinecolor\":\"white\",\"automargin\":true,\"zerolinewidth\":2},\"yaxis\":{\"gridcolor\":\"white\",\"linecolor\":\"white\",\"ticks\":\"\",\"title\":{\"standoff\":15},\"zerolinecolor\":\"white\",\"automargin\":true,\"zerolinewidth\":2},\"scene\":{\"xaxis\":{\"backgroundcolor\":\"#E5ECF6\",\"gridcolor\":\"white\",\"linecolor\":\"white\",\"showbackground\":true,\"ticks\":\"\",\"zerolinecolor\":\"white\",\"gridwidth\":2},\"yaxis\":{\"backgroundcolor\":\"#E5ECF6\",\"gridcolor\":\"white\",\"linecolor\":\"white\",\"showbackground\":true,\"ticks\":\"\",\"zerolinecolor\":\"white\",\"gridwidth\":2},\"zaxis\":{\"backgroundcolor\":\"#E5ECF6\",\"gridcolor\":\"white\",\"linecolor\":\"white\",\"showbackground\":true,\"ticks\":\"\",\"zerolinecolor\":\"white\",\"gridwidth\":2}},\"shapedefaults\":{\"line\":{\"color\":\"#2a3f5f\"}},\"annotationdefaults\":{\"arrowcolor\":\"#2a3f5f\",\"arrowhead\":0,\"arrowwidth\":1},\"geo\":{\"bgcolor\":\"white\",\"landcolor\":\"#E5ECF6\",\"subunitcolor\":\"white\",\"showland\":true,\"showlakes\":true,\"lakecolor\":\"white\"},\"title\":{\"x\":0.05},\"mapbox\":{\"style\":\"light\"}}},\"xaxis\":{\"anchor\":\"y\",\"domain\":[0.0,1.0],\"title\":{\"text\":\"Group\"}},\"yaxis\":{\"anchor\":\"x\",\"domain\":[0.0,1.0],\"title\":{\"text\":\"Median Credit Amount\"}},\"legend\":{\"tracegroupgap\":0},\"title\":{\"text\":\"Comparison of Median Credit Amount Between Divorced Men and Women\"},\"barmode\":\"relative\"},                        {\"responsive\": true}                    ).then(function(){\n",
              "                            \n",
              "var gd = document.getElementById('1c761dde-d188-4e6b-ad87-dd8c538b0ac8');\n",
              "var x = new MutationObserver(function (mutations, observer) {{\n",
              "        var display = window.getComputedStyle(gd).display;\n",
              "        if (!display || display === 'none') {{\n",
              "            console.log([gd, 'removed!']);\n",
              "            Plotly.purge(gd);\n",
              "            observer.disconnect();\n",
              "        }}\n",
              "}});\n",
              "\n",
              "// Listen for the removal of the full notebook cells\n",
              "var notebookContainer = gd.closest('#notebook-container');\n",
              "if (notebookContainer) {{\n",
              "    x.observe(notebookContainer, {childList: true});\n",
              "}}\n",
              "\n",
              "// Listen for the clearing of the current output cell\n",
              "var outputEl = gd.closest('.output');\n",
              "if (outputEl) {{\n",
              "    x.observe(outputEl, {childList: true});\n",
              "}}\n",
              "\n",
              "                        })                };                            </script>        </div>\n",
              "</body>\n",
              "</html>"
            ]
          },
          "metadata": {}
        }
      ]
    },
    {
      "cell_type": "markdown",
      "source": [
        "this intuitively make sense, that when customer face divorce, their financial would be unstable therefore it is risk to lend divorce customer either they are female or male."
      ],
      "metadata": {
        "id": "jM28zqq-cfCP"
      }
    },
    {
      "cell_type": "markdown",
      "source": [
        "# Conclusion:\n",
        "1. when you have a good credit score, bank tend to lend to you more\n",
        "2. If customer has risky status, the bank are unlikely to lend you more.\n",
        "3. when customer lending tend to with longer duration, the lend amount tend to increase as well.\n",
        "4. when you are single male, your credit amount tend to increase as well. Intuively speaking, it is probably that you are single, has no martial obligation, therefore, financially risk, you are indepently working and more potential with career growth. The bank sees this as an investment and therefore lend more to customer who are single.\n",
        "5. Lastly, the most customer borrows to buy radio/tv. This surprise to me because second to that is to buy a car which make sense where young males love cars, but to buy radio and tv is interesting."
      ],
      "metadata": {
        "id": "hLsw8dsTerY-"
      }
    }
  ],
  "metadata": {
    "kernelspec": {
      "display_name": "Python 3",
      "language": "python",
      "name": "python3"
    },
    "language_info": {
      "codemirror_mode": {
        "name": "ipython",
        "version": 3
      },
      "file_extension": ".py",
      "mimetype": "text/x-python",
      "name": "python",
      "nbconvert_exporter": "python",
      "pygments_lexer": "ipython3",
      "version": "3.8.8"
    },
    "colab": {
      "provenance": []
    }
  },
  "nbformat": 4,
  "nbformat_minor": 0
}